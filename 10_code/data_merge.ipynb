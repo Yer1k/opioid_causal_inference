{
 "cells": [
  {
   "cell_type": "markdown",
   "metadata": {},
   "source": [
    "# Data Merging Notebook"
   ]
  },
  {
   "cell_type": "markdown",
   "metadata": {},
   "source": [
    "#### This notebook merges data from the 20_intermediate_files directory and saves a merged dataset for final analysis. We use a notebook for this instead of a script for interpretability across teammates and easier error checking."
   ]
  },
  {
   "cell_type": "markdown",
   "metadata": {},
   "source": [
    "#### Imports"
   ]
  },
  {
   "cell_type": "code",
   "execution_count": 46,
   "metadata": {},
   "outputs": [],
   "source": [
    "import pandas as pd\n",
    "import numpy as np\n"
   ]
  },
  {
   "cell_type": "markdown",
   "metadata": {},
   "source": [
    "#### Import datasets"
   ]
  },
  {
   "cell_type": "code",
   "execution_count": 47,
   "metadata": {},
   "outputs": [],
   "source": [
    "# set directory\n",
    "working_dir = \"../20_intermediate_files/\"\n",
    "\n",
    "# set file paths\n",
    "census = working_dir + \"census_df.csv\"\n",
    "fips = working_dir + \"fips_df.csv\"\n",
    "vital = working_dir + \"vital_clean.csv\"\n",
    "wapo = working_dir + \"wapo_clean.csv\"\n"
   ]
  },
  {
   "cell_type": "code",
   "execution_count": 48,
   "metadata": {},
   "outputs": [],
   "source": [
    "# read in data\n",
    "census_df = pd.read_csv(census)\n",
    "fips_df = pd.read_csv(fips, dtype={\"FIPS\": str, \"STATE_FIPS\": str})\n",
    "vital_df = pd.read_csv(vital, dtype={\"FIPS\": str})\n",
    "wapo_df = pd.read_csv(wapo, dtype={\"YEAR\":str, \"MONTH\":str})\n"
   ]
  },
  {
   "cell_type": "markdown",
   "metadata": {},
   "source": [
    "#### Merge Prep"
   ]
  },
  {
   "cell_type": "code",
   "execution_count": 52,
   "metadata": {},
   "outputs": [],
   "source": [
    "# take a look at the data starting with census\n",
    "# census_df.sample(5)\n"
   ]
  },
  {
   "cell_type": "code",
   "execution_count": 51,
   "metadata": {},
   "outputs": [],
   "source": [
    "# fips_df.sample(5)"
   ]
  },
  {
   "cell_type": "code",
   "execution_count": 55,
   "metadata": {},
   "outputs": [],
   "source": [
    "# FIPS codes\n",
    "# fips_df.dtypes\n",
    "# fips_df.sample(5)\n"
   ]
  },
  {
   "cell_type": "code",
   "execution_count": 56,
   "metadata": {},
   "outputs": [
    {
     "data": {
      "text/html": [
       "<div>\n",
       "<style scoped>\n",
       "    .dataframe tbody tr th:only-of-type {\n",
       "        vertical-align: middle;\n",
       "    }\n",
       "\n",
       "    .dataframe tbody tr th {\n",
       "        vertical-align: top;\n",
       "    }\n",
       "\n",
       "    .dataframe thead th {\n",
       "        text-align: right;\n",
       "    }\n",
       "</style>\n",
       "<table border=\"1\" class=\"dataframe\">\n",
       "  <thead>\n",
       "    <tr style=\"text-align: right;\">\n",
       "      <th></th>\n",
       "      <th>COUNTY_NAME</th>\n",
       "      <th>FIPS</th>\n",
       "      <th>YEAR</th>\n",
       "      <th>STATE</th>\n",
       "      <th>DRUG</th>\n",
       "      <th>DEATHS</th>\n",
       "      <th>merge_key</th>\n",
       "    </tr>\n",
       "  </thead>\n",
       "  <tbody>\n",
       "    <tr>\n",
       "      <th>75</th>\n",
       "      <td>BLOUNT COUNTY, AL</td>\n",
       "      <td>001009</td>\n",
       "      <td>2008</td>\n",
       "      <td>AL</td>\n",
       "      <td>1</td>\n",
       "      <td>15</td>\n",
       "      <td>BLOUNT COUNTY, AL2008</td>\n",
       "    </tr>\n",
       "    <tr>\n",
       "      <th>592</th>\n",
       "      <td>JACKSON COUNTY, OR</td>\n",
       "      <td>041029</td>\n",
       "      <td>2008</td>\n",
       "      <td>OR</td>\n",
       "      <td>1</td>\n",
       "      <td>14</td>\n",
       "      <td>JACKSON COUNTY, OR2008</td>\n",
       "    </tr>\n",
       "    <tr>\n",
       "      <th>868</th>\n",
       "      <td>MIAMI-DADE COUNTY, FL</td>\n",
       "      <td>012086</td>\n",
       "      <td>2012</td>\n",
       "      <td>FL</td>\n",
       "      <td>1</td>\n",
       "      <td>145</td>\n",
       "      <td>MIAMI-DADE COUNTY, FL2012</td>\n",
       "    </tr>\n",
       "    <tr>\n",
       "      <th>284</th>\n",
       "      <td>COMAL COUNTY, TX</td>\n",
       "      <td>048091</td>\n",
       "      <td>2003</td>\n",
       "      <td>TX</td>\n",
       "      <td>1</td>\n",
       "      <td>10</td>\n",
       "      <td>COMAL COUNTY, TX2003</td>\n",
       "    </tr>\n",
       "    <tr>\n",
       "      <th>980</th>\n",
       "      <td>OKALOOSA COUNTY, FL</td>\n",
       "      <td>012091</td>\n",
       "      <td>2003</td>\n",
       "      <td>FL</td>\n",
       "      <td>1</td>\n",
       "      <td>20</td>\n",
       "      <td>OKALOOSA COUNTY, FL2003</td>\n",
       "    </tr>\n",
       "  </tbody>\n",
       "</table>\n",
       "</div>"
      ],
      "text/plain": [
       "               COUNTY_NAME    FIPS  YEAR STATE  DRUG  DEATHS  \\\n",
       "75       BLOUNT COUNTY, AL  001009  2008    AL     1      15   \n",
       "592     JACKSON COUNTY, OR  041029  2008    OR     1      14   \n",
       "868  MIAMI-DADE COUNTY, FL  012086  2012    FL     1     145   \n",
       "284       COMAL COUNTY, TX  048091  2003    TX     1      10   \n",
       "980    OKALOOSA COUNTY, FL  012091  2003    FL     1      20   \n",
       "\n",
       "                     merge_key  \n",
       "75       BLOUNT COUNTY, AL2008  \n",
       "592     JACKSON COUNTY, OR2008  \n",
       "868  MIAMI-DADE COUNTY, FL2012  \n",
       "284       COMAL COUNTY, TX2003  \n",
       "980    OKALOOSA COUNTY, FL2003  "
      ]
     },
     "execution_count": 56,
     "metadata": {},
     "output_type": "execute_result"
    }
   ],
   "source": [
    "# vital df year as datetime\n",
    "# vital_df[\"YEAR\"] = pd.to_datetime(vital_df[\"YEAR\"], format=\"%Y-%m-%d\")\n",
    "\n",
    "# Add a column for the merge key: County_name+year\n",
    "vital_df[\"merge_key\"] = vital_df[\"COUNTY_NAME\"] + vital_df[\"YEAR\"].astype(str)\n",
    "\n",
    "# Vital Stats\n",
    "vital_df.sample(5)\n"
   ]
  },
  {
   "cell_type": "code",
   "execution_count": 61,
   "metadata": {},
   "outputs": [
    {
     "data": {
      "text/plain": [
       "COUNTY_NAME    object\n",
       "FIPS           object\n",
       "YEAR            int64\n",
       "STATE          object\n",
       "DRUG            int64\n",
       "DEATHS          int64\n",
       "merge_key      object\n",
       "dtype: object"
      ]
     },
     "execution_count": 61,
     "metadata": {},
     "output_type": "execute_result"
    }
   ],
   "source": [
    "vital_df.dtypes"
   ]
  },
  {
   "cell_type": "code",
   "execution_count": 62,
   "metadata": {},
   "outputs": [
    {
     "data": {
      "text/html": [
       "<div>\n",
       "<style scoped>\n",
       "    .dataframe tbody tr th:only-of-type {\n",
       "        vertical-align: middle;\n",
       "    }\n",
       "\n",
       "    .dataframe tbody tr th {\n",
       "        vertical-align: top;\n",
       "    }\n",
       "\n",
       "    .dataframe thead th {\n",
       "        text-align: right;\n",
       "    }\n",
       "</style>\n",
       "<table border=\"1\" class=\"dataframe\">\n",
       "  <thead>\n",
       "    <tr style=\"text-align: right;\">\n",
       "      <th></th>\n",
       "      <th>COUNTY_NAME</th>\n",
       "      <th>STATE</th>\n",
       "      <th>YEAR</th>\n",
       "      <th>MONTH</th>\n",
       "      <th>QUANTITY</th>\n",
       "      <th>merge_key</th>\n",
       "    </tr>\n",
       "  </thead>\n",
       "  <tbody>\n",
       "    <tr>\n",
       "      <th>3733</th>\n",
       "      <td>BRYAN COUNTY, OK</td>\n",
       "      <td>OK</td>\n",
       "      <td>2009</td>\n",
       "      <td>6</td>\n",
       "      <td>974.0</td>\n",
       "      <td>BRYAN COUNTY, OK2009</td>\n",
       "    </tr>\n",
       "    <tr>\n",
       "      <th>5441</th>\n",
       "      <td>CHARLOTTE COUNTY, FL</td>\n",
       "      <td>FL</td>\n",
       "      <td>2012</td>\n",
       "      <td>2</td>\n",
       "      <td>4976.0</td>\n",
       "      <td>CHARLOTTE COUNTY, FL2012</td>\n",
       "    </tr>\n",
       "    <tr>\n",
       "      <th>42018</th>\n",
       "      <td>YAKIMA COUNTY, WA</td>\n",
       "      <td>WA</td>\n",
       "      <td>2009</td>\n",
       "      <td>2</td>\n",
       "      <td>2955.0</td>\n",
       "      <td>YAKIMA COUNTY, WA2009</td>\n",
       "    </tr>\n",
       "    <tr>\n",
       "      <th>8059</th>\n",
       "      <td>COMAL COUNTY, TX</td>\n",
       "      <td>TX</td>\n",
       "      <td>2012</td>\n",
       "      <td>9</td>\n",
       "      <td>1602.0</td>\n",
       "      <td>COMAL COUNTY, TX2012</td>\n",
       "    </tr>\n",
       "    <tr>\n",
       "      <th>19451</th>\n",
       "      <td>JACKSON COUNTY, FL</td>\n",
       "      <td>FL</td>\n",
       "      <td>2010</td>\n",
       "      <td>7</td>\n",
       "      <td>924.0</td>\n",
       "      <td>JACKSON COUNTY, FL2010</td>\n",
       "    </tr>\n",
       "  </tbody>\n",
       "</table>\n",
       "</div>"
      ],
      "text/plain": [
       "                COUNTY_NAME STATE  YEAR MONTH  QUANTITY  \\\n",
       "3733       BRYAN COUNTY, OK    OK  2009     6     974.0   \n",
       "5441   CHARLOTTE COUNTY, FL    FL  2012     2    4976.0   \n",
       "42018     YAKIMA COUNTY, WA    WA  2009     2    2955.0   \n",
       "8059       COMAL COUNTY, TX    TX  2012     9    1602.0   \n",
       "19451    JACKSON COUNTY, FL    FL  2010     7     924.0   \n",
       "\n",
       "                      merge_key  \n",
       "3733       BRYAN COUNTY, OK2009  \n",
       "5441   CHARLOTTE COUNTY, FL2012  \n",
       "42018     YAKIMA COUNTY, WA2009  \n",
       "8059       COMAL COUNTY, TX2012  \n",
       "19451    JACKSON COUNTY, FL2010  "
      ]
     },
     "execution_count": 62,
     "metadata": {},
     "output_type": "execute_result"
    }
   ],
   "source": [
    "# Add the same merge key\n",
    "wapo_df[\"merge_key\"] = wapo_df[\"COUNTY_NAME\"] + wapo_df[\"YEAR\"].astype(str)\n",
    "\n",
    "# WAPO Data\n",
    "wapo_df.sample(5)"
   ]
  },
  {
   "cell_type": "markdown",
   "metadata": {},
   "source": [
    "#### Merging"
   ]
  },
  {
   "cell_type": "markdown",
   "metadata": {},
   "source": [
    "***We identify that the Vital Stats Dataframe has the base foundation well need to merge data, so we make a copy and call that our base dataframe.***"
   ]
  },
  {
   "cell_type": "code",
   "execution_count": 68,
   "metadata": {},
   "outputs": [],
   "source": [
    "base_df = vital_df.copy()\n"
   ]
  },
  {
   "cell_type": "markdown",
   "metadata": {},
   "source": [
    "***Merge the WAPO DF first***"
   ]
  },
  {
   "cell_type": "code",
   "execution_count": 70,
   "metadata": {},
   "outputs": [],
   "source": [
    "# merge the vital stats df\n",
    "merge_df = base_df.merge(wapo_df, on=\"merge_key\", how=\"outer\")\n"
   ]
  },
  {
   "cell_type": "code",
   "execution_count": 71,
   "metadata": {},
   "outputs": [
    {
     "data": {
      "text/html": [
       "<div>\n",
       "<style scoped>\n",
       "    .dataframe tbody tr th:only-of-type {\n",
       "        vertical-align: middle;\n",
       "    }\n",
       "\n",
       "    .dataframe tbody tr th {\n",
       "        vertical-align: top;\n",
       "    }\n",
       "\n",
       "    .dataframe thead th {\n",
       "        text-align: right;\n",
       "    }\n",
       "</style>\n",
       "<table border=\"1\" class=\"dataframe\">\n",
       "  <thead>\n",
       "    <tr style=\"text-align: right;\">\n",
       "      <th></th>\n",
       "      <th>COUNTY_NAME</th>\n",
       "      <th>FIPS</th>\n",
       "      <th>YEAR</th>\n",
       "      <th>STATE</th>\n",
       "      <th>DRUG</th>\n",
       "      <th>DEATHS</th>\n",
       "      <th>merge_key</th>\n",
       "      <th>YEAR_wapo</th>\n",
       "      <th>MONTH</th>\n",
       "      <th>SHIP_QUANTITY</th>\n",
       "    </tr>\n",
       "  </thead>\n",
       "  <tbody>\n",
       "    <tr>\n",
       "      <th>0</th>\n",
       "      <td>ALACHUA COUNTY, FL</td>\n",
       "      <td>012001</td>\n",
       "      <td>2003</td>\n",
       "      <td>FL</td>\n",
       "      <td>1.0</td>\n",
       "      <td>11.0</td>\n",
       "      <td>ALACHUA COUNTY, FL2003</td>\n",
       "      <td>NaN</td>\n",
       "      <td>NaN</td>\n",
       "      <td>NaN</td>\n",
       "    </tr>\n",
       "    <tr>\n",
       "      <th>1</th>\n",
       "      <td>ALACHUA COUNTY, FL</td>\n",
       "      <td>012001</td>\n",
       "      <td>2007</td>\n",
       "      <td>FL</td>\n",
       "      <td>1.0</td>\n",
       "      <td>17.0</td>\n",
       "      <td>ALACHUA COUNTY, FL2007</td>\n",
       "      <td>2007</td>\n",
       "      <td>1</td>\n",
       "      <td>876.0</td>\n",
       "    </tr>\n",
       "    <tr>\n",
       "      <th>2</th>\n",
       "      <td>ALACHUA COUNTY, FL</td>\n",
       "      <td>012001</td>\n",
       "      <td>2009</td>\n",
       "      <td>FL</td>\n",
       "      <td>1.0</td>\n",
       "      <td>17.0</td>\n",
       "      <td>ALACHUA COUNTY, FL2007</td>\n",
       "      <td>2007</td>\n",
       "      <td>2</td>\n",
       "      <td>4093.0</td>\n",
       "    </tr>\n",
       "    <tr>\n",
       "      <th>3</th>\n",
       "      <td>ALACHUA COUNTY, FL</td>\n",
       "      <td>012001</td>\n",
       "      <td>2010</td>\n",
       "      <td>FL</td>\n",
       "      <td>1.0</td>\n",
       "      <td>17.0</td>\n",
       "      <td>ALACHUA COUNTY, FL2007</td>\n",
       "      <td>2007</td>\n",
       "      <td>3</td>\n",
       "      <td>4414.0</td>\n",
       "    </tr>\n",
       "    <tr>\n",
       "      <th>4</th>\n",
       "      <td>ALACHUA COUNTY, FL</td>\n",
       "      <td>012001</td>\n",
       "      <td>2011</td>\n",
       "      <td>FL</td>\n",
       "      <td>1.0</td>\n",
       "      <td>17.0</td>\n",
       "      <td>ALACHUA COUNTY, FL2007</td>\n",
       "      <td>2007</td>\n",
       "      <td>4</td>\n",
       "      <td>4159.0</td>\n",
       "    </tr>\n",
       "  </tbody>\n",
       "</table>\n",
       "</div>"
      ],
      "text/plain": [
       "          COUNTY_NAME    FIPS  YEAR STATE  DRUG  DEATHS  \\\n",
       "0  ALACHUA COUNTY, FL  012001  2003    FL   1.0    11.0   \n",
       "1  ALACHUA COUNTY, FL  012001  2007    FL   1.0    17.0   \n",
       "2  ALACHUA COUNTY, FL  012001  2009    FL   1.0    17.0   \n",
       "3  ALACHUA COUNTY, FL  012001  2010    FL   1.0    17.0   \n",
       "4  ALACHUA COUNTY, FL  012001  2011    FL   1.0    17.0   \n",
       "\n",
       "                merge_key YEAR_wapo MONTH  SHIP_QUANTITY  \n",
       "0  ALACHUA COUNTY, FL2003       NaN   NaN            NaN  \n",
       "1  ALACHUA COUNTY, FL2007      2007     1          876.0  \n",
       "2  ALACHUA COUNTY, FL2007      2007     2         4093.0  \n",
       "3  ALACHUA COUNTY, FL2007      2007     3         4414.0  \n",
       "4  ALACHUA COUNTY, FL2007      2007     4         4159.0  "
      ]
     },
     "execution_count": 71,
     "metadata": {},
     "output_type": "execute_result"
    }
   ],
   "source": [
    "# Drop the COUNTY_NAME_wapo and STATE_wapo columns\n",
    "merge_df.drop(columns=[\"COUNTY_NAME_y\", \"STATE_y\"], inplace=True)\n",
    "\n",
    "# Rename the columns\n",
    "merge_df.rename(\n",
    "    columns={\n",
    "        \"COUNTY_NAME_x\": \"COUNTY_NAME\",\n",
    "        \"STATE_x\": \"STATE\",\n",
    "        \"YEAR_x\": \"YEAR\",\n",
    "        \"YEAR_y\": \"YEAR_wapo\",\n",
    "        \"QUANTITY\": \"SHIP_QUANTITY\",\n",
    "    },\n",
    "    inplace=True,\n",
    ")\n",
    "\n",
    "# Change Year to string\n",
    "merge_df[\"YEAR\"] = base_df[\"YEAR\"].astype(str)\n",
    "\n",
    "merge_df.head()\n"
   ]
  },
  {
   "cell_type": "code",
   "execution_count": 77,
   "metadata": {},
   "outputs": [
    {
     "data": {
      "text/html": [
       "<div>\n",
       "<style scoped>\n",
       "    .dataframe tbody tr th:only-of-type {\n",
       "        vertical-align: middle;\n",
       "    }\n",
       "\n",
       "    .dataframe tbody tr th {\n",
       "        vertical-align: top;\n",
       "    }\n",
       "\n",
       "    .dataframe thead th {\n",
       "        text-align: right;\n",
       "    }\n",
       "</style>\n",
       "<table border=\"1\" class=\"dataframe\">\n",
       "  <thead>\n",
       "    <tr style=\"text-align: right;\">\n",
       "      <th></th>\n",
       "      <th>COUNTY_NAME</th>\n",
       "      <th>FIPS</th>\n",
       "      <th>YEAR</th>\n",
       "      <th>STATE</th>\n",
       "      <th>DRUG</th>\n",
       "      <th>DEATHS</th>\n",
       "      <th>merge_key</th>\n",
       "      <th>YEAR_wapo</th>\n",
       "      <th>MONTH</th>\n",
       "      <th>SHIP_QUANTITY</th>\n",
       "    </tr>\n",
       "  </thead>\n",
       "  <tbody>\n",
       "    <tr>\n",
       "      <th>41852</th>\n",
       "      <td>NaN</td>\n",
       "      <td>NaN</td>\n",
       "      <td>NaN</td>\n",
       "      <td>NaN</td>\n",
       "      <td>NaN</td>\n",
       "      <td>NaN</td>\n",
       "      <td>WHITMAN COUNTY, WA2007</td>\n",
       "      <td>2007</td>\n",
       "      <td>3</td>\n",
       "      <td>416.0</td>\n",
       "    </tr>\n",
       "    <tr>\n",
       "      <th>27010</th>\n",
       "      <td>NaN</td>\n",
       "      <td>NaN</td>\n",
       "      <td>NaN</td>\n",
       "      <td>NaN</td>\n",
       "      <td>NaN</td>\n",
       "      <td>NaN</td>\n",
       "      <td>JOSEPHINE COUNTY, OR2006</td>\n",
       "      <td>2006</td>\n",
       "      <td>7</td>\n",
       "      <td>2032.0</td>\n",
       "    </tr>\n",
       "    <tr>\n",
       "      <th>34767</th>\n",
       "      <td>NaN</td>\n",
       "      <td>NaN</td>\n",
       "      <td>NaN</td>\n",
       "      <td>NaN</td>\n",
       "      <td>NaN</td>\n",
       "      <td>NaN</td>\n",
       "      <td>PECOS COUNTY, TX2007</td>\n",
       "      <td>2007</td>\n",
       "      <td>5</td>\n",
       "      <td>177.0</td>\n",
       "    </tr>\n",
       "    <tr>\n",
       "      <th>29713</th>\n",
       "      <td>NaN</td>\n",
       "      <td>NaN</td>\n",
       "      <td>NaN</td>\n",
       "      <td>NaN</td>\n",
       "      <td>NaN</td>\n",
       "      <td>NaN</td>\n",
       "      <td>LIMESTONE COUNTY, TX2011</td>\n",
       "      <td>2011</td>\n",
       "      <td>9</td>\n",
       "      <td>452.0</td>\n",
       "    </tr>\n",
       "    <tr>\n",
       "      <th>29956</th>\n",
       "      <td>NaN</td>\n",
       "      <td>NaN</td>\n",
       "      <td>NaN</td>\n",
       "      <td>NaN</td>\n",
       "      <td>NaN</td>\n",
       "      <td>NaN</td>\n",
       "      <td>LINCOLN COUNTY, WA2010</td>\n",
       "      <td>2010</td>\n",
       "      <td>12</td>\n",
       "      <td>234.0</td>\n",
       "    </tr>\n",
       "  </tbody>\n",
       "</table>\n",
       "</div>"
      ],
      "text/plain": [
       "      COUNTY_NAME FIPS YEAR STATE  DRUG  DEATHS                 merge_key  \\\n",
       "41852         NaN  NaN  NaN   NaN   NaN     NaN    WHITMAN COUNTY, WA2007   \n",
       "27010         NaN  NaN  NaN   NaN   NaN     NaN  JOSEPHINE COUNTY, OR2006   \n",
       "34767         NaN  NaN  NaN   NaN   NaN     NaN      PECOS COUNTY, TX2007   \n",
       "29713         NaN  NaN  NaN   NaN   NaN     NaN  LIMESTONE COUNTY, TX2011   \n",
       "29956         NaN  NaN  NaN   NaN   NaN     NaN    LINCOLN COUNTY, WA2010   \n",
       "\n",
       "      YEAR_wapo MONTH  SHIP_QUANTITY  \n",
       "41852      2007     3          416.0  \n",
       "27010      2006     7         2032.0  \n",
       "34767      2007     5          177.0  \n",
       "29713      2011     9          452.0  \n",
       "29956      2010    12          234.0  "
      ]
     },
     "execution_count": 77,
     "metadata": {},
     "output_type": "execute_result"
    }
   ],
   "source": [
    "merge_df.sample(5)"
   ]
  },
  {
   "cell_type": "code",
   "execution_count": 72,
   "metadata": {},
   "outputs": [],
   "source": [
    "# Reorder the columns\n",
    "cols = [\n",
    "    \"COUNTY_NAME\",\n",
    "    \"STATE\",\n",
    "    \"FIPS\",\n",
    "    \"MONTH\",\n",
    "    \"YEAR\",\n",
    "    \"YEAR_wapo\",\n",
    "    \"DEATHS\",\n",
    "    \"SHIP_QUANTITY\",\n",
    "]\n",
    "\n",
    "# make a new df with the better order\n",
    "new_df = merge_df[cols]\n",
    "\n",
    "\n",
    "# Houston, we have a problem\n"
   ]
  },
  {
   "cell_type": "code",
   "execution_count": 74,
   "metadata": {},
   "outputs": [
    {
     "data": {
      "text/plain": [
       "2003       81\n",
       "2004       94\n",
       "2005       96\n",
       "2006      103\n",
       "2007      108\n",
       "2008      117\n",
       "2009      125\n",
       "2012      125\n",
       "2010      126\n",
       "2013      126\n",
       "2011      128\n",
       "2014      131\n",
       "2015      137\n",
       "NaN     41672\n",
       "Name: YEAR, dtype: int64"
      ]
     },
     "execution_count": 74,
     "metadata": {},
     "output_type": "execute_result"
    }
   ],
   "source": [
    "# new_df.sample(10)\n",
    "\n",
    "new_df.YEAR.value_counts(dropna=False, sort=True, ascending=True)\n",
    "\n",
    "# new_df.YEAR_wapo.value_counts(dropna=False, sort=True, ascending=True)"
   ]
  },
  {
   "cell_type": "markdown",
   "metadata": {},
   "source": [
    "***Merge the Census Data Next***"
   ]
  },
  {
   "cell_type": "code",
   "execution_count": null,
   "metadata": {},
   "outputs": [],
   "source": [
    "# merge census data\n",
    "new_df = new_df.merge(census_df, on=\"COUNTY_NAME\", how=\"left\")\n"
   ]
  },
  {
   "cell_type": "code",
   "execution_count": null,
   "metadata": {},
   "outputs": [],
   "source": [
    "# drop STATE_y\n",
    "new_df.drop(columns=[\"STATE_y\"], inplace=True)\n",
    "\n",
    "# rename STATE_x to STATE\n",
    "new_df.rename(columns={\"STATE_x\": \"STATE\"}, inplace=True)\n",
    "\n",
    "new_df.sample(10)\n"
   ]
  },
  {
   "cell_type": "markdown",
   "metadata": {},
   "source": [
    "#### Collapse to yearly data"
   ]
  },
  {
   "cell_type": "code",
   "execution_count": null,
   "metadata": {},
   "outputs": [],
   "source": [
    "# group the data by county and year and sum the DEATHS and SHIP QUANTITY columns\n",
    "grouped_df = new_df.groupby(\n",
    "    [\n",
    "        \"COUNTY_NAME\",\n",
    "        \"STATE\",\n",
    "        \"YEAR\",\n",
    "        \"YEAR_wapo\",\n",
    "        \"DRUG/ALCOHOL INDUCED CAUSE\",\n",
    "        \"DRUG/ALCOHOL INDUCED CAUSE CODE\",\n",
    "    ]\n",
    ").agg(\n",
    "    {\n",
    "        \"DEATHS\": \"sum\",\n",
    "        \"SHIP_QUANTITY\": \"sum\",\n",
    "        \"POPULATION\": \"mean\",\n",
    "    }\n",
    ")\n"
   ]
  },
  {
   "cell_type": "code",
   "execution_count": null,
   "metadata": {},
   "outputs": [],
   "source": [
    "grouped_df.sample(10)\n"
   ]
  },
  {
   "cell_type": "markdown",
   "metadata": {},
   "source": [
    "#### Add columns for per capita rates"
   ]
  },
  {
   "cell_type": "code",
   "execution_count": null,
   "metadata": {},
   "outputs": [],
   "source": [
    "# add a column for death rate per 100,000 people\n",
    "grouped_df[\"DEATH_RATE\"] = grouped_df[\"DEATHS\"] / grouped_df[\"POPULATION\"] * 100000"
   ]
  },
  {
   "cell_type": "code",
   "execution_count": null,
   "metadata": {},
   "outputs": [],
   "source": [
    "# add a column for ship rate per 100,000 people\n",
    "grouped_df[\"SHIP_RATE\"] = grouped_df[\"SHIP_QUANTITY\"] / grouped_df[\"POPULATION\"] * 100000"
   ]
  },
  {
   "cell_type": "code",
   "execution_count": null,
   "metadata": {},
   "outputs": [],
   "source": [
    "grouped_df.sample(10)"
   ]
  },
  {
   "cell_type": "markdown",
   "metadata": {},
   "source": [
    "#### Export the final grouped df"
   ]
  },
  {
   "cell_type": "code",
   "execution_count": null,
   "metadata": {},
   "outputs": [],
   "source": [
    "# export to the 20_intermediate_files directory\n",
    "# grouped_df.to_csv(\"../20_intermediate_files/analysis_df.csv\", index=False)"
   ]
  }
 ],
 "metadata": {
  "kernelspec": {
   "display_name": "Python 3.10.6 ('base')",
   "language": "python",
   "name": "python3"
  },
  "language_info": {
   "codemirror_mode": {
    "name": "ipython",
    "version": 3
   },
   "file_extension": ".py",
   "mimetype": "text/x-python",
   "name": "python",
   "nbconvert_exporter": "python",
   "pygments_lexer": "ipython3",
   "version": "3.10.6"
  },
  "orig_nbformat": 4,
  "vscode": {
   "interpreter": {
    "hash": "84b9370629bc80826ce6aeb009e770dfe4ed6af6eef03d00ae361c57df430492"
   }
  }
 },
 "nbformat": 4,
 "nbformat_minor": 2
}
