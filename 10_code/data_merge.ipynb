{
 "cells": [
  {
   "cell_type": "markdown",
   "metadata": {},
   "source": [
    "# Data Merging Notebook"
   ]
  },
  {
   "cell_type": "markdown",
   "metadata": {},
   "source": [
    "#### This notebook merges data from the 20_intermediate_files directory and saves a merged dataset for final analysis. We use a notebook for this instead of a script for interpretability across teammates and easier error checking."
   ]
  },
  {
   "cell_type": "markdown",
   "metadata": {},
   "source": [
    "#### Imports"
   ]
  },
  {
   "cell_type": "code",
   "execution_count": 178,
   "metadata": {},
   "outputs": [],
   "source": [
    "import pandas as pd\n",
    "import numpy as np\n"
   ]
  },
  {
   "cell_type": "markdown",
   "metadata": {},
   "source": [
    "#### Import datasets"
   ]
  },
  {
   "cell_type": "code",
   "execution_count": 179,
   "metadata": {},
   "outputs": [],
   "source": [
    "# set directory\n",
    "working_dir = \"../20_intermediate_files/\"\n",
    "\n",
    "# set file paths\n",
    "census = working_dir + \"census_df.csv\"\n",
    "fips = working_dir + \"fips_df.csv\"\n",
    "vital = working_dir + \"vital_clean.csv\"\n",
    "wapo = working_dir + \"wapo_clean.csv\"\n"
   ]
  },
  {
   "cell_type": "code",
   "execution_count": 180,
   "metadata": {},
   "outputs": [],
   "source": [
    "data_sets = [census, fips, vital, wapo]\n",
    "\n",
    "# read in data\n",
    "census_df = pd.read_csv(census)\n",
    "fips_df = pd.read_csv(fips)\n",
    "vital_df = pd.read_csv(vital)\n",
    "wapo_df = pd.read_csv(wapo)\n"
   ]
  },
  {
   "cell_type": "markdown",
   "metadata": {},
   "source": [
    "#### Merge Prep"
   ]
  },
  {
   "cell_type": "code",
   "execution_count": 181,
   "metadata": {},
   "outputs": [],
   "source": [
    "# take a look at the data starting with census\n",
    "# census_df.sample(5)\n"
   ]
  },
  {
   "cell_type": "code",
   "execution_count": 182,
   "metadata": {},
   "outputs": [],
   "source": [
    "# FIPS codes\n",
    "# fips_df.sample(5)\n"
   ]
  },
  {
   "cell_type": "code",
   "execution_count": 183,
   "metadata": {},
   "outputs": [
    {
     "data": {
      "text/html": [
       "<div>\n",
       "<style scoped>\n",
       "    .dataframe tbody tr th:only-of-type {\n",
       "        vertical-align: middle;\n",
       "    }\n",
       "\n",
       "    .dataframe tbody tr th {\n",
       "        vertical-align: top;\n",
       "    }\n",
       "\n",
       "    .dataframe thead th {\n",
       "        text-align: right;\n",
       "    }\n",
       "</style>\n",
       "<table border=\"1\" class=\"dataframe\">\n",
       "  <thead>\n",
       "    <tr style=\"text-align: right;\">\n",
       "      <th></th>\n",
       "      <th>COUNTY_NAME</th>\n",
       "      <th>FIPS</th>\n",
       "      <th>YEAR</th>\n",
       "      <th>DRUG/ALCOHOL INDUCED CAUSE</th>\n",
       "      <th>DRUG/ALCOHOL INDUCED CAUSE CODE</th>\n",
       "      <th>DEATHS</th>\n",
       "      <th>STATE</th>\n",
       "      <th>merge_key</th>\n",
       "    </tr>\n",
       "  </thead>\n",
       "  <tbody>\n",
       "    <tr>\n",
       "      <th>4974</th>\n",
       "      <td>LAKE COUNTY, FL</td>\n",
       "      <td>12069</td>\n",
       "      <td>2011-01-01</td>\n",
       "      <td>All other non-drug and non-alcohol causes</td>\n",
       "      <td>O9</td>\n",
       "      <td>3312.0</td>\n",
       "      <td>FL</td>\n",
       "      <td>LAKE COUNTY, FL2011-01-01</td>\n",
       "    </tr>\n",
       "    <tr>\n",
       "      <th>4590</th>\n",
       "      <td>JASPER COUNTY, TX</td>\n",
       "      <td>48241</td>\n",
       "      <td>2005-01-01</td>\n",
       "      <td>All other non-drug and non-alcohol causes</td>\n",
       "      <td>O9</td>\n",
       "      <td>369.0</td>\n",
       "      <td>TX</td>\n",
       "      <td>JASPER COUNTY, TX2005-01-01</td>\n",
       "    </tr>\n",
       "    <tr>\n",
       "      <th>6529</th>\n",
       "      <td>BRADFORD COUNTY, FL</td>\n",
       "      <td>12007</td>\n",
       "      <td>2004-01-01</td>\n",
       "      <td>All other non-drug and non-alcohol causes</td>\n",
       "      <td>O9</td>\n",
       "      <td>252.0</td>\n",
       "      <td>FL</td>\n",
       "      <td>BRADFORD COUNTY, FL2004-01-01</td>\n",
       "    </tr>\n",
       "    <tr>\n",
       "      <th>308</th>\n",
       "      <td>NOWATA COUNTY, OK</td>\n",
       "      <td>40105</td>\n",
       "      <td>2009-01-01</td>\n",
       "      <td>All other non-drug and non-alcohol causes</td>\n",
       "      <td>O9</td>\n",
       "      <td>144.0</td>\n",
       "      <td>OK</td>\n",
       "      <td>NOWATA COUNTY, OK2009-01-01</td>\n",
       "    </tr>\n",
       "    <tr>\n",
       "      <th>10385</th>\n",
       "      <td>KING COUNTY, WA</td>\n",
       "      <td>53033</td>\n",
       "      <td>2013-01-01</td>\n",
       "      <td>All other non-drug and non-alcohol causes</td>\n",
       "      <td>O9</td>\n",
       "      <td>11941.0</td>\n",
       "      <td>WA</td>\n",
       "      <td>KING COUNTY, WA2013-01-01</td>\n",
       "    </tr>\n",
       "  </tbody>\n",
       "</table>\n",
       "</div>"
      ],
      "text/plain": [
       "               COUNTY_NAME   FIPS       YEAR  \\\n",
       "4974       LAKE COUNTY, FL  12069 2011-01-01   \n",
       "4590     JASPER COUNTY, TX  48241 2005-01-01   \n",
       "6529   BRADFORD COUNTY, FL  12007 2004-01-01   \n",
       "308      NOWATA COUNTY, OK  40105 2009-01-01   \n",
       "10385      KING COUNTY, WA  53033 2013-01-01   \n",
       "\n",
       "                      DRUG/ALCOHOL INDUCED CAUSE  \\\n",
       "4974   All other non-drug and non-alcohol causes   \n",
       "4590   All other non-drug and non-alcohol causes   \n",
       "6529   All other non-drug and non-alcohol causes   \n",
       "308    All other non-drug and non-alcohol causes   \n",
       "10385  All other non-drug and non-alcohol causes   \n",
       "\n",
       "      DRUG/ALCOHOL INDUCED CAUSE CODE   DEATHS STATE  \\\n",
       "4974                               O9   3312.0    FL   \n",
       "4590                               O9    369.0    TX   \n",
       "6529                               O9    252.0    FL   \n",
       "308                                O9    144.0    OK   \n",
       "10385                              O9  11941.0    WA   \n",
       "\n",
       "                           merge_key  \n",
       "4974       LAKE COUNTY, FL2011-01-01  \n",
       "4590     JASPER COUNTY, TX2005-01-01  \n",
       "6529   BRADFORD COUNTY, FL2004-01-01  \n",
       "308      NOWATA COUNTY, OK2009-01-01  \n",
       "10385      KING COUNTY, WA2013-01-01  "
      ]
     },
     "execution_count": 183,
     "metadata": {},
     "output_type": "execute_result"
    }
   ],
   "source": [
    "# vital df year as datetime\n",
    "vital_df[\"YEAR\"] = pd.to_datetime(vital_df[\"YEAR\"], format=\"%Y-%m-%d\")\n",
    "\n",
    "# Add a column for the merge key: County_name+year\n",
    "vital_df[\"merge_key\"] = vital_df[\"COUNTY_NAME\"] + vital_df[\"YEAR\"].astype(str)\n",
    "\n",
    "# Vital Stats\n",
    "vital_df.sample(5)\n"
   ]
  },
  {
   "cell_type": "code",
   "execution_count": 184,
   "metadata": {},
   "outputs": [],
   "source": [
    "# Add the same merge key\n",
    "wapo_df[\"merge_key\"] = wapo_df[\"COUNTY_NAME\"] + wapo_df[\"YEAR\"].astype(str)\n",
    "\n",
    "# WAPO Data\n",
    "# wapo_df.sample(5)"
   ]
  },
  {
   "cell_type": "markdown",
   "metadata": {},
   "source": [
    "#### Merging"
   ]
  },
  {
   "cell_type": "markdown",
   "metadata": {},
   "source": [
    "***We identify that the Vital Stats Dataframe has the base foundation well need to merge data, so we make a copy and call that our base dataframe.***"
   ]
  },
  {
   "cell_type": "code",
   "execution_count": 166,
   "metadata": {},
   "outputs": [],
   "source": [
    "base_df = vital_df.copy()\n"
   ]
  },
  {
   "cell_type": "markdown",
   "metadata": {},
   "source": [
    "***Merge the WAPO DF first***"
   ]
  },
  {
   "cell_type": "code",
   "execution_count": 167,
   "metadata": {},
   "outputs": [],
   "source": [
    "# merge the vital stats df\n",
    "base_df = base_df.merge(wapo_df, on=\"merge_key\", how=\"left\")\n"
   ]
  },
  {
   "cell_type": "code",
   "execution_count": 168,
   "metadata": {},
   "outputs": [
    {
     "data": {
      "text/html": [
       "<div>\n",
       "<style scoped>\n",
       "    .dataframe tbody tr th:only-of-type {\n",
       "        vertical-align: middle;\n",
       "    }\n",
       "\n",
       "    .dataframe tbody tr th {\n",
       "        vertical-align: top;\n",
       "    }\n",
       "\n",
       "    .dataframe thead th {\n",
       "        text-align: right;\n",
       "    }\n",
       "</style>\n",
       "<table border=\"1\" class=\"dataframe\">\n",
       "  <thead>\n",
       "    <tr style=\"text-align: right;\">\n",
       "      <th></th>\n",
       "      <th>COUNTY_NAME</th>\n",
       "      <th>FIPS</th>\n",
       "      <th>YEAR</th>\n",
       "      <th>DRUG/ALCOHOL INDUCED CAUSE</th>\n",
       "      <th>DRUG/ALCOHOL INDUCED CAUSE CODE</th>\n",
       "      <th>DEATHS</th>\n",
       "      <th>STATE</th>\n",
       "      <th>merge_key</th>\n",
       "      <th>YEAR_wapo</th>\n",
       "      <th>MONTH</th>\n",
       "      <th>SHIP_QUANTITY</th>\n",
       "    </tr>\n",
       "  </thead>\n",
       "  <tbody>\n",
       "    <tr>\n",
       "      <th>0</th>\n",
       "      <td>AUTAUGA COUNTY, AL</td>\n",
       "      <td>1001</td>\n",
       "      <td>2009-01-01</td>\n",
       "      <td>All other non-drug and non-alcohol causes</td>\n",
       "      <td>O9</td>\n",
       "      <td>408.0</td>\n",
       "      <td>AL</td>\n",
       "      <td>AUTAUGA COUNTY, AL2009-01-01</td>\n",
       "      <td>2009-01-01</td>\n",
       "      <td>1.0</td>\n",
       "      <td>90.0</td>\n",
       "    </tr>\n",
       "    <tr>\n",
       "      <th>1</th>\n",
       "      <td>AUTAUGA COUNTY, AL</td>\n",
       "      <td>1001</td>\n",
       "      <td>2009-01-01</td>\n",
       "      <td>All other non-drug and non-alcohol causes</td>\n",
       "      <td>O9</td>\n",
       "      <td>408.0</td>\n",
       "      <td>AL</td>\n",
       "      <td>AUTAUGA COUNTY, AL2009-01-01</td>\n",
       "      <td>2009-01-01</td>\n",
       "      <td>2.0</td>\n",
       "      <td>2429.0</td>\n",
       "    </tr>\n",
       "    <tr>\n",
       "      <th>2</th>\n",
       "      <td>AUTAUGA COUNTY, AL</td>\n",
       "      <td>1001</td>\n",
       "      <td>2009-01-01</td>\n",
       "      <td>All other non-drug and non-alcohol causes</td>\n",
       "      <td>O9</td>\n",
       "      <td>408.0</td>\n",
       "      <td>AL</td>\n",
       "      <td>AUTAUGA COUNTY, AL2009-01-01</td>\n",
       "      <td>2009-01-01</td>\n",
       "      <td>3.0</td>\n",
       "      <td>2755.0</td>\n",
       "    </tr>\n",
       "    <tr>\n",
       "      <th>3</th>\n",
       "      <td>AUTAUGA COUNTY, AL</td>\n",
       "      <td>1001</td>\n",
       "      <td>2009-01-01</td>\n",
       "      <td>All other non-drug and non-alcohol causes</td>\n",
       "      <td>O9</td>\n",
       "      <td>408.0</td>\n",
       "      <td>AL</td>\n",
       "      <td>AUTAUGA COUNTY, AL2009-01-01</td>\n",
       "      <td>2009-01-01</td>\n",
       "      <td>4.0</td>\n",
       "      <td>1142.0</td>\n",
       "    </tr>\n",
       "    <tr>\n",
       "      <th>4</th>\n",
       "      <td>AUTAUGA COUNTY, AL</td>\n",
       "      <td>1001</td>\n",
       "      <td>2009-01-01</td>\n",
       "      <td>All other non-drug and non-alcohol causes</td>\n",
       "      <td>O9</td>\n",
       "      <td>408.0</td>\n",
       "      <td>AL</td>\n",
       "      <td>AUTAUGA COUNTY, AL2009-01-01</td>\n",
       "      <td>2009-01-01</td>\n",
       "      <td>5.0</td>\n",
       "      <td>2972.0</td>\n",
       "    </tr>\n",
       "  </tbody>\n",
       "</table>\n",
       "</div>"
      ],
      "text/plain": [
       "          COUNTY_NAME  FIPS       YEAR  \\\n",
       "0  AUTAUGA COUNTY, AL  1001 2009-01-01   \n",
       "1  AUTAUGA COUNTY, AL  1001 2009-01-01   \n",
       "2  AUTAUGA COUNTY, AL  1001 2009-01-01   \n",
       "3  AUTAUGA COUNTY, AL  1001 2009-01-01   \n",
       "4  AUTAUGA COUNTY, AL  1001 2009-01-01   \n",
       "\n",
       "                  DRUG/ALCOHOL INDUCED CAUSE DRUG/ALCOHOL INDUCED CAUSE CODE  \\\n",
       "0  All other non-drug and non-alcohol causes                              O9   \n",
       "1  All other non-drug and non-alcohol causes                              O9   \n",
       "2  All other non-drug and non-alcohol causes                              O9   \n",
       "3  All other non-drug and non-alcohol causes                              O9   \n",
       "4  All other non-drug and non-alcohol causes                              O9   \n",
       "\n",
       "   DEATHS STATE                     merge_key   YEAR_wapo  MONTH  \\\n",
       "0   408.0    AL  AUTAUGA COUNTY, AL2009-01-01  2009-01-01    1.0   \n",
       "1   408.0    AL  AUTAUGA COUNTY, AL2009-01-01  2009-01-01    2.0   \n",
       "2   408.0    AL  AUTAUGA COUNTY, AL2009-01-01  2009-01-01    3.0   \n",
       "3   408.0    AL  AUTAUGA COUNTY, AL2009-01-01  2009-01-01    4.0   \n",
       "4   408.0    AL  AUTAUGA COUNTY, AL2009-01-01  2009-01-01    5.0   \n",
       "\n",
       "   SHIP_QUANTITY  \n",
       "0           90.0  \n",
       "1         2429.0  \n",
       "2         2755.0  \n",
       "3         1142.0  \n",
       "4         2972.0  "
      ]
     },
     "execution_count": 168,
     "metadata": {},
     "output_type": "execute_result"
    }
   ],
   "source": [
    "# Drop the COUNTY_NAME_wapo and STATE_wapo columns\n",
    "base_df.drop(columns=[\"COUNTY_NAME_y\", \"STATE_y\"], inplace=True)\n",
    "\n",
    "# Rename the columns\n",
    "base_df.rename(\n",
    "    columns={\n",
    "        \"COUNTY_NAME_x\": \"COUNTY_NAME\",\n",
    "        \"STATE_x\": \"STATE\",\n",
    "        \"YEAR_x\": \"YEAR\",\n",
    "        \"YEAR_y\": \"YEAR_wapo\",\n",
    "        \"QUANTITY\": \"SHIP_QUANTITY\",\n",
    "    },\n",
    "    inplace=True,\n",
    ")\n",
    "\n",
    "base_df.head()\n"
   ]
  },
  {
   "cell_type": "code",
   "execution_count": 185,
   "metadata": {},
   "outputs": [],
   "source": [
    "# Reorder the columns\n",
    "cols = [\n",
    "    \"COUNTY_NAME\",\n",
    "    \"STATE\",\n",
    "    \"FIPS\",\n",
    "    \"MONTH\",\n",
    "    \"YEAR\",\n",
    "    \"YEAR_wapo\",\n",
    "    \"DRUG/ALCOHOL INDUCED CAUSE\",\n",
    "    \"DRUG/ALCOHOL INDUCED CAUSE CODE\",\n",
    "    \"DEATHS\",\n",
    "    \"SHIP_QUANTITY\",\n",
    "]\n",
    "\n",
    "# make a new df with the better order\n",
    "new_df = base_df[cols]\n",
    "\n",
    "\n",
    "# Houston, we have a problem\n"
   ]
  },
  {
   "cell_type": "code",
   "execution_count": 188,
   "metadata": {},
   "outputs": [
    {
     "data": {
      "text/plain": [
       "NaN           5042\n",
       "2007-01-01    8927\n",
       "2006-01-01    9039\n",
       "2008-01-01    9140\n",
       "2009-01-01    9187\n",
       "2010-01-01    9252\n",
       "2011-01-01    9347\n",
       "2012-01-01    9409\n",
       "Name: YEAR_wapo, dtype: int64"
      ]
     },
     "execution_count": 188,
     "metadata": {},
     "output_type": "execute_result"
    }
   ],
   "source": [
    "# new_df.sample(10)\n",
    "\n",
    "new_df.YEAR.value_counts(dropna=False, sort=True, ascending=True)\n",
    "\n",
    "new_df.YEAR_wapo.value_counts(dropna=False, sort=True, ascending=True)"
   ]
  },
  {
   "cell_type": "markdown",
   "metadata": {},
   "source": [
    "***Merge the Census Data Next***"
   ]
  },
  {
   "cell_type": "code",
   "execution_count": null,
   "metadata": {},
   "outputs": [],
   "source": [
    "# merge census data\n",
    "new_df = new_df.merge(census_df, on=\"COUNTY_NAME\", how=\"left\")\n"
   ]
  },
  {
   "cell_type": "code",
   "execution_count": null,
   "metadata": {},
   "outputs": [],
   "source": [
    "# drop STATE_y\n",
    "new_df.drop(columns=[\"STATE_y\"], inplace=True)\n",
    "\n",
    "# rename STATE_x to STATE\n",
    "new_df.rename(columns={\"STATE_x\": \"STATE\"}, inplace=True)\n",
    "\n",
    "new_df.sample(10)\n"
   ]
  },
  {
   "cell_type": "markdown",
   "metadata": {},
   "source": [
    "#### Collapse to yearly data"
   ]
  },
  {
   "cell_type": "code",
   "execution_count": null,
   "metadata": {},
   "outputs": [],
   "source": [
    "# group the data by county and year and sum the DEATHS and SHIP QUANTITY columns\n",
    "grouped_df = new_df.groupby(\n",
    "    [\n",
    "        \"COUNTY_NAME\",\n",
    "        \"STATE\",\n",
    "        \"YEAR\",\n",
    "        \"YEAR_wapo\",\n",
    "        \"DRUG/ALCOHOL INDUCED CAUSE\",\n",
    "        \"DRUG/ALCOHOL INDUCED CAUSE CODE\",\n",
    "    ]\n",
    ").agg(\n",
    "    {\n",
    "        \"DEATHS\": \"sum\",\n",
    "        \"SHIP_QUANTITY\": \"sum\",\n",
    "        \"POPULATION\": \"mean\",\n",
    "    }\n",
    ")\n"
   ]
  },
  {
   "cell_type": "code",
   "execution_count": null,
   "metadata": {},
   "outputs": [],
   "source": [
    "grouped_df.sample(10)\n"
   ]
  },
  {
   "cell_type": "markdown",
   "metadata": {},
   "source": [
    "#### Add columns for per capita rates"
   ]
  },
  {
   "cell_type": "code",
   "execution_count": null,
   "metadata": {},
   "outputs": [],
   "source": [
    "# add a column for death rate per 100,000 people\n",
    "grouped_df[\"DEATH_RATE\"] = grouped_df[\"DEATHS\"] / grouped_df[\"POPULATION\"] * 100000"
   ]
  },
  {
   "cell_type": "code",
   "execution_count": null,
   "metadata": {},
   "outputs": [],
   "source": [
    "# add a column for ship rate per 100,000 people\n",
    "grouped_df[\"SHIP_RATE\"] = grouped_df[\"SHIP_QUANTITY\"] / grouped_df[\"POPULATION\"] * 100000"
   ]
  },
  {
   "cell_type": "code",
   "execution_count": null,
   "metadata": {},
   "outputs": [],
   "source": [
    "grouped_df.sample(10)"
   ]
  },
  {
   "cell_type": "markdown",
   "metadata": {},
   "source": [
    "#### Export the final grouped df"
   ]
  },
  {
   "cell_type": "code",
   "execution_count": null,
   "metadata": {},
   "outputs": [],
   "source": [
    "# export to the 20_intermediate_files directory\n",
    "# grouped_df.to_csv(\"../20_intermediate_files/analysis_df.csv\", index=False)"
   ]
  }
 ],
 "metadata": {
  "kernelspec": {
   "display_name": "Python 3.10.6 ('base')",
   "language": "python",
   "name": "python3"
  },
  "language_info": {
   "codemirror_mode": {
    "name": "ipython",
    "version": 3
   },
   "file_extension": ".py",
   "mimetype": "text/x-python",
   "name": "python",
   "nbconvert_exporter": "python",
   "pygments_lexer": "ipython3",
   "version": "3.10.6"
  },
  "orig_nbformat": 4,
  "vscode": {
   "interpreter": {
    "hash": "8252741f7dece6ad0987207e3211c729db738b68c7c87111815d7232d469f1e9"
   }
  }
 },
 "nbformat": 4,
 "nbformat_minor": 2
}
