{
 "cells": [
  {
   "cell_type": "markdown",
   "metadata": {},
   "source": [
    "# Data Merging Notebook"
   ]
  },
  {
   "cell_type": "markdown",
   "metadata": {},
   "source": [
    "#### This notebook merges data from the 20_intermediate_files directory and saves a merged dataset for final analysis. We use a notebook for this instead of a script for interpretability across teammates and easier error checking."
   ]
  },
  {
   "cell_type": "markdown",
   "metadata": {},
   "source": [
    "#### Imports"
   ]
  },
  {
   "cell_type": "code",
   "execution_count": 1,
   "metadata": {},
   "outputs": [],
   "source": [
    "import pandas as pd\n",
    "import numpy as np\n"
   ]
  },
  {
   "cell_type": "markdown",
   "metadata": {},
   "source": [
    "#### Import datasets"
   ]
  },
  {
   "cell_type": "code",
   "execution_count": 2,
   "metadata": {},
   "outputs": [],
   "source": [
    "# set directory\n",
    "working_dir = \"../20_intermediate_files/\"\n",
    "\n",
    "# set file paths\n",
    "census = working_dir + \"census_df.csv\"\n",
    "fips = working_dir + \"fips_df.csv\"\n",
    "vital = working_dir + \"vital_clean.csv\"\n",
    "wapo = working_dir + \"wapo_clean.csv\"\n"
   ]
  },
  {
   "cell_type": "code",
   "execution_count": 3,
   "metadata": {},
   "outputs": [],
   "source": [
    "# read in data\n",
    "census_df = pd.read_csv(census)\n",
    "fips_df = pd.read_csv(fips, dtype={\"FIPS\": str, \"STATE_FIPS\": str})\n",
    "vital_df = pd.read_csv(vital, dtype={\"FIPS\": str})\n",
    "wapo_df = pd.read_csv(wapo, dtype={\"YEAR\": str, \"MONTH\": str})\n"
   ]
  },
  {
   "cell_type": "markdown",
   "metadata": {},
   "source": [
    "#### Merge Prep"
   ]
  },
  {
   "cell_type": "markdown",
   "metadata": {},
   "source": [
    "***Census Data is low drama***"
   ]
  },
  {
   "cell_type": "code",
   "execution_count": 4,
   "metadata": {},
   "outputs": [],
   "source": [
    "# take a look at the data starting with census\n",
    "\n",
    "# rename county_name to match other data\n",
    "census_df = census_df.rename(columns={\"COUNTY_NAME\": \"county_name\"})\n",
    "\n",
    "# Rename Miami-Dade County to Dade County\n",
    "census_df.loc[\n",
    "    census_df[\"county_name\"] == \"MIAMI-DADE COUNTY, FL\", \"county_name\"\n",
    "] = \"DADE COUNTY, FL\"\n"
   ]
  },
  {
   "cell_type": "code",
   "execution_count": 5,
   "metadata": {},
   "outputs": [
    {
     "data": {
      "text/html": [
       "<div>\n",
       "<style scoped>\n",
       "    .dataframe tbody tr th:only-of-type {\n",
       "        vertical-align: middle;\n",
       "    }\n",
       "\n",
       "    .dataframe tbody tr th {\n",
       "        vertical-align: top;\n",
       "    }\n",
       "\n",
       "    .dataframe thead th {\n",
       "        text-align: right;\n",
       "    }\n",
       "</style>\n",
       "<table border=\"1\" class=\"dataframe\">\n",
       "  <thead>\n",
       "    <tr style=\"text-align: right;\">\n",
       "      <th></th>\n",
       "      <th>county_name</th>\n",
       "      <th>POPULATION</th>\n",
       "      <th>STATE</th>\n",
       "    </tr>\n",
       "  </thead>\n",
       "  <tbody>\n",
       "    <tr>\n",
       "      <th>182</th>\n",
       "      <td>DADE COUNTY, FL</td>\n",
       "      <td>2496435</td>\n",
       "      <td>FL</td>\n",
       "    </tr>\n",
       "    <tr>\n",
       "      <th>247</th>\n",
       "      <td>DADE COUNTY, GA</td>\n",
       "      <td>16633</td>\n",
       "      <td>GA</td>\n",
       "    </tr>\n",
       "  </tbody>\n",
       "</table>\n",
       "</div>"
      ],
      "text/plain": [
       "         county_name  POPULATION STATE\n",
       "182  DADE COUNTY, FL     2496435    FL\n",
       "247  DADE COUNTY, GA       16633    GA"
      ]
     },
     "execution_count": 5,
     "metadata": {},
     "output_type": "execute_result"
    }
   ],
   "source": [
    "# show counties that contain the word DADE\n",
    "census_df[census_df[\"county_name\"].str.contains(\"DADE\")]\n"
   ]
  },
  {
   "cell_type": "code",
   "execution_count": 6,
   "metadata": {},
   "outputs": [
    {
     "data": {
      "text/html": [
       "<div>\n",
       "<style scoped>\n",
       "    .dataframe tbody tr th:only-of-type {\n",
       "        vertical-align: middle;\n",
       "    }\n",
       "\n",
       "    .dataframe tbody tr th {\n",
       "        vertical-align: top;\n",
       "    }\n",
       "\n",
       "    .dataframe thead th {\n",
       "        text-align: right;\n",
       "    }\n",
       "</style>\n",
       "<table border=\"1\" class=\"dataframe\">\n",
       "  <thead>\n",
       "    <tr style=\"text-align: right;\">\n",
       "      <th></th>\n",
       "      <th>county_name</th>\n",
       "      <th>POPULATION</th>\n",
       "      <th>STATE</th>\n",
       "    </tr>\n",
       "  </thead>\n",
       "  <tbody>\n",
       "    <tr>\n",
       "      <th>179</th>\n",
       "      <td>MANATEE COUNTY, FL</td>\n",
       "      <td>322833</td>\n",
       "      <td>FL</td>\n",
       "    </tr>\n",
       "    <tr>\n",
       "      <th>499</th>\n",
       "      <td>DONA ANA COUNTY, NM</td>\n",
       "      <td>209233</td>\n",
       "      <td>NM</td>\n",
       "    </tr>\n",
       "    <tr>\n",
       "      <th>595</th>\n",
       "      <td>CANADIAN COUNTY, OK</td>\n",
       "      <td>115541</td>\n",
       "      <td>OK</td>\n",
       "    </tr>\n",
       "  </tbody>\n",
       "</table>\n",
       "</div>"
      ],
      "text/plain": [
       "             county_name  POPULATION STATE\n",
       "179   MANATEE COUNTY, FL      322833    FL\n",
       "499  DONA ANA COUNTY, NM      209233    NM\n",
       "595  CANADIAN COUNTY, OK      115541    OK"
      ]
     },
     "execution_count": 6,
     "metadata": {},
     "output_type": "execute_result"
    }
   ],
   "source": [
    "# show counties that contain the word ANA\n",
    "census_df[census_df[\"county_name\"].str.contains(\"ANA\")]\n"
   ]
  },
  {
   "cell_type": "code",
   "execution_count": 7,
   "metadata": {},
   "outputs": [
    {
     "name": "stdout",
     "output_type": "stream",
     "text": [
      "There are 1039 counties in the census data.\n"
     ]
    }
   ],
   "source": [
    "print(f\"There are {census_df.shape[0]} counties in the census data.\")\n"
   ]
  },
  {
   "cell_type": "code",
   "execution_count": 8,
   "metadata": {},
   "outputs": [
    {
     "data": {
      "text/plain": [
       "array(['AL', 'AZ', 'CA', 'FL', 'GA', 'ID', 'MS', 'NM', 'NY', 'OK', 'OR',\n",
       "       'SC', 'TX', 'WA'], dtype=object)"
      ]
     },
     "execution_count": 8,
     "metadata": {},
     "output_type": "execute_result"
    }
   ],
   "source": [
    "census_df[\"STATE\"].unique()\n"
   ]
  },
  {
   "cell_type": "code",
   "execution_count": 9,
   "metadata": {},
   "outputs": [],
   "source": [
    "# census_df.sample(5)\n"
   ]
  },
  {
   "cell_type": "markdown",
   "metadata": {},
   "source": [
    "***Fix the FIPS data next to remove the state-only lines***"
   ]
  },
  {
   "cell_type": "code",
   "execution_count": 10,
   "metadata": {},
   "outputs": [],
   "source": [
    "# add a new column of the int of the FIPS code\n",
    "fips_df[\"FIPS_INT\"] = fips_df[\"FIPS\"].astype(int)\n",
    "\n",
    "# drop the row if the FIPS code is divisible by 100\n",
    "fips_df = fips_df[fips_df[\"FIPS_INT\"] % 100 != 0]\n"
   ]
  },
  {
   "cell_type": "code",
   "execution_count": 11,
   "metadata": {},
   "outputs": [],
   "source": [
    "# show fips for counties that contain the word DADE\n",
    "# fips_df[fips_df[\"COUNTY_NAME\"].str.contains(\"DADE\")]\n"
   ]
  },
  {
   "cell_type": "code",
   "execution_count": 12,
   "metadata": {},
   "outputs": [],
   "source": [
    "# FIPS codes\n",
    "# fips_df.dtypes\n",
    "# fips_df.sample(5)\n"
   ]
  },
  {
   "cell_type": "code",
   "execution_count": 13,
   "metadata": {},
   "outputs": [
    {
     "name": "stdout",
     "output_type": "stream",
     "text": [
      "There are 1039 counties in the FIPS data set.\n"
     ]
    }
   ],
   "source": [
    "print(f\"There are {fips_df.shape[0]} counties in the FIPS data set.\")\n"
   ]
  },
  {
   "cell_type": "markdown",
   "metadata": {},
   "source": [
    "***Clean the Vital DF to add the new merge key with FIPS code***"
   ]
  },
  {
   "cell_type": "code",
   "execution_count": 14,
   "metadata": {},
   "outputs": [],
   "source": [
    "# show miami dade county\n",
    "# vital_df[vital_df[\"FIPS\"] == \"12086\"]\n",
    "# vital_df[vital_df[\"FIPS\"] == \"12025\"]\n",
    "\n",
    "# because it changed\n",
    "\n",
    "# search the vital_df for FIPS code 12086 and change it to 12025 and rename the county to DADE COUNTY, FL for consistency\n",
    "vital2 = vital_df.replace(\"012086\", \"012025\")\n",
    "vital3 = vital2.replace(\"MIAMI-DADE COUNTY, FL\", \"DADE COUNTY, FL\")\n"
   ]
  },
  {
   "cell_type": "code",
   "execution_count": 15,
   "metadata": {},
   "outputs": [],
   "source": [
    "# show FIPS codes for counties that contain the word DADE\n",
    "# vital3[vital3[\"COUNTY_NAME\"].str.contains(\"DADE\")]\n"
   ]
  },
  {
   "cell_type": "markdown",
   "metadata": {},
   "source": [
    "***FINALLY***"
   ]
  },
  {
   "cell_type": "code",
   "execution_count": 16,
   "metadata": {},
   "outputs": [],
   "source": [
    "vital_df = vital3.copy()\n",
    "\n",
    "# if the FIPS code is six characters, remove the leading zero\n",
    "vital_df[\"FIPS\"] = vital_df[\"FIPS\"].apply(lambda x: x[1:] if len(x) == 6 else x)\n",
    "\n",
    "# Add a column for the merge key: County_name+year\n",
    "vital_df[\"merge_key\"] = vital_df[\"FIPS\"] + vital_df[\"YEAR\"].astype(str)\n"
   ]
  },
  {
   "cell_type": "code",
   "execution_count": 17,
   "metadata": {},
   "outputs": [],
   "source": [
    "# find fips of 12025 should be many and 12086 - should be null\n",
    "# vital_df[vital_df[\"FIPS\"] == \"12025\"]\n",
    "# vital_df[vital_df[\"FIPS\"] == \"12086\"]\n"
   ]
  },
  {
   "cell_type": "code",
   "execution_count": 18,
   "metadata": {},
   "outputs": [
    {
     "data": {
      "text/plain": [
       "0"
      ]
     },
     "execution_count": 18,
     "metadata": {},
     "output_type": "execute_result"
    }
   ],
   "source": [
    "# check for duplicate merge keys\n",
    "vital_df[\"merge_key\"].duplicated().sum()\n"
   ]
  },
  {
   "cell_type": "code",
   "execution_count": 19,
   "metadata": {},
   "outputs": [
    {
     "name": "stdout",
     "output_type": "stream",
     "text": [
      "There are 3064 rows in the vital_df after miami-dade corrections.\n"
     ]
    }
   ],
   "source": [
    "print(\n",
    "    f\"There are {vital_df.shape[0]} rows in the vital_df after miami-dade corrections.\"\n",
    ")\n"
   ]
  },
  {
   "cell_type": "markdown",
   "metadata": {},
   "source": [
    "No data for DOÑA ANA COUNTY, NM and DEBACA COUNTY, NM at all"
   ]
  },
  {
   "cell_type": "code",
   "execution_count": 20,
   "metadata": {},
   "outputs": [
    {
     "data": {
      "text/plain": [
       "False"
      ]
     },
     "execution_count": 20,
     "metadata": {},
     "output_type": "execute_result"
    }
   ],
   "source": [
    "\"DOÑA ANA COUNTY, NM\" in vital_df[\"COUNTY_NAME\"]\n"
   ]
  },
  {
   "cell_type": "code",
   "execution_count": 21,
   "metadata": {},
   "outputs": [
    {
     "data": {
      "text/plain": [
       "False"
      ]
     },
     "execution_count": 21,
     "metadata": {},
     "output_type": "execute_result"
    }
   ],
   "source": [
    "\"DONA ANA COUNTY, NM\" in vital_df[\"COUNTY_NAME\"]\n"
   ]
  },
  {
   "cell_type": "code",
   "execution_count": 22,
   "metadata": {},
   "outputs": [
    {
     "data": {
      "text/plain": [
       "False"
      ]
     },
     "execution_count": 22,
     "metadata": {},
     "output_type": "execute_result"
    }
   ],
   "source": [
    "\"DEBACA COUNTY, NM\" in vital_df[\"COUNTY_NAME\"]\n"
   ]
  },
  {
   "cell_type": "code",
   "execution_count": 23,
   "metadata": {},
   "outputs": [],
   "source": [
    "# show vital df dade where fips is either 12025 or 12086\n",
    "# vital_df[(vital_df[\"FIPS\"] == \"12025\") | (vital_df[\"FIPS\"] == \"12086\")]\n"
   ]
  },
  {
   "cell_type": "markdown",
   "metadata": {},
   "source": [
    "***Prep the WAPO dataset by adding FIPS to county names and generating merge key***"
   ]
  },
  {
   "cell_type": "code",
   "execution_count": 24,
   "metadata": {},
   "outputs": [],
   "source": [
    "# groupby the COUNTY_NAME, STATE, and YEAR and sum the DRUG_QUANTITY\n",
    "wapo_df = (\n",
    "    wapo_df.groupby([\"COUNTY_NAME\", \"STATE\", \"YEAR\"])\n",
    "    .agg({\"QUANTITY\": \"sum\"})\n",
    "    .reset_index()\n",
    ")\n"
   ]
  },
  {
   "cell_type": "code",
   "execution_count": 25,
   "metadata": {},
   "outputs": [],
   "source": [
    "# wapo_df.sample(10)\n"
   ]
  },
  {
   "cell_type": "code",
   "execution_count": 26,
   "metadata": {},
   "outputs": [],
   "source": [
    "# Add FIPS codes to the wapo_df data by merging on county_name\n",
    "wapo_df_fips = pd.merge(wapo_df, fips_df, on=\"COUNTY_NAME\", how=\"left\").copy()\n",
    "\n",
    "# Drop STATE_FIPS and STATE_y\n",
    "wapo_df_fips = wapo_df_fips.drop([\"STATE_FIPS\", \"STATE_y\", \"FIPS_INT\"], axis=1)\n",
    "\n",
    "# strip the last character from the FIPS column\n",
    "wapo_df_fips[\"FIPS\"] = wapo_df_fips[\"FIPS\"].str[:-1]\n",
    "\n",
    "# Add the same merge key\n",
    "wapo_df_fips[\"merge_key\"] = wapo_df_fips[\"FIPS\"] + wapo_df_fips[\"YEAR\"].astype(str)\n",
    "\n",
    "# rename the QUANTITY column to DRUG_QUANTITY\n",
    "wapo_df_fips = wapo_df_fips.rename(\n",
    "    columns={\"QUANTITY\": \"DRUG_QUANTITY\", \"STATE_x\": \"STATE\"}\n",
    ")\n",
    "\n",
    "# add a flag column to indicate the source of the data\n",
    "wapo_df_fips[\"source\"] = 1\n"
   ]
  },
  {
   "cell_type": "code",
   "execution_count": 27,
   "metadata": {},
   "outputs": [],
   "source": [
    "# WAPO Data\n",
    "# wapo_df_fips.sample(5)\n"
   ]
  },
  {
   "cell_type": "code",
   "execution_count": 28,
   "metadata": {},
   "outputs": [],
   "source": [
    "# make a list of the unique counties in the wapo_df_fips where FIPS is NaN\n",
    "missing_counties = wapo_df_fips[wapo_df_fips[\"FIPS\"].isna()][\"COUNTY_NAME\"].unique()\n"
   ]
  },
  {
   "cell_type": "code",
   "execution_count": 29,
   "metadata": {},
   "outputs": [
    {
     "data": {
      "text/plain": [
       "array(['DE BACA COUNTY, NM', 'DE KALB COUNTY, AL', 'DE SOTO COUNTY, FL',\n",
       "       'DE WITT COUNTY, TX', 'MIAMI-DADE COUNTY, FL',\n",
       "       'SAINT CLAIR COUNTY, AL', 'SAINT JOHNS COUNTY, FL',\n",
       "       'SAINT LAWRENCE COUNTY, NY', 'SAINT LUCIE COUNTY, FL'],\n",
       "      dtype=object)"
      ]
     },
     "execution_count": 29,
     "metadata": {},
     "output_type": "execute_result"
    }
   ],
   "source": [
    "missing_counties\n"
   ]
  },
  {
   "cell_type": "markdown",
   "metadata": {},
   "source": [
    "***A Lot of manual digging took place from this moment forward. Its removed. Couple things identified:***\n",
    "\n",
    "* De Baca County, NM is DeBaca County, NM\n",
    "* Saint Lawrence County, NY is St. Lawrence County, NY\n",
    "* De Kalb County, AL is DeKalb County, AL\n",
    "* De Soto County, FL is DeSoto County, FL\n",
    "* De Witt County, TX is Dewitt County, TX\n",
    "* Dade County, FL is Miami-Dade County, FL\n",
    "* Saint Clair County, AL is St. Clair County, AL\n",
    "* Saint Johns County, FL is St. Johns County, FL\n",
    "* Saint Lucie County, FL is St. Lucie County, FL"
   ]
  },
  {
   "cell_type": "code",
   "execution_count": 30,
   "metadata": {},
   "outputs": [
    {
     "data": {
      "text/plain": [
       "True"
      ]
     },
     "execution_count": 30,
     "metadata": {},
     "output_type": "execute_result"
    }
   ],
   "source": [
    "\"DONA ANA COUNTY, NM\" in wapo_df_fips[\"COUNTY_NAME\"].unique()\n"
   ]
  },
  {
   "cell_type": "code",
   "execution_count": 31,
   "metadata": {},
   "outputs": [
    {
     "data": {
      "text/plain": [
       "False"
      ]
     },
     "execution_count": 31,
     "metadata": {},
     "output_type": "execute_result"
    }
   ],
   "source": [
    "\"DOÑA ANA COUNTY, NM\" in wapo_df_fips[\"COUNTY_NAME\"].unique()\n"
   ]
  },
  {
   "cell_type": "code",
   "execution_count": 32,
   "metadata": {},
   "outputs": [],
   "source": [
    "# show counties that are in the missing counties list\n",
    "# wapo_df[wapo_df[\"COUNTY_NAME\"].isin(missing_counties)]\n"
   ]
  },
  {
   "cell_type": "code",
   "execution_count": 33,
   "metadata": {},
   "outputs": [],
   "source": [
    "# fix the names\n",
    "wapo_df[\"COUNTY_NAME\"] = wapo_df[\"COUNTY_NAME\"].replace(\n",
    "    {\n",
    "        \"DE KALB COUNTY, AL\": \"DEKALB COUNTY, AL\",\n",
    "        \"DE SOTO COUNTY, FL\": \"DESOTO COUNTY, FL\",\n",
    "        \"DE WITT COUNTY, TX\": \"DEWITT COUNTY, TX\",\n",
    "        \"MIAMI-DADE COUNTY, FL\": \"DADE COUNTY, FL\",\n",
    "        \"SAINT CLAIR COUNTY, AL\": \"ST. CLAIR COUNTY, AL\",\n",
    "        \"SAINT JOHNS COUNTY, FL\": \"ST. JOHNS COUNTY, FL\",\n",
    "        \"SAINT LUCIE COUNTY, FL\": \"ST. LUCIE COUNTY, FL\",\n",
    "        \"DE BACA COUNTY, NM\": \"DEBACA COUNTY, NM\",\n",
    "        \"SAINT LAWRENCE COUNTY, NY\": \"ST. LAWRENCE COUNTY, NY\",\n",
    "    }\n",
    ")\n"
   ]
  },
  {
   "cell_type": "code",
   "execution_count": 34,
   "metadata": {},
   "outputs": [
    {
     "data": {
      "text/html": [
       "<div>\n",
       "<style scoped>\n",
       "    .dataframe tbody tr th:only-of-type {\n",
       "        vertical-align: middle;\n",
       "    }\n",
       "\n",
       "    .dataframe tbody tr th {\n",
       "        vertical-align: top;\n",
       "    }\n",
       "\n",
       "    .dataframe thead th {\n",
       "        text-align: right;\n",
       "    }\n",
       "</style>\n",
       "<table border=\"1\" class=\"dataframe\">\n",
       "  <thead>\n",
       "    <tr style=\"text-align: right;\">\n",
       "      <th></th>\n",
       "      <th>COUNTY_NAME</th>\n",
       "      <th>STATE</th>\n",
       "      <th>YEAR</th>\n",
       "      <th>QUANTITY</th>\n",
       "    </tr>\n",
       "  </thead>\n",
       "  <tbody>\n",
       "  </tbody>\n",
       "</table>\n",
       "</div>"
      ],
      "text/plain": [
       "Empty DataFrame\n",
       "Columns: [COUNTY_NAME, STATE, YEAR, QUANTITY]\n",
       "Index: []"
      ]
     },
     "execution_count": 34,
     "metadata": {},
     "output_type": "execute_result"
    }
   ],
   "source": [
    "# show counties that are in the missing counties list\n",
    "wapo_df[wapo_df[\"COUNTY_NAME\"].isin(missing_counties)]\n"
   ]
  },
  {
   "cell_type": "markdown",
   "metadata": {},
   "source": [
    "***Success, let's do the merge over***"
   ]
  },
  {
   "cell_type": "code",
   "execution_count": 35,
   "metadata": {},
   "outputs": [],
   "source": [
    "# Add FIPS codes to the wapo_df data by merging on county_name\n",
    "wapo_df_fips = pd.merge(wapo_df, fips_df, on=\"COUNTY_NAME\", how=\"left\").copy()\n"
   ]
  },
  {
   "cell_type": "code",
   "execution_count": 36,
   "metadata": {},
   "outputs": [],
   "source": [
    "# Drop STATE_FIPS and STATE_y\n",
    "wapo_df_fips = wapo_df_fips.drop([\"STATE_FIPS\", \"STATE_y\"], axis=1)\n",
    "\n",
    "# strip the last character from the FIPS column\n",
    "wapo_df_fips[\"FIPS\"] = wapo_df_fips[\"FIPS\"].str[:-1]\n",
    "\n",
    "# Add the same merge key\n",
    "wapo_df_fips[\"merge_key\"] = wapo_df_fips[\"FIPS\"] + wapo_df_fips[\"YEAR\"].astype(str)\n",
    "\n",
    "# rename the QUANTITY column to DRUG_QUANTITY\n",
    "wapo_df_fips = wapo_df_fips.rename(\n",
    "    columns={\"QUANTITY\": \"DRUG_QUANTITY\", \"STATE_x\": \"STATE\"}\n",
    ")\n",
    "\n",
    "# add a flag column to indicate the source of the data\n",
    "wapo_df_fips[\"source\"] = 1\n"
   ]
  },
  {
   "cell_type": "code",
   "execution_count": 37,
   "metadata": {},
   "outputs": [
    {
     "data": {
      "text/html": [
       "<div>\n",
       "<style scoped>\n",
       "    .dataframe tbody tr th:only-of-type {\n",
       "        vertical-align: middle;\n",
       "    }\n",
       "\n",
       "    .dataframe tbody tr th {\n",
       "        vertical-align: top;\n",
       "    }\n",
       "\n",
       "    .dataframe thead th {\n",
       "        text-align: right;\n",
       "    }\n",
       "</style>\n",
       "<table border=\"1\" class=\"dataframe\">\n",
       "  <thead>\n",
       "    <tr style=\"text-align: right;\">\n",
       "      <th></th>\n",
       "      <th>COUNTY_NAME</th>\n",
       "      <th>STATE</th>\n",
       "      <th>YEAR</th>\n",
       "      <th>DRUG_QUANTITY</th>\n",
       "      <th>FIPS</th>\n",
       "      <th>FIPS_INT</th>\n",
       "      <th>merge_key</th>\n",
       "      <th>source</th>\n",
       "    </tr>\n",
       "  </thead>\n",
       "  <tbody>\n",
       "  </tbody>\n",
       "</table>\n",
       "</div>"
      ],
      "text/plain": [
       "Empty DataFrame\n",
       "Columns: [COUNTY_NAME, STATE, YEAR, DRUG_QUANTITY, FIPS, FIPS_INT, merge_key, source]\n",
       "Index: []"
      ]
     },
     "execution_count": 37,
     "metadata": {},
     "output_type": "execute_result"
    }
   ],
   "source": [
    "# show rows with NaN\n",
    "wapo_df_fips[wapo_df_fips[\"FIPS\"].isna()]\n"
   ]
  },
  {
   "cell_type": "code",
   "execution_count": 38,
   "metadata": {},
   "outputs": [],
   "source": [
    "# wapo_df_fips.sample(10)\n"
   ]
  },
  {
   "cell_type": "code",
   "execution_count": 39,
   "metadata": {},
   "outputs": [
    {
     "name": "stdout",
     "output_type": "stream",
     "text": [
      "There are 8947 rows in the wapo_df_fips\n"
     ]
    }
   ],
   "source": [
    "print(f\"There are {wapo_df_fips.shape[0]} rows in the wapo_df_fips\")\n"
   ]
  },
  {
   "cell_type": "markdown",
   "metadata": {},
   "source": [
    "#### Merging"
   ]
  },
  {
   "cell_type": "markdown",
   "metadata": {},
   "source": [
    "***Make the base DF with records for all counties for all years***"
   ]
  },
  {
   "cell_type": "code",
   "execution_count": 40,
   "metadata": {},
   "outputs": [],
   "source": [
    "# Make the year list from 2003 to 2015\n",
    "year_list = [i for i in range(2003, 2016)]\n",
    "\n",
    "# make a base empty dataframe\n",
    "base_df = pd.DataFrame()\n",
    "\n",
    "# Make a loop that populates the dataframe with a row for each county and year\n",
    "for i in fips_df[\"FIPS\"]:\n",
    "    for j in year_list:\n",
    "        # concat the new record to the base_df\n",
    "        base_df = pd.concat(\n",
    "            [\n",
    "                base_df,\n",
    "                pd.DataFrame(\n",
    "                    {\n",
    "                        \"county_name\": fips_df[fips_df[\"FIPS\"] == i][\n",
    "                            \"COUNTY_NAME\"\n",
    "                        ].values[0],\n",
    "                        \"state\": fips_df[fips_df[\"FIPS\"] == i][\"STATE\"].values[0],\n",
    "                        \"year\": j,\n",
    "                        \"fips\": i,\n",
    "                        \"merge_key\": str(i[:-1]) + str(j),\n",
    "                    },\n",
    "                    index=[0],\n",
    "                ),\n",
    "            ]\n",
    "        )\n",
    "\n",
    "# convert merge key to int\n",
    "# base_df[\"merge_key\"] = base_df[\"merge_key\"].astype(int)\n",
    "\n",
    "# reset the index\n",
    "base_df = base_df.reset_index(drop=True)\n"
   ]
  },
  {
   "cell_type": "code",
   "execution_count": 41,
   "metadata": {},
   "outputs": [],
   "source": [
    "# base_df.sample(10)\n",
    "\n",
    "# show DADE COUNTY, FL\n",
    "# base_df[base_df[\"county_name\"] == \"DADE COUNTY, FL\"]\n"
   ]
  },
  {
   "cell_type": "code",
   "execution_count": 42,
   "metadata": {},
   "outputs": [],
   "source": [
    "assert len(year_list) * fips_df.shape[0] == base_df.shape[0]\n"
   ]
  },
  {
   "cell_type": "markdown",
   "metadata": {},
   "source": [
    "***Left merge to add vital stats***"
   ]
  },
  {
   "cell_type": "code",
   "execution_count": 43,
   "metadata": {},
   "outputs": [],
   "source": [
    "# Left merge the base_df with the vital_df\n",
    "base_df_vital = pd.merge(base_df, vital_df, on=\"merge_key\", how=\"left\")\n"
   ]
  },
  {
   "cell_type": "code",
   "execution_count": 44,
   "metadata": {},
   "outputs": [],
   "source": [
    "# base_df_vital.head(20)\n"
   ]
  },
  {
   "cell_type": "code",
   "execution_count": 45,
   "metadata": {},
   "outputs": [
    {
     "data": {
      "text/plain": [
       "3064"
      ]
     },
     "execution_count": 45,
     "metadata": {},
     "output_type": "execute_result"
    }
   ],
   "source": [
    "# count rows where drug is not na\n",
    "base_df_vital[\"DRUG\"].notna().sum()\n"
   ]
  },
  {
   "cell_type": "code",
   "execution_count": 46,
   "metadata": {},
   "outputs": [],
   "source": [
    "# make sure miami-dade is gone\n",
    "# base_df_vital.tail(15)\n"
   ]
  },
  {
   "cell_type": "markdown",
   "metadata": {},
   "source": [
    "***We are losing 13 counties from the vital stats merge. We will need to investigate this.***\n",
    "\n",
    "***Spoiler: it was maimi-dade county***"
   ]
  },
  {
   "cell_type": "code",
   "execution_count": 47,
   "metadata": {},
   "outputs": [],
   "source": [
    "# show the na county_name\n",
    "# base_df_vital.tail(15)\n",
    "\n",
    "# It was miami dade county, fl\n"
   ]
  },
  {
   "cell_type": "code",
   "execution_count": 48,
   "metadata": {},
   "outputs": [],
   "source": [
    "assert base_df_vital[\"DRUG\"].sum() == vital_df[\"DRUG\"].sum()\n"
   ]
  },
  {
   "cell_type": "code",
   "execution_count": 49,
   "metadata": {},
   "outputs": [],
   "source": [
    "# base_df_vital.tail(15)\n",
    "\n",
    "# success, drop the extra rows we acquired\n"
   ]
  },
  {
   "cell_type": "code",
   "execution_count": 50,
   "metadata": {},
   "outputs": [],
   "source": [
    "# Drop COUNTY_NAME, STATE, FIPS, YEAR, DRUG\n",
    "base_df_vital = base_df_vital.drop(\n",
    "    [\"COUNTY_NAME\", \"STATE\", \"FIPS\", \"YEAR\", \"DRUG\"], axis=1\n",
    ")\n",
    "\n",
    "# rename DEATHS to drug_deaths\n",
    "base_df_vital = base_df_vital.rename(columns={\"DEATHS\": \"drug_deaths\"})\n"
   ]
  },
  {
   "cell_type": "code",
   "execution_count": 51,
   "metadata": {},
   "outputs": [],
   "source": [
    "# base_df_vital.sample(10)\n"
   ]
  },
  {
   "cell_type": "markdown",
   "metadata": {},
   "source": [
    "***Now merge the wapo df in***"
   ]
  },
  {
   "cell_type": "code",
   "execution_count": 52,
   "metadata": {},
   "outputs": [],
   "source": [
    "# Left merge the base_df_vital with the wapo_df_fips\n",
    "base_df_vital_wapo = pd.merge(base_df_vital, wapo_df_fips, on=\"merge_key\", how=\"outer\")\n"
   ]
  },
  {
   "cell_type": "code",
   "execution_count": 53,
   "metadata": {},
   "outputs": [],
   "source": [
    "# Looks like we caught all the issues...\n",
    "\n",
    "# base_df_vital_wapo.tail(10)\n"
   ]
  },
  {
   "cell_type": "code",
   "execution_count": 54,
   "metadata": {},
   "outputs": [],
   "source": [
    "# Drop the COUNTY_NAME, STATE, YEAR, FIPS, and FIPS_INT columns\n",
    "base_df_vital_wapo = base_df_vital_wapo.drop(\n",
    "    [\"COUNTY_NAME\", \"STATE\", \"YEAR\", \"FIPS\", \"FIPS_INT\"], axis=1\n",
    ")\n"
   ]
  },
  {
   "cell_type": "code",
   "execution_count": 55,
   "metadata": {},
   "outputs": [],
   "source": [
    "# all the rows found a home\n",
    "assert base_df_vital_wapo[\"source\"].sum() == wapo_df_fips[\"source\"].sum()\n"
   ]
  },
  {
   "cell_type": "code",
   "execution_count": 56,
   "metadata": {},
   "outputs": [],
   "source": [
    "# drop the source column\n",
    "base_df_vital_wapo = base_df_vital_wapo.drop(\"source\", axis=1)\n",
    "\n",
    "# rename the DRUG_QUANTITY column to drug_quantity\n",
    "base_df_vital_wapo = base_df_vital_wapo.rename(\n",
    "    columns={\"DRUG_QUANTITY\": \"drug_quantity\"}\n",
    ")\n"
   ]
  },
  {
   "cell_type": "code",
   "execution_count": 57,
   "metadata": {},
   "outputs": [],
   "source": [
    "# base_df_vital_wapo.sample(10)\n"
   ]
  },
  {
   "cell_type": "markdown",
   "metadata": {},
   "source": [
    "#### Add population"
   ]
  },
  {
   "cell_type": "code",
   "execution_count": 58,
   "metadata": {},
   "outputs": [],
   "source": [
    "# merge in the population data\n",
    "base_df_vital_wapo_pop = pd.merge(\n",
    "    base_df_vital_wapo, census_df, on=\"county_name\", how=\"left\"\n",
    ")\n"
   ]
  },
  {
   "cell_type": "code",
   "execution_count": 59,
   "metadata": {},
   "outputs": [],
   "source": [
    "# show the DADE COUNTY, FL values to verify pop is correct\n",
    "# base_df_vital_wapo_pop[base_df_vital_wapo_pop[\"county_name\"] == \"DADE COUNTY, FL\"]\n"
   ]
  },
  {
   "cell_type": "code",
   "execution_count": 60,
   "metadata": {},
   "outputs": [],
   "source": [
    "# check tail to make sure miami-dade doesn't creep in\n",
    "# base_df_vital_wapo_pop.tail(15)\n"
   ]
  },
  {
   "cell_type": "code",
   "execution_count": 61,
   "metadata": {},
   "outputs": [
    {
     "data": {
      "text/plain": [
       "0"
      ]
     },
     "execution_count": 61,
     "metadata": {},
     "output_type": "execute_result"
    }
   ],
   "source": [
    "# count the rows where pop is na\n",
    "base_df_vital_wapo_pop[\"POPULATION\"].isna().sum()\n",
    "\n",
    "# drop em\n",
    "# base_df_vital_wapo_pop = base_df_vital_wapo_pop.dropna(subset=[\"POPULATION\"])\n"
   ]
  },
  {
   "cell_type": "code",
   "execution_count": 62,
   "metadata": {},
   "outputs": [
    {
     "data": {
      "text/html": [
       "<div>\n",
       "<style scoped>\n",
       "    .dataframe tbody tr th:only-of-type {\n",
       "        vertical-align: middle;\n",
       "    }\n",
       "\n",
       "    .dataframe tbody tr th {\n",
       "        vertical-align: top;\n",
       "    }\n",
       "\n",
       "    .dataframe thead th {\n",
       "        text-align: right;\n",
       "    }\n",
       "</style>\n",
       "<table border=\"1\" class=\"dataframe\">\n",
       "  <thead>\n",
       "    <tr style=\"text-align: right;\">\n",
       "      <th></th>\n",
       "      <th>county_name</th>\n",
       "      <th>state</th>\n",
       "      <th>year</th>\n",
       "      <th>fips</th>\n",
       "      <th>merge_key</th>\n",
       "      <th>drug_deaths</th>\n",
       "      <th>drug_quantity</th>\n",
       "      <th>POPULATION</th>\n",
       "      <th>STATE</th>\n",
       "    </tr>\n",
       "  </thead>\n",
       "  <tbody>\n",
       "  </tbody>\n",
       "</table>\n",
       "</div>"
      ],
      "text/plain": [
       "Empty DataFrame\n",
       "Columns: [county_name, state, year, fips, merge_key, drug_deaths, drug_quantity, POPULATION, STATE]\n",
       "Index: []"
      ]
     },
     "execution_count": 62,
     "metadata": {},
     "output_type": "execute_result"
    }
   ],
   "source": [
    "base_df_vital_wapo_pop[base_df_vital_wapo_pop[\"POPULATION\"].isna()]\n"
   ]
  },
  {
   "cell_type": "code",
   "execution_count": 63,
   "metadata": {},
   "outputs": [],
   "source": [
    "assert base_df_vital_wapo_pop.POPULATION.isna().sum() == 0\n"
   ]
  },
  {
   "cell_type": "code",
   "execution_count": 64,
   "metadata": {},
   "outputs": [
    {
     "data": {
      "text/html": [
       "<div>\n",
       "<style scoped>\n",
       "    .dataframe tbody tr th:only-of-type {\n",
       "        vertical-align: middle;\n",
       "    }\n",
       "\n",
       "    .dataframe tbody tr th {\n",
       "        vertical-align: top;\n",
       "    }\n",
       "\n",
       "    .dataframe thead th {\n",
       "        text-align: right;\n",
       "    }\n",
       "</style>\n",
       "<table border=\"1\" class=\"dataframe\">\n",
       "  <thead>\n",
       "    <tr style=\"text-align: right;\">\n",
       "      <th></th>\n",
       "      <th>county_name</th>\n",
       "      <th>state</th>\n",
       "      <th>year</th>\n",
       "      <th>fips</th>\n",
       "      <th>merge_key</th>\n",
       "      <th>drug_deaths</th>\n",
       "      <th>drug_quantity</th>\n",
       "      <th>POPULATION</th>\n",
       "      <th>STATE</th>\n",
       "    </tr>\n",
       "  </thead>\n",
       "  <tbody>\n",
       "  </tbody>\n",
       "</table>\n",
       "</div>"
      ],
      "text/plain": [
       "Empty DataFrame\n",
       "Columns: [county_name, state, year, fips, merge_key, drug_deaths, drug_quantity, POPULATION, STATE]\n",
       "Index: []"
      ]
     },
     "execution_count": 64,
     "metadata": {},
     "output_type": "execute_result"
    }
   ],
   "source": [
    "# show na population rows\n",
    "base_df_vital_wapo_pop[base_df_vital_wapo_pop[\"POPULATION\"].isna()]\n"
   ]
  },
  {
   "cell_type": "code",
   "execution_count": 65,
   "metadata": {},
   "outputs": [],
   "source": [
    "# drop the STATE column\n",
    "base_df_vital_wapo_pop = base_df_vital_wapo_pop.drop(\"STATE\", axis=1)\n",
    "\n",
    "# rename the POPULATION column to population\n",
    "base_df_vital_wapo_pop = base_df_vital_wapo_pop.rename(\n",
    "    columns={\"POPULATION\": \"population\"}\n",
    ")\n"
   ]
  },
  {
   "cell_type": "code",
   "execution_count": 66,
   "metadata": {},
   "outputs": [],
   "source": [
    "# base_df_vital_wapo_pop.sample(10)\n"
   ]
  },
  {
   "cell_type": "code",
   "execution_count": 67,
   "metadata": {},
   "outputs": [],
   "source": [
    "# base_df_vital_wapo_pop[base_df_vital_wapo_pop[\"state\"] == \"NM\"][\"county_name\"].unique()\n"
   ]
  },
  {
   "cell_type": "markdown",
   "metadata": {},
   "source": [
    "#### Add columns for per capita rates"
   ]
  },
  {
   "cell_type": "code",
   "execution_count": 68,
   "metadata": {},
   "outputs": [],
   "source": [
    "grouped_df = base_df_vital_wapo_pop.copy()\n"
   ]
  },
  {
   "cell_type": "code",
   "execution_count": 69,
   "metadata": {},
   "outputs": [],
   "source": [
    "# add a column for death rate per 100,000 people\n",
    "grouped_df[\"death_rate\"] = grouped_df[\"drug_deaths\"] / grouped_df[\"population\"] * 100000\n",
    "\n",
    "# add a column for ship rate per 100,000 people\n",
    "grouped_df[\"ship_rate\"] = (\n",
    "    grouped_df[\"drug_quantity\"] / grouped_df[\"population\"] * 100000\n",
    ")\n"
   ]
  },
  {
   "cell_type": "code",
   "execution_count": 70,
   "metadata": {},
   "outputs": [],
   "source": [
    "# grouped_df.sample(10)\n"
   ]
  },
  {
   "cell_type": "markdown",
   "metadata": {},
   "source": [
    "***Add assert tests***"
   ]
  },
  {
   "cell_type": "code",
   "execution_count": 71,
   "metadata": {},
   "outputs": [],
   "source": [
    "assert len(grouped_df[\"county_name\"].unique()) == 1039\n",
    "# FIXED, 1039 is correct\n",
    "\n",
    "# check if we have any missing counties\n",
    "assert set(fips_df[\"COUNTY_NAME\"].unique()) == set(grouped_df[\"county_name\"].unique())\n"
   ]
  },
  {
   "cell_type": "markdown",
   "metadata": {},
   "source": [
    "#### Export the final grouped df"
   ]
  },
  {
   "cell_type": "code",
   "execution_count": 72,
   "metadata": {},
   "outputs": [],
   "source": [
    "# export to the 20_intermediate_files directory\n",
    "grouped_df.to_csv(\"../20_intermediate_files/analysis_df.csv\", index=False)\n"
   ]
  },
  {
   "cell_type": "code",
   "execution_count": null,
   "metadata": {},
   "outputs": [],
   "source": []
  }
 ],
 "metadata": {
  "kernelspec": {
   "display_name": "Python 3.10.6 ('base')",
   "language": "python",
   "name": "python3"
  },
  "language_info": {
   "codemirror_mode": {
    "name": "ipython",
    "version": 3
   },
   "file_extension": ".py",
   "mimetype": "text/x-python",
   "name": "python",
   "nbconvert_exporter": "python",
   "pygments_lexer": "ipython3",
   "version": "3.10.6"
  },
  "orig_nbformat": 4,
  "vscode": {
   "interpreter": {
    "hash": "84b9370629bc80826ce6aeb009e770dfe4ed6af6eef03d00ae361c57df430492"
   }
  }
 },
 "nbformat": 4,
 "nbformat_minor": 2
}
