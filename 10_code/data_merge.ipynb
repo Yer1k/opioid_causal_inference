{
 "cells": [
  {
   "cell_type": "markdown",
   "metadata": {},
   "source": [
    "# Data Merging Notebook"
   ]
  },
  {
   "cell_type": "markdown",
   "metadata": {},
   "source": [
    "#### This notebook merges data from the 20_intermediate_files directory and saves a merged dataset for final analysis. We use a notebook for this instead of a script for interpretability across teammates and easier error checking."
   ]
  },
  {
   "cell_type": "markdown",
   "metadata": {},
   "source": [
    "#### Imports"
   ]
  },
  {
   "cell_type": "code",
   "execution_count": 93,
   "metadata": {},
   "outputs": [],
   "source": [
    "import pandas as pd\n",
    "import numpy as np\n"
   ]
  },
  {
   "cell_type": "markdown",
   "metadata": {},
   "source": [
    "#### Import datasets"
   ]
  },
  {
   "cell_type": "code",
   "execution_count": 94,
   "metadata": {},
   "outputs": [],
   "source": [
    "# set directory\n",
    "working_dir = \"../20_intermediate_files/\"\n",
    "\n",
    "# set file paths\n",
    "census = working_dir + \"census_df.csv\"\n",
    "fips = working_dir + \"fips_df.csv\"\n",
    "vital = working_dir + \"vital_clean.csv\"\n",
    "wapo = working_dir + \"wapo_clean.csv\"\n"
   ]
  },
  {
   "cell_type": "code",
   "execution_count": 95,
   "metadata": {},
   "outputs": [],
   "source": [
    "# read in data\n",
    "census_df = pd.read_csv(census)\n",
    "fips_df = pd.read_csv(fips, dtype={\"FIPS\": str, \"STATE_FIPS\": str})\n",
    "vital_df = pd.read_csv(vital, dtype={\"FIPS\": str})\n",
    "wapo_df = pd.read_csv(wapo, dtype={\"YEAR\": str, \"MONTH\": str})\n"
   ]
  },
  {
   "cell_type": "markdown",
   "metadata": {},
   "source": [
    "#### Merge Prep"
   ]
  },
  {
   "cell_type": "markdown",
   "metadata": {},
   "source": [
    "***Census Data is low drama***"
   ]
  },
  {
   "cell_type": "code",
   "execution_count": 96,
   "metadata": {},
   "outputs": [],
   "source": [
    "# take a look at the data starting with census\n",
    "\n",
    "# rename county_name to match other data\n",
    "census_df = census_df.rename(columns={\"COUNTY_NAME\": \"county_name\"})\n",
    "\n",
    "# Rename Miami-Dade County to Dade County\n",
    "census_df.loc[\n",
    "    census_df[\"county_name\"] == \"MIAMI-DADE COUNTY, FL\", \"county_name\"\n",
    "] = \"DADE COUNTY, FL\"\n"
   ]
  },
  {
   "cell_type": "code",
   "execution_count": 97,
   "metadata": {},
   "outputs": [],
   "source": [
    "# show counties that contain the word DADE\n",
    "# census_df[census_df[\"county_name\"].str.contains(\"DADE\")]\n"
   ]
  },
  {
   "cell_type": "code",
   "execution_count": 98,
   "metadata": {},
   "outputs": [
    {
     "name": "stdout",
     "output_type": "stream",
     "text": [
      "There are 540 counties in the census data.\n"
     ]
    }
   ],
   "source": [
    "print(f\"There are {census_df.shape[0]} counties in the census data.\")\n"
   ]
  },
  {
   "cell_type": "code",
   "execution_count": 99,
   "metadata": {},
   "outputs": [],
   "source": [
    "# census_df.sample(5)\n"
   ]
  },
  {
   "cell_type": "markdown",
   "metadata": {},
   "source": [
    "***Fix the FIPS data next to remove the state-only lines***"
   ]
  },
  {
   "cell_type": "code",
   "execution_count": 100,
   "metadata": {},
   "outputs": [],
   "source": [
    "# add a new column of the int of the FIPS code\n",
    "fips_df[\"FIPS_INT\"] = fips_df[\"FIPS\"].astype(int)\n",
    "\n",
    "# drop the row if the FIPS code is divisible by 100\n",
    "fips_df = fips_df[fips_df[\"FIPS_INT\"] % 100 != 0]\n"
   ]
  },
  {
   "cell_type": "code",
   "execution_count": 101,
   "metadata": {},
   "outputs": [],
   "source": [
    "# show fips for counties that contain the word DADE\n",
    "# fips_df[fips_df[\"COUNTY_NAME\"].str.contains(\"DADE\")]\n"
   ]
  },
  {
   "cell_type": "code",
   "execution_count": 102,
   "metadata": {},
   "outputs": [],
   "source": [
    "# FIPS codes\n",
    "# fips_df.dtypes\n",
    "# fips_df.sample(5)\n"
   ]
  },
  {
   "cell_type": "code",
   "execution_count": 103,
   "metadata": {},
   "outputs": [
    {
     "name": "stdout",
     "output_type": "stream",
     "text": [
      "There are 540 counties in the FIPS data set.\n"
     ]
    }
   ],
   "source": [
    "print(f\"There are {fips_df.shape[0]} counties in the FIPS data set.\")\n"
   ]
  },
  {
   "cell_type": "markdown",
   "metadata": {},
   "source": [
    "***Clean the Vital DF to add the new merge key with FIPS code***"
   ]
  },
  {
   "cell_type": "code",
   "execution_count": 104,
   "metadata": {},
   "outputs": [],
   "source": [
    "# show miami dade county\n",
    "# vital_df[vital_df[\"FIPS\"] == \"12086\"]\n",
    "# vital_df[vital_df[\"FIPS\"] == \"12025\"]\n",
    "\n",
    "# because it changed\n",
    "\n",
    "# change the FIPS code for Miami-Dade County (12086) to 12025 to match Dade County\n",
    "vital_df.loc[vital_df[\"FIPS\"] == \"12086\", \"FIPS\"] = \"12025\"\n",
    "\n",
    "vital_df_dade = vital_df.copy()\n"
   ]
  },
  {
   "cell_type": "code",
   "execution_count": 105,
   "metadata": {},
   "outputs": [
    {
     "data": {
      "text/html": [
       "<div>\n",
       "<style scoped>\n",
       "    .dataframe tbody tr th:only-of-type {\n",
       "        vertical-align: middle;\n",
       "    }\n",
       "\n",
       "    .dataframe tbody tr th {\n",
       "        vertical-align: top;\n",
       "    }\n",
       "\n",
       "    .dataframe thead th {\n",
       "        text-align: right;\n",
       "    }\n",
       "</style>\n",
       "<table border=\"1\" class=\"dataframe\">\n",
       "  <thead>\n",
       "    <tr style=\"text-align: right;\">\n",
       "      <th></th>\n",
       "      <th>COUNTY_NAME</th>\n",
       "      <th>FIPS</th>\n",
       "      <th>YEAR</th>\n",
       "      <th>STATE</th>\n",
       "      <th>DRUG</th>\n",
       "      <th>DEATHS</th>\n",
       "    </tr>\n",
       "  </thead>\n",
       "  <tbody>\n",
       "  </tbody>\n",
       "</table>\n",
       "</div>"
      ],
      "text/plain": [
       "Empty DataFrame\n",
       "Columns: [COUNTY_NAME, FIPS, YEAR, STATE, DRUG, DEATHS]\n",
       "Index: []"
      ]
     },
     "execution_count": 105,
     "metadata": {},
     "output_type": "execute_result"
    }
   ],
   "source": [
    "vital_df_dade[vital_df_dade[\"FIPS\"] == \"12086\"]\n"
   ]
  },
  {
   "cell_type": "code",
   "execution_count": 106,
   "metadata": {},
   "outputs": [],
   "source": [
    "# if the FIPS code is six characters, remove the leading zero\n",
    "vital_df_dade[\"FIPS\"] = vital_df_dade[\"FIPS\"].apply(\n",
    "    lambda x: x[1:] if len(x) == 6 else x\n",
    ")\n",
    "\n",
    "# Add a column for the merge key: County_name+year\n",
    "vital_df_dade[\"merge_key\"] = vital_df_dade[\"FIPS\"] + vital_df_dade[\"YEAR\"].astype(str)\n",
    "\n",
    "# Convert merge key to an int\n",
    "# vital_df_dade[\"merge_key\"] = vital_df_dade[\"merge_key\"].astype(int)\n",
    "\n",
    "# Vital Stats\n",
    "# vital_df_dade.sample(5)\n"
   ]
  },
  {
   "cell_type": "code",
   "execution_count": 107,
   "metadata": {},
   "outputs": [
    {
     "data": {
      "text/html": [
       "<div>\n",
       "<style scoped>\n",
       "    .dataframe tbody tr th:only-of-type {\n",
       "        vertical-align: middle;\n",
       "    }\n",
       "\n",
       "    .dataframe tbody tr th {\n",
       "        vertical-align: top;\n",
       "    }\n",
       "\n",
       "    .dataframe thead th {\n",
       "        text-align: right;\n",
       "    }\n",
       "</style>\n",
       "<table border=\"1\" class=\"dataframe\">\n",
       "  <thead>\n",
       "    <tr style=\"text-align: right;\">\n",
       "      <th></th>\n",
       "      <th>COUNTY_NAME</th>\n",
       "      <th>FIPS</th>\n",
       "      <th>YEAR</th>\n",
       "      <th>STATE</th>\n",
       "      <th>DRUG</th>\n",
       "      <th>DEATHS</th>\n",
       "      <th>merge_key</th>\n",
       "    </tr>\n",
       "  </thead>\n",
       "  <tbody>\n",
       "    <tr>\n",
       "      <th>859</th>\n",
       "      <td>MIAMI-DADE COUNTY, FL</td>\n",
       "      <td>12086</td>\n",
       "      <td>2003</td>\n",
       "      <td>FL</td>\n",
       "      <td>1</td>\n",
       "      <td>111</td>\n",
       "      <td>120862003</td>\n",
       "    </tr>\n",
       "  </tbody>\n",
       "</table>\n",
       "</div>"
      ],
      "text/plain": [
       "               COUNTY_NAME   FIPS  YEAR STATE  DRUG  DEATHS  merge_key\n",
       "859  MIAMI-DADE COUNTY, FL  12086  2003    FL     1     111  120862003"
      ]
     },
     "execution_count": 107,
     "metadata": {},
     "output_type": "execute_result"
    }
   ],
   "source": [
    "# find vital_df_dade merge key is 120862003\n",
    "vital_df_dade[vital_df_dade[\"merge_key\"] == \"120862003\"]\n"
   ]
  },
  {
   "cell_type": "code",
   "execution_count": 108,
   "metadata": {},
   "outputs": [],
   "source": [
    "# vital_df_dade.sample(10)\n"
   ]
  },
  {
   "cell_type": "code",
   "execution_count": 109,
   "metadata": {},
   "outputs": [
    {
     "data": {
      "text/plain": [
       "0"
      ]
     },
     "execution_count": 109,
     "metadata": {},
     "output_type": "execute_result"
    }
   ],
   "source": [
    "# check for duplicate merge keys\n",
    "vital_df_dade[\"merge_key\"].duplicated().sum()\n"
   ]
  },
  {
   "cell_type": "code",
   "execution_count": 110,
   "metadata": {},
   "outputs": [
    {
     "name": "stdout",
     "output_type": "stream",
     "text": [
      "There are 1497 rows in the vital_df after dade corrections.\n"
     ]
    }
   ],
   "source": [
    "print(\n",
    "    f\"There are {vital_df_dade.shape[0]} rows in the vital_df after dade corrections.\"\n",
    ")\n"
   ]
  },
  {
   "cell_type": "markdown",
   "metadata": {},
   "source": [
    "***Prep the WAPO dataset by adding FIPS to county names and generating merge key***"
   ]
  },
  {
   "cell_type": "code",
   "execution_count": 111,
   "metadata": {},
   "outputs": [],
   "source": [
    "# groupby the COUNTY_NAME, STATE, and YEAR and sum the DRUG_QUANTITY\n",
    "wapo_df = (\n",
    "    wapo_df.groupby([\"COUNTY_NAME\", \"STATE\", \"YEAR\"])\n",
    "    .agg({\"QUANTITY\": \"sum\"})\n",
    "    .reset_index()\n",
    ")\n"
   ]
  },
  {
   "cell_type": "code",
   "execution_count": 112,
   "metadata": {},
   "outputs": [],
   "source": [
    "# wapo_df.sample(10)\n"
   ]
  },
  {
   "cell_type": "code",
   "execution_count": 113,
   "metadata": {},
   "outputs": [],
   "source": [
    "# Add FIPS codes to the wapo_df data by merging on county_name\n",
    "wapo_df_fips = pd.merge(wapo_df, fips_df, on=\"COUNTY_NAME\", how=\"left\").copy()\n",
    "\n",
    "# Drop STATE_FIPS and STATE_y\n",
    "wapo_df_fips = wapo_df_fips.drop([\"STATE_FIPS\", \"STATE_y\", \"FIPS_INT\"], axis=1)\n",
    "\n",
    "# strip the last character from the FIPS column\n",
    "wapo_df_fips[\"FIPS\"] = wapo_df_fips[\"FIPS\"].str[:-1]\n",
    "\n",
    "# Add the same merge key\n",
    "wapo_df_fips[\"merge_key\"] = wapo_df_fips[\"FIPS\"] + wapo_df_fips[\"YEAR\"].astype(str)\n",
    "\n",
    "# rename the QUANTITY column to DRUG_QUANTITY\n",
    "wapo_df_fips = wapo_df_fips.rename(\n",
    "    columns={\"QUANTITY\": \"DRUG_QUANTITY\", \"STATE_x\": \"STATE\"}\n",
    ")\n",
    "\n",
    "# add a flag column to indicate the source of the data\n",
    "wapo_df_fips[\"source\"] = 1\n"
   ]
  },
  {
   "cell_type": "code",
   "execution_count": 114,
   "metadata": {},
   "outputs": [],
   "source": [
    "# WAPO Data\n",
    "# wapo_df_fips.sample(5)\n"
   ]
  },
  {
   "cell_type": "code",
   "execution_count": 115,
   "metadata": {},
   "outputs": [],
   "source": [
    "# make a list of the unique counties in the wapo_df_fips where FIPS is NaN\n",
    "missing_counties = wapo_df_fips[wapo_df_fips[\"FIPS\"].isna()][\"COUNTY_NAME\"].unique()\n"
   ]
  },
  {
   "cell_type": "markdown",
   "metadata": {},
   "source": [
    "***A Lot of manual digging took place from this moment forward. Its removed. Couple things identified:***\n",
    "\n",
    "* De Kalb County, AL is DeKalb County, AL\n",
    "* De Soto County, FL is DeSoto County, FL\n",
    "* De Witt County, TX is Dewitt County, TX\n",
    "* Dade County, FL is Miami-Dade County, FL\n",
    "* Saint Clair County, AL is St. Clair County, AL\n",
    "* Saint Johns County, FL is St. Johns County, FL\n",
    "* Saint Lucie County, FL is St. Lucie County, FL"
   ]
  },
  {
   "cell_type": "code",
   "execution_count": 116,
   "metadata": {},
   "outputs": [
    {
     "data": {
      "text/plain": [
       "array(['DE KALB COUNTY, AL', 'DE SOTO COUNTY, FL', 'DE WITT COUNTY, TX',\n",
       "       'MIAMI-DADE COUNTY, FL', 'SAINT CLAIR COUNTY, AL',\n",
       "       'SAINT JOHNS COUNTY, FL', 'SAINT LUCIE COUNTY, FL'], dtype=object)"
      ]
     },
     "execution_count": 116,
     "metadata": {},
     "output_type": "execute_result"
    }
   ],
   "source": [
    "missing_counties\n"
   ]
  },
  {
   "cell_type": "code",
   "execution_count": 117,
   "metadata": {},
   "outputs": [],
   "source": [
    "# show counties that are in the missing counties list\n",
    "# wapo_df[wapo_df[\"COUNTY_NAME\"].isin(missing_counties)]\n"
   ]
  },
  {
   "cell_type": "code",
   "execution_count": 118,
   "metadata": {},
   "outputs": [],
   "source": [
    "# fix the names\n",
    "wapo_df[\"COUNTY_NAME\"] = wapo_df[\"COUNTY_NAME\"].replace(\n",
    "    {\n",
    "        \"DE KALB COUNTY, AL\": \"DEKALB COUNTY, AL\",\n",
    "        \"DE SOTO COUNTY, FL\": \"DESOTO COUNTY, FL\",\n",
    "        \"DE WITT COUNTY, TX\": \"DEWITT COUNTY, TX\",\n",
    "        \"MIAMI-DADE COUNTY, FL\": \"DADE COUNTY, FL\",\n",
    "        \"SAINT CLAIR COUNTY, AL\": \"ST. CLAIR COUNTY, AL\",\n",
    "        \"SAINT JOHNS COUNTY, FL\": \"ST. JOHNS COUNTY, FL\",\n",
    "        \"SAINT LUCIE COUNTY, FL\": \"ST. LUCIE COUNTY, FL\",\n",
    "    }\n",
    ")\n"
   ]
  },
  {
   "cell_type": "code",
   "execution_count": 119,
   "metadata": {},
   "outputs": [
    {
     "data": {
      "text/html": [
       "<div>\n",
       "<style scoped>\n",
       "    .dataframe tbody tr th:only-of-type {\n",
       "        vertical-align: middle;\n",
       "    }\n",
       "\n",
       "    .dataframe tbody tr th {\n",
       "        vertical-align: top;\n",
       "    }\n",
       "\n",
       "    .dataframe thead th {\n",
       "        text-align: right;\n",
       "    }\n",
       "</style>\n",
       "<table border=\"1\" class=\"dataframe\">\n",
       "  <thead>\n",
       "    <tr style=\"text-align: right;\">\n",
       "      <th></th>\n",
       "      <th>COUNTY_NAME</th>\n",
       "      <th>STATE</th>\n",
       "      <th>YEAR</th>\n",
       "      <th>QUANTITY</th>\n",
       "    </tr>\n",
       "  </thead>\n",
       "  <tbody>\n",
       "  </tbody>\n",
       "</table>\n",
       "</div>"
      ],
      "text/plain": [
       "Empty DataFrame\n",
       "Columns: [COUNTY_NAME, STATE, YEAR, QUANTITY]\n",
       "Index: []"
      ]
     },
     "execution_count": 119,
     "metadata": {},
     "output_type": "execute_result"
    }
   ],
   "source": [
    "# show counties that are in the missing counties list\n",
    "wapo_df[wapo_df[\"COUNTY_NAME\"].isin(missing_counties)]\n"
   ]
  },
  {
   "cell_type": "markdown",
   "metadata": {},
   "source": [
    "***Success, let's do the merge over***"
   ]
  },
  {
   "cell_type": "code",
   "execution_count": 120,
   "metadata": {},
   "outputs": [],
   "source": [
    "# Add FIPS codes to the wapo_df data by merging on county_name\n",
    "wapo_df_fips = pd.merge(wapo_df, fips_df, on=\"COUNTY_NAME\", how=\"left\").copy()\n"
   ]
  },
  {
   "cell_type": "code",
   "execution_count": 121,
   "metadata": {},
   "outputs": [],
   "source": [
    "# Drop STATE_FIPS and STATE_y\n",
    "wapo_df_fips = wapo_df_fips.drop([\"STATE_FIPS\", \"STATE_y\"], axis=1)\n",
    "\n",
    "# strip the last character from the FIPS column\n",
    "wapo_df_fips[\"FIPS\"] = wapo_df_fips[\"FIPS\"].str[:-1]\n",
    "\n",
    "# Add the same merge key\n",
    "wapo_df_fips[\"merge_key\"] = wapo_df_fips[\"FIPS\"] + wapo_df_fips[\"YEAR\"].astype(str)\n",
    "\n",
    "# rename the QUANTITY column to DRUG_QUANTITY\n",
    "wapo_df_fips = wapo_df_fips.rename(\n",
    "    columns={\"QUANTITY\": \"DRUG_QUANTITY\", \"STATE_x\": \"STATE\"}\n",
    ")\n",
    "\n",
    "# add a flag column to indicate the source of the data\n",
    "wapo_df_fips[\"source\"] = 1\n"
   ]
  },
  {
   "cell_type": "code",
   "execution_count": 122,
   "metadata": {},
   "outputs": [
    {
     "data": {
      "text/html": [
       "<div>\n",
       "<style scoped>\n",
       "    .dataframe tbody tr th:only-of-type {\n",
       "        vertical-align: middle;\n",
       "    }\n",
       "\n",
       "    .dataframe tbody tr th {\n",
       "        vertical-align: top;\n",
       "    }\n",
       "\n",
       "    .dataframe thead th {\n",
       "        text-align: right;\n",
       "    }\n",
       "</style>\n",
       "<table border=\"1\" class=\"dataframe\">\n",
       "  <thead>\n",
       "    <tr style=\"text-align: right;\">\n",
       "      <th></th>\n",
       "      <th>COUNTY_NAME</th>\n",
       "      <th>STATE</th>\n",
       "      <th>YEAR</th>\n",
       "      <th>DRUG_QUANTITY</th>\n",
       "      <th>FIPS</th>\n",
       "      <th>FIPS_INT</th>\n",
       "      <th>merge_key</th>\n",
       "      <th>source</th>\n",
       "    </tr>\n",
       "  </thead>\n",
       "  <tbody>\n",
       "  </tbody>\n",
       "</table>\n",
       "</div>"
      ],
      "text/plain": [
       "Empty DataFrame\n",
       "Columns: [COUNTY_NAME, STATE, YEAR, DRUG_QUANTITY, FIPS, FIPS_INT, merge_key, source]\n",
       "Index: []"
      ]
     },
     "execution_count": 122,
     "metadata": {},
     "output_type": "execute_result"
    }
   ],
   "source": [
    "# show rows with NaN\n",
    "wapo_df_fips[wapo_df_fips[\"FIPS\"].isna()]\n"
   ]
  },
  {
   "cell_type": "code",
   "execution_count": 123,
   "metadata": {},
   "outputs": [],
   "source": [
    "# wapo_df_fips.sample(10)\n"
   ]
  },
  {
   "cell_type": "code",
   "execution_count": 124,
   "metadata": {},
   "outputs": [
    {
     "name": "stdout",
     "output_type": "stream",
     "text": [
      "There are 3573 rows in the wapo_df_fips\n"
     ]
    }
   ],
   "source": [
    "print(f\"There are {wapo_df_fips.shape[0]} rows in the wapo_df_fips\")\n"
   ]
  },
  {
   "cell_type": "markdown",
   "metadata": {},
   "source": [
    "#### Merging"
   ]
  },
  {
   "cell_type": "markdown",
   "metadata": {},
   "source": [
    "***Make the base DF with records for all counties for all years***"
   ]
  },
  {
   "cell_type": "code",
   "execution_count": 125,
   "metadata": {},
   "outputs": [],
   "source": [
    "# Make the year list from 2003 to 2015\n",
    "year_list = [i for i in range(2003, 2016)]\n",
    "\n",
    "# make a base empty dataframe\n",
    "base_df = pd.DataFrame()\n",
    "\n",
    "# Make a loop that populates the dataframe with a row for each county and year\n",
    "for i in fips_df[\"FIPS\"]:\n",
    "    for j in year_list:\n",
    "        # concat the new record to the base_df\n",
    "        base_df = pd.concat(\n",
    "            [\n",
    "                base_df,\n",
    "                pd.DataFrame(\n",
    "                    {\n",
    "                        \"county_name\": fips_df[fips_df[\"FIPS\"] == i][\n",
    "                            \"COUNTY_NAME\"\n",
    "                        ].values[0],\n",
    "                        \"state\": fips_df[fips_df[\"FIPS\"] == i][\"STATE\"].values[0],\n",
    "                        \"year\": j,\n",
    "                        \"fips\": i,\n",
    "                        \"merge_key\": str(i[:-1]) + str(j),\n",
    "                    },\n",
    "                    index=[0],\n",
    "                ),\n",
    "            ]\n",
    "        )\n",
    "\n",
    "# convert merge key to int\n",
    "# base_df[\"merge_key\"] = base_df[\"merge_key\"].astype(int)\n",
    "\n",
    "# reset the index\n",
    "base_df = base_df.reset_index(drop=True)\n"
   ]
  },
  {
   "cell_type": "code",
   "execution_count": 126,
   "metadata": {},
   "outputs": [],
   "source": [
    "# base_df.sample(10)\n",
    "\n",
    "# show DADE COUNTY, FL\n",
    "# base_df[base_df[\"county_name\"] == \"DADE COUNTY, FL\"]\n"
   ]
  },
  {
   "cell_type": "code",
   "execution_count": 127,
   "metadata": {},
   "outputs": [],
   "source": [
    "assert len(year_list) * fips_df.shape[0] == base_df.shape[0]\n"
   ]
  },
  {
   "cell_type": "markdown",
   "metadata": {},
   "source": [
    "***Left merge to add vital stats***"
   ]
  },
  {
   "cell_type": "code",
   "execution_count": 128,
   "metadata": {},
   "outputs": [],
   "source": [
    "# Left merge the base_df with the vital_df\n",
    "base_df_vital = pd.merge(base_df, vital_df_dade, on=\"merge_key\", how=\"outer\")\n"
   ]
  },
  {
   "cell_type": "code",
   "execution_count": 129,
   "metadata": {},
   "outputs": [],
   "source": [
    "# base_df_vital.head(20)\n"
   ]
  },
  {
   "cell_type": "code",
   "execution_count": 130,
   "metadata": {},
   "outputs": [
    {
     "data": {
      "text/plain": [
       "1497"
      ]
     },
     "execution_count": 130,
     "metadata": {},
     "output_type": "execute_result"
    }
   ],
   "source": [
    "# count rows where drug is not na\n",
    "base_df_vital[\"DRUG\"].notna().sum()\n"
   ]
  },
  {
   "cell_type": "code",
   "execution_count": 131,
   "metadata": {},
   "outputs": [
    {
     "data": {
      "text/html": [
       "<div>\n",
       "<style scoped>\n",
       "    .dataframe tbody tr th:only-of-type {\n",
       "        vertical-align: middle;\n",
       "    }\n",
       "\n",
       "    .dataframe tbody tr th {\n",
       "        vertical-align: top;\n",
       "    }\n",
       "\n",
       "    .dataframe thead th {\n",
       "        text-align: right;\n",
       "    }\n",
       "</style>\n",
       "<table border=\"1\" class=\"dataframe\">\n",
       "  <thead>\n",
       "    <tr style=\"text-align: right;\">\n",
       "      <th></th>\n",
       "      <th>county_name</th>\n",
       "      <th>state</th>\n",
       "      <th>year</th>\n",
       "      <th>fips</th>\n",
       "      <th>merge_key</th>\n",
       "      <th>COUNTY_NAME</th>\n",
       "      <th>FIPS</th>\n",
       "      <th>YEAR</th>\n",
       "      <th>STATE</th>\n",
       "      <th>DRUG</th>\n",
       "      <th>DEATHS</th>\n",
       "    </tr>\n",
       "  </thead>\n",
       "  <tbody>\n",
       "    <tr>\n",
       "      <th>7018</th>\n",
       "      <td>YAKIMA COUNTY, WA</td>\n",
       "      <td>WA</td>\n",
       "      <td>2014.0</td>\n",
       "      <td>53077</td>\n",
       "      <td>530772014</td>\n",
       "      <td>YAKIMA COUNTY, WA</td>\n",
       "      <td>53077</td>\n",
       "      <td>2014.0</td>\n",
       "      <td>WA</td>\n",
       "      <td>1.0</td>\n",
       "      <td>23.0</td>\n",
       "    </tr>\n",
       "    <tr>\n",
       "      <th>7019</th>\n",
       "      <td>YAKIMA COUNTY, WA</td>\n",
       "      <td>WA</td>\n",
       "      <td>2015.0</td>\n",
       "      <td>53077</td>\n",
       "      <td>530772015</td>\n",
       "      <td>YAKIMA COUNTY, WA</td>\n",
       "      <td>53077</td>\n",
       "      <td>2015.0</td>\n",
       "      <td>WA</td>\n",
       "      <td>1.0</td>\n",
       "      <td>26.0</td>\n",
       "    </tr>\n",
       "    <tr>\n",
       "      <th>7020</th>\n",
       "      <td>NaN</td>\n",
       "      <td>NaN</td>\n",
       "      <td>NaN</td>\n",
       "      <td>NaN</td>\n",
       "      <td>120862003</td>\n",
       "      <td>MIAMI-DADE COUNTY, FL</td>\n",
       "      <td>12086</td>\n",
       "      <td>2003.0</td>\n",
       "      <td>FL</td>\n",
       "      <td>1.0</td>\n",
       "      <td>111.0</td>\n",
       "    </tr>\n",
       "    <tr>\n",
       "      <th>7021</th>\n",
       "      <td>NaN</td>\n",
       "      <td>NaN</td>\n",
       "      <td>NaN</td>\n",
       "      <td>NaN</td>\n",
       "      <td>120862004</td>\n",
       "      <td>MIAMI-DADE COUNTY, FL</td>\n",
       "      <td>12086</td>\n",
       "      <td>2004.0</td>\n",
       "      <td>FL</td>\n",
       "      <td>1.0</td>\n",
       "      <td>145.0</td>\n",
       "    </tr>\n",
       "    <tr>\n",
       "      <th>7022</th>\n",
       "      <td>NaN</td>\n",
       "      <td>NaN</td>\n",
       "      <td>NaN</td>\n",
       "      <td>NaN</td>\n",
       "      <td>120862005</td>\n",
       "      <td>MIAMI-DADE COUNTY, FL</td>\n",
       "      <td>12086</td>\n",
       "      <td>2005.0</td>\n",
       "      <td>FL</td>\n",
       "      <td>1.0</td>\n",
       "      <td>154.0</td>\n",
       "    </tr>\n",
       "    <tr>\n",
       "      <th>7023</th>\n",
       "      <td>NaN</td>\n",
       "      <td>NaN</td>\n",
       "      <td>NaN</td>\n",
       "      <td>NaN</td>\n",
       "      <td>120862006</td>\n",
       "      <td>MIAMI-DADE COUNTY, FL</td>\n",
       "      <td>12086</td>\n",
       "      <td>2006.0</td>\n",
       "      <td>FL</td>\n",
       "      <td>1.0</td>\n",
       "      <td>152.0</td>\n",
       "    </tr>\n",
       "    <tr>\n",
       "      <th>7024</th>\n",
       "      <td>NaN</td>\n",
       "      <td>NaN</td>\n",
       "      <td>NaN</td>\n",
       "      <td>NaN</td>\n",
       "      <td>120862007</td>\n",
       "      <td>MIAMI-DADE COUNTY, FL</td>\n",
       "      <td>12086</td>\n",
       "      <td>2007.0</td>\n",
       "      <td>FL</td>\n",
       "      <td>1.0</td>\n",
       "      <td>149.0</td>\n",
       "    </tr>\n",
       "    <tr>\n",
       "      <th>7025</th>\n",
       "      <td>NaN</td>\n",
       "      <td>NaN</td>\n",
       "      <td>NaN</td>\n",
       "      <td>NaN</td>\n",
       "      <td>120862008</td>\n",
       "      <td>MIAMI-DADE COUNTY, FL</td>\n",
       "      <td>12086</td>\n",
       "      <td>2008.0</td>\n",
       "      <td>FL</td>\n",
       "      <td>1.0</td>\n",
       "      <td>149.0</td>\n",
       "    </tr>\n",
       "    <tr>\n",
       "      <th>7026</th>\n",
       "      <td>NaN</td>\n",
       "      <td>NaN</td>\n",
       "      <td>NaN</td>\n",
       "      <td>NaN</td>\n",
       "      <td>120862009</td>\n",
       "      <td>MIAMI-DADE COUNTY, FL</td>\n",
       "      <td>12086</td>\n",
       "      <td>2009.0</td>\n",
       "      <td>FL</td>\n",
       "      <td>1.0</td>\n",
       "      <td>155.0</td>\n",
       "    </tr>\n",
       "    <tr>\n",
       "      <th>7027</th>\n",
       "      <td>NaN</td>\n",
       "      <td>NaN</td>\n",
       "      <td>NaN</td>\n",
       "      <td>NaN</td>\n",
       "      <td>120862010</td>\n",
       "      <td>MIAMI-DADE COUNTY, FL</td>\n",
       "      <td>12086</td>\n",
       "      <td>2010.0</td>\n",
       "      <td>FL</td>\n",
       "      <td>1.0</td>\n",
       "      <td>112.0</td>\n",
       "    </tr>\n",
       "    <tr>\n",
       "      <th>7028</th>\n",
       "      <td>NaN</td>\n",
       "      <td>NaN</td>\n",
       "      <td>NaN</td>\n",
       "      <td>NaN</td>\n",
       "      <td>120862011</td>\n",
       "      <td>MIAMI-DADE COUNTY, FL</td>\n",
       "      <td>12086</td>\n",
       "      <td>2011.0</td>\n",
       "      <td>FL</td>\n",
       "      <td>1.0</td>\n",
       "      <td>133.0</td>\n",
       "    </tr>\n",
       "    <tr>\n",
       "      <th>7029</th>\n",
       "      <td>NaN</td>\n",
       "      <td>NaN</td>\n",
       "      <td>NaN</td>\n",
       "      <td>NaN</td>\n",
       "      <td>120862012</td>\n",
       "      <td>MIAMI-DADE COUNTY, FL</td>\n",
       "      <td>12086</td>\n",
       "      <td>2012.0</td>\n",
       "      <td>FL</td>\n",
       "      <td>1.0</td>\n",
       "      <td>145.0</td>\n",
       "    </tr>\n",
       "    <tr>\n",
       "      <th>7030</th>\n",
       "      <td>NaN</td>\n",
       "      <td>NaN</td>\n",
       "      <td>NaN</td>\n",
       "      <td>NaN</td>\n",
       "      <td>120862013</td>\n",
       "      <td>MIAMI-DADE COUNTY, FL</td>\n",
       "      <td>12086</td>\n",
       "      <td>2013.0</td>\n",
       "      <td>FL</td>\n",
       "      <td>1.0</td>\n",
       "      <td>124.0</td>\n",
       "    </tr>\n",
       "    <tr>\n",
       "      <th>7031</th>\n",
       "      <td>NaN</td>\n",
       "      <td>NaN</td>\n",
       "      <td>NaN</td>\n",
       "      <td>NaN</td>\n",
       "      <td>120862014</td>\n",
       "      <td>MIAMI-DADE COUNTY, FL</td>\n",
       "      <td>12086</td>\n",
       "      <td>2014.0</td>\n",
       "      <td>FL</td>\n",
       "      <td>1.0</td>\n",
       "      <td>156.0</td>\n",
       "    </tr>\n",
       "    <tr>\n",
       "      <th>7032</th>\n",
       "      <td>NaN</td>\n",
       "      <td>NaN</td>\n",
       "      <td>NaN</td>\n",
       "      <td>NaN</td>\n",
       "      <td>120862015</td>\n",
       "      <td>MIAMI-DADE COUNTY, FL</td>\n",
       "      <td>12086</td>\n",
       "      <td>2015.0</td>\n",
       "      <td>FL</td>\n",
       "      <td>1.0</td>\n",
       "      <td>202.0</td>\n",
       "    </tr>\n",
       "  </tbody>\n",
       "</table>\n",
       "</div>"
      ],
      "text/plain": [
       "            county_name state    year    fips  merge_key  \\\n",
       "7018  YAKIMA COUNTY, WA    WA  2014.0  53077   530772014   \n",
       "7019  YAKIMA COUNTY, WA    WA  2015.0  53077   530772015   \n",
       "7020                NaN   NaN     NaN     NaN  120862003   \n",
       "7021                NaN   NaN     NaN     NaN  120862004   \n",
       "7022                NaN   NaN     NaN     NaN  120862005   \n",
       "7023                NaN   NaN     NaN     NaN  120862006   \n",
       "7024                NaN   NaN     NaN     NaN  120862007   \n",
       "7025                NaN   NaN     NaN     NaN  120862008   \n",
       "7026                NaN   NaN     NaN     NaN  120862009   \n",
       "7027                NaN   NaN     NaN     NaN  120862010   \n",
       "7028                NaN   NaN     NaN     NaN  120862011   \n",
       "7029                NaN   NaN     NaN     NaN  120862012   \n",
       "7030                NaN   NaN     NaN     NaN  120862013   \n",
       "7031                NaN   NaN     NaN     NaN  120862014   \n",
       "7032                NaN   NaN     NaN     NaN  120862015   \n",
       "\n",
       "                COUNTY_NAME   FIPS    YEAR STATE  DRUG  DEATHS  \n",
       "7018      YAKIMA COUNTY, WA  53077  2014.0    WA   1.0    23.0  \n",
       "7019      YAKIMA COUNTY, WA  53077  2015.0    WA   1.0    26.0  \n",
       "7020  MIAMI-DADE COUNTY, FL  12086  2003.0    FL   1.0   111.0  \n",
       "7021  MIAMI-DADE COUNTY, FL  12086  2004.0    FL   1.0   145.0  \n",
       "7022  MIAMI-DADE COUNTY, FL  12086  2005.0    FL   1.0   154.0  \n",
       "7023  MIAMI-DADE COUNTY, FL  12086  2006.0    FL   1.0   152.0  \n",
       "7024  MIAMI-DADE COUNTY, FL  12086  2007.0    FL   1.0   149.0  \n",
       "7025  MIAMI-DADE COUNTY, FL  12086  2008.0    FL   1.0   149.0  \n",
       "7026  MIAMI-DADE COUNTY, FL  12086  2009.0    FL   1.0   155.0  \n",
       "7027  MIAMI-DADE COUNTY, FL  12086  2010.0    FL   1.0   112.0  \n",
       "7028  MIAMI-DADE COUNTY, FL  12086  2011.0    FL   1.0   133.0  \n",
       "7029  MIAMI-DADE COUNTY, FL  12086  2012.0    FL   1.0   145.0  \n",
       "7030  MIAMI-DADE COUNTY, FL  12086  2013.0    FL   1.0   124.0  \n",
       "7031  MIAMI-DADE COUNTY, FL  12086  2014.0    FL   1.0   156.0  \n",
       "7032  MIAMI-DADE COUNTY, FL  12086  2015.0    FL   1.0   202.0  "
      ]
     },
     "execution_count": 131,
     "metadata": {},
     "output_type": "execute_result"
    }
   ],
   "source": [
    "base_df_vital.tail(15)\n"
   ]
  },
  {
   "cell_type": "markdown",
   "metadata": {},
   "source": [
    "***We are losing 13 counties from the vital stats merge. We will need to investigate this.***"
   ]
  },
  {
   "cell_type": "code",
   "execution_count": 132,
   "metadata": {},
   "outputs": [],
   "source": [
    "# show the na county_name\n",
    "# base_df_vital.tail(15)\n",
    "\n",
    "# It was miami dade county, fl\n"
   ]
  },
  {
   "cell_type": "code",
   "execution_count": 133,
   "metadata": {},
   "outputs": [],
   "source": [
    "assert base_df_vital[\"DRUG\"].sum() == vital_df[\"DRUG\"].sum()\n"
   ]
  },
  {
   "cell_type": "code",
   "execution_count": 134,
   "metadata": {},
   "outputs": [],
   "source": [
    "# base_df_vital.tail(15)\n",
    "\n",
    "# success, drop the extra rows we acquired\n"
   ]
  },
  {
   "cell_type": "code",
   "execution_count": 135,
   "metadata": {},
   "outputs": [],
   "source": [
    "# Drop COUNTY_NAME, STATE, FIPS, YEAR, DRUG\n",
    "base_df_vital = base_df_vital.drop(\n",
    "    [\"COUNTY_NAME\", \"STATE\", \"FIPS\", \"YEAR\", \"DRUG\"], axis=1\n",
    ")\n",
    "\n",
    "# rename DEATHS to drug_deaths\n",
    "base_df_vital = base_df_vital.rename(columns={\"DEATHS\": \"drug_deaths\"})\n"
   ]
  },
  {
   "cell_type": "code",
   "execution_count": 136,
   "metadata": {},
   "outputs": [],
   "source": [
    "# base_df_vital.sample(10)\n"
   ]
  },
  {
   "cell_type": "markdown",
   "metadata": {},
   "source": [
    "***Now merge the wapo df in***"
   ]
  },
  {
   "cell_type": "code",
   "execution_count": 137,
   "metadata": {},
   "outputs": [],
   "source": [
    "# Left merge the base_df_vital with the wapo_df_fips\n",
    "base_df_vital_wapo = pd.merge(base_df_vital, wapo_df_fips, on=\"merge_key\", how=\"outer\")\n"
   ]
  },
  {
   "cell_type": "code",
   "execution_count": 138,
   "metadata": {},
   "outputs": [],
   "source": [
    "# Looks like we caught all the issues...\n",
    "\n",
    "# base_df_vital_wapo.tail(10)\n"
   ]
  },
  {
   "cell_type": "code",
   "execution_count": 139,
   "metadata": {},
   "outputs": [],
   "source": [
    "# Drop the COUNTY_NAME, STATE, YEAR, FIPS, and FIPS_INT columns\n",
    "base_df_vital_wapo = base_df_vital_wapo.drop(\n",
    "    [\"COUNTY_NAME\", \"STATE\", \"YEAR\", \"FIPS\", \"FIPS_INT\"], axis=1\n",
    ")\n"
   ]
  },
  {
   "cell_type": "code",
   "execution_count": 140,
   "metadata": {},
   "outputs": [],
   "source": [
    "# all the rows found a home\n",
    "assert base_df_vital_wapo[\"source\"].sum() == wapo_df_fips[\"source\"].sum()\n"
   ]
  },
  {
   "cell_type": "code",
   "execution_count": 141,
   "metadata": {},
   "outputs": [],
   "source": [
    "# drop the source column\n",
    "base_df_vital_wapo = base_df_vital_wapo.drop(\"source\", axis=1)\n",
    "\n",
    "# rename the DRUG_QUANTITY column to drug_quantity\n",
    "base_df_vital_wapo = base_df_vital_wapo.rename(\n",
    "    columns={\"DRUG_QUANTITY\": \"drug_quantity\"}\n",
    ")\n"
   ]
  },
  {
   "cell_type": "code",
   "execution_count": 142,
   "metadata": {},
   "outputs": [],
   "source": [
    "# base_df_vital_wapo.sample(10)\n"
   ]
  },
  {
   "cell_type": "markdown",
   "metadata": {},
   "source": [
    "#### Add population"
   ]
  },
  {
   "cell_type": "code",
   "execution_count": 164,
   "metadata": {},
   "outputs": [],
   "source": [
    "# merge in the population data\n",
    "base_df_vital_wapo_pop = pd.merge(\n",
    "    base_df_vital_wapo, census_df, on=\"county_name\", how=\"left\"\n",
    ")\n"
   ]
  },
  {
   "cell_type": "code",
   "execution_count": 165,
   "metadata": {},
   "outputs": [
    {
     "data": {
      "text/html": [
       "<div>\n",
       "<style scoped>\n",
       "    .dataframe tbody tr th:only-of-type {\n",
       "        vertical-align: middle;\n",
       "    }\n",
       "\n",
       "    .dataframe tbody tr th {\n",
       "        vertical-align: top;\n",
       "    }\n",
       "\n",
       "    .dataframe thead th {\n",
       "        text-align: right;\n",
       "    }\n",
       "</style>\n",
       "<table border=\"1\" class=\"dataframe\">\n",
       "  <thead>\n",
       "    <tr style=\"text-align: right;\">\n",
       "      <th></th>\n",
       "      <th>county_name</th>\n",
       "      <th>state</th>\n",
       "      <th>year</th>\n",
       "      <th>fips</th>\n",
       "      <th>merge_key</th>\n",
       "      <th>drug_deaths</th>\n",
       "      <th>drug_quantity</th>\n",
       "      <th>POPULATION</th>\n",
       "      <th>STATE</th>\n",
       "    </tr>\n",
       "  </thead>\n",
       "  <tbody>\n",
       "    <tr>\n",
       "      <th>1027</th>\n",
       "      <td>DADE COUNTY, FL</td>\n",
       "      <td>FL</td>\n",
       "      <td>2003.0</td>\n",
       "      <td>12025</td>\n",
       "      <td>120252003</td>\n",
       "      <td>NaN</td>\n",
       "      <td>NaN</td>\n",
       "      <td>2496435.0</td>\n",
       "      <td>FL</td>\n",
       "    </tr>\n",
       "    <tr>\n",
       "      <th>1028</th>\n",
       "      <td>DADE COUNTY, FL</td>\n",
       "      <td>FL</td>\n",
       "      <td>2004.0</td>\n",
       "      <td>12025</td>\n",
       "      <td>120252004</td>\n",
       "      <td>NaN</td>\n",
       "      <td>NaN</td>\n",
       "      <td>2496435.0</td>\n",
       "      <td>FL</td>\n",
       "    </tr>\n",
       "    <tr>\n",
       "      <th>1029</th>\n",
       "      <td>DADE COUNTY, FL</td>\n",
       "      <td>FL</td>\n",
       "      <td>2005.0</td>\n",
       "      <td>12025</td>\n",
       "      <td>120252005</td>\n",
       "      <td>NaN</td>\n",
       "      <td>NaN</td>\n",
       "      <td>2496435.0</td>\n",
       "      <td>FL</td>\n",
       "    </tr>\n",
       "    <tr>\n",
       "      <th>1030</th>\n",
       "      <td>DADE COUNTY, FL</td>\n",
       "      <td>FL</td>\n",
       "      <td>2006.0</td>\n",
       "      <td>12025</td>\n",
       "      <td>120252006</td>\n",
       "      <td>NaN</td>\n",
       "      <td>159171.0</td>\n",
       "      <td>2496435.0</td>\n",
       "      <td>FL</td>\n",
       "    </tr>\n",
       "    <tr>\n",
       "      <th>1031</th>\n",
       "      <td>DADE COUNTY, FL</td>\n",
       "      <td>FL</td>\n",
       "      <td>2007.0</td>\n",
       "      <td>12025</td>\n",
       "      <td>120252007</td>\n",
       "      <td>NaN</td>\n",
       "      <td>173867.0</td>\n",
       "      <td>2496435.0</td>\n",
       "      <td>FL</td>\n",
       "    </tr>\n",
       "    <tr>\n",
       "      <th>1032</th>\n",
       "      <td>DADE COUNTY, FL</td>\n",
       "      <td>FL</td>\n",
       "      <td>2008.0</td>\n",
       "      <td>12025</td>\n",
       "      <td>120252008</td>\n",
       "      <td>NaN</td>\n",
       "      <td>205617.0</td>\n",
       "      <td>2496435.0</td>\n",
       "      <td>FL</td>\n",
       "    </tr>\n",
       "    <tr>\n",
       "      <th>1033</th>\n",
       "      <td>DADE COUNTY, FL</td>\n",
       "      <td>FL</td>\n",
       "      <td>2009.0</td>\n",
       "      <td>12025</td>\n",
       "      <td>120252009</td>\n",
       "      <td>NaN</td>\n",
       "      <td>291639.0</td>\n",
       "      <td>2496435.0</td>\n",
       "      <td>FL</td>\n",
       "    </tr>\n",
       "    <tr>\n",
       "      <th>1034</th>\n",
       "      <td>DADE COUNTY, FL</td>\n",
       "      <td>FL</td>\n",
       "      <td>2010.0</td>\n",
       "      <td>12025</td>\n",
       "      <td>120252010</td>\n",
       "      <td>NaN</td>\n",
       "      <td>399644.0</td>\n",
       "      <td>2496435.0</td>\n",
       "      <td>FL</td>\n",
       "    </tr>\n",
       "    <tr>\n",
       "      <th>1035</th>\n",
       "      <td>DADE COUNTY, FL</td>\n",
       "      <td>FL</td>\n",
       "      <td>2011.0</td>\n",
       "      <td>12025</td>\n",
       "      <td>120252011</td>\n",
       "      <td>NaN</td>\n",
       "      <td>397969.0</td>\n",
       "      <td>2496435.0</td>\n",
       "      <td>FL</td>\n",
       "    </tr>\n",
       "    <tr>\n",
       "      <th>1036</th>\n",
       "      <td>DADE COUNTY, FL</td>\n",
       "      <td>FL</td>\n",
       "      <td>2012.0</td>\n",
       "      <td>12025</td>\n",
       "      <td>120252012</td>\n",
       "      <td>NaN</td>\n",
       "      <td>276012.0</td>\n",
       "      <td>2496435.0</td>\n",
       "      <td>FL</td>\n",
       "    </tr>\n",
       "    <tr>\n",
       "      <th>1037</th>\n",
       "      <td>DADE COUNTY, FL</td>\n",
       "      <td>FL</td>\n",
       "      <td>2013.0</td>\n",
       "      <td>12025</td>\n",
       "      <td>120252013</td>\n",
       "      <td>NaN</td>\n",
       "      <td>NaN</td>\n",
       "      <td>2496435.0</td>\n",
       "      <td>FL</td>\n",
       "    </tr>\n",
       "    <tr>\n",
       "      <th>1038</th>\n",
       "      <td>DADE COUNTY, FL</td>\n",
       "      <td>FL</td>\n",
       "      <td>2014.0</td>\n",
       "      <td>12025</td>\n",
       "      <td>120252014</td>\n",
       "      <td>NaN</td>\n",
       "      <td>NaN</td>\n",
       "      <td>2496435.0</td>\n",
       "      <td>FL</td>\n",
       "    </tr>\n",
       "    <tr>\n",
       "      <th>1039</th>\n",
       "      <td>DADE COUNTY, FL</td>\n",
       "      <td>FL</td>\n",
       "      <td>2015.0</td>\n",
       "      <td>12025</td>\n",
       "      <td>120252015</td>\n",
       "      <td>NaN</td>\n",
       "      <td>NaN</td>\n",
       "      <td>2496435.0</td>\n",
       "      <td>FL</td>\n",
       "    </tr>\n",
       "  </tbody>\n",
       "</table>\n",
       "</div>"
      ],
      "text/plain": [
       "          county_name state    year    fips  merge_key  drug_deaths  \\\n",
       "1027  DADE COUNTY, FL    FL  2003.0  12025   120252003          NaN   \n",
       "1028  DADE COUNTY, FL    FL  2004.0  12025   120252004          NaN   \n",
       "1029  DADE COUNTY, FL    FL  2005.0  12025   120252005          NaN   \n",
       "1030  DADE COUNTY, FL    FL  2006.0  12025   120252006          NaN   \n",
       "1031  DADE COUNTY, FL    FL  2007.0  12025   120252007          NaN   \n",
       "1032  DADE COUNTY, FL    FL  2008.0  12025   120252008          NaN   \n",
       "1033  DADE COUNTY, FL    FL  2009.0  12025   120252009          NaN   \n",
       "1034  DADE COUNTY, FL    FL  2010.0  12025   120252010          NaN   \n",
       "1035  DADE COUNTY, FL    FL  2011.0  12025   120252011          NaN   \n",
       "1036  DADE COUNTY, FL    FL  2012.0  12025   120252012          NaN   \n",
       "1037  DADE COUNTY, FL    FL  2013.0  12025   120252013          NaN   \n",
       "1038  DADE COUNTY, FL    FL  2014.0  12025   120252014          NaN   \n",
       "1039  DADE COUNTY, FL    FL  2015.0  12025   120252015          NaN   \n",
       "\n",
       "      drug_quantity  POPULATION STATE  \n",
       "1027            NaN   2496435.0    FL  \n",
       "1028            NaN   2496435.0    FL  \n",
       "1029            NaN   2496435.0    FL  \n",
       "1030       159171.0   2496435.0    FL  \n",
       "1031       173867.0   2496435.0    FL  \n",
       "1032       205617.0   2496435.0    FL  \n",
       "1033       291639.0   2496435.0    FL  \n",
       "1034       399644.0   2496435.0    FL  \n",
       "1035       397969.0   2496435.0    FL  \n",
       "1036       276012.0   2496435.0    FL  \n",
       "1037            NaN   2496435.0    FL  \n",
       "1038            NaN   2496435.0    FL  \n",
       "1039            NaN   2496435.0    FL  "
      ]
     },
     "execution_count": 165,
     "metadata": {},
     "output_type": "execute_result"
    }
   ],
   "source": [
    "# show the DADE COUNTY, FL values to verify pop is correct\n",
    "base_df_vital_wapo_pop[base_df_vital_wapo_pop[\"county_name\"] == \"DADE COUNTY, FL\"]\n"
   ]
  },
  {
   "cell_type": "code",
   "execution_count": 166,
   "metadata": {},
   "outputs": [
    {
     "data": {
      "text/html": [
       "<div>\n",
       "<style scoped>\n",
       "    .dataframe tbody tr th:only-of-type {\n",
       "        vertical-align: middle;\n",
       "    }\n",
       "\n",
       "    .dataframe tbody tr th {\n",
       "        vertical-align: top;\n",
       "    }\n",
       "\n",
       "    .dataframe thead th {\n",
       "        text-align: right;\n",
       "    }\n",
       "</style>\n",
       "<table border=\"1\" class=\"dataframe\">\n",
       "  <thead>\n",
       "    <tr style=\"text-align: right;\">\n",
       "      <th></th>\n",
       "      <th>county_name</th>\n",
       "      <th>state</th>\n",
       "      <th>year</th>\n",
       "      <th>fips</th>\n",
       "      <th>merge_key</th>\n",
       "      <th>drug_deaths</th>\n",
       "      <th>drug_quantity</th>\n",
       "      <th>POPULATION</th>\n",
       "      <th>STATE</th>\n",
       "    </tr>\n",
       "  </thead>\n",
       "  <tbody>\n",
       "    <tr>\n",
       "      <th>7018</th>\n",
       "      <td>YAKIMA COUNTY, WA</td>\n",
       "      <td>WA</td>\n",
       "      <td>2014.0</td>\n",
       "      <td>53077</td>\n",
       "      <td>530772014</td>\n",
       "      <td>23.0</td>\n",
       "      <td>NaN</td>\n",
       "      <td>243231.0</td>\n",
       "      <td>WA</td>\n",
       "    </tr>\n",
       "    <tr>\n",
       "      <th>7019</th>\n",
       "      <td>YAKIMA COUNTY, WA</td>\n",
       "      <td>WA</td>\n",
       "      <td>2015.0</td>\n",
       "      <td>53077</td>\n",
       "      <td>530772015</td>\n",
       "      <td>26.0</td>\n",
       "      <td>NaN</td>\n",
       "      <td>243231.0</td>\n",
       "      <td>WA</td>\n",
       "    </tr>\n",
       "    <tr>\n",
       "      <th>7020</th>\n",
       "      <td>NaN</td>\n",
       "      <td>NaN</td>\n",
       "      <td>NaN</td>\n",
       "      <td>NaN</td>\n",
       "      <td>120862003</td>\n",
       "      <td>111.0</td>\n",
       "      <td>NaN</td>\n",
       "      <td>NaN</td>\n",
       "      <td>NaN</td>\n",
       "    </tr>\n",
       "    <tr>\n",
       "      <th>7021</th>\n",
       "      <td>NaN</td>\n",
       "      <td>NaN</td>\n",
       "      <td>NaN</td>\n",
       "      <td>NaN</td>\n",
       "      <td>120862004</td>\n",
       "      <td>145.0</td>\n",
       "      <td>NaN</td>\n",
       "      <td>NaN</td>\n",
       "      <td>NaN</td>\n",
       "    </tr>\n",
       "    <tr>\n",
       "      <th>7022</th>\n",
       "      <td>NaN</td>\n",
       "      <td>NaN</td>\n",
       "      <td>NaN</td>\n",
       "      <td>NaN</td>\n",
       "      <td>120862005</td>\n",
       "      <td>154.0</td>\n",
       "      <td>NaN</td>\n",
       "      <td>NaN</td>\n",
       "      <td>NaN</td>\n",
       "    </tr>\n",
       "    <tr>\n",
       "      <th>7023</th>\n",
       "      <td>NaN</td>\n",
       "      <td>NaN</td>\n",
       "      <td>NaN</td>\n",
       "      <td>NaN</td>\n",
       "      <td>120862006</td>\n",
       "      <td>152.0</td>\n",
       "      <td>NaN</td>\n",
       "      <td>NaN</td>\n",
       "      <td>NaN</td>\n",
       "    </tr>\n",
       "    <tr>\n",
       "      <th>7024</th>\n",
       "      <td>NaN</td>\n",
       "      <td>NaN</td>\n",
       "      <td>NaN</td>\n",
       "      <td>NaN</td>\n",
       "      <td>120862007</td>\n",
       "      <td>149.0</td>\n",
       "      <td>NaN</td>\n",
       "      <td>NaN</td>\n",
       "      <td>NaN</td>\n",
       "    </tr>\n",
       "    <tr>\n",
       "      <th>7025</th>\n",
       "      <td>NaN</td>\n",
       "      <td>NaN</td>\n",
       "      <td>NaN</td>\n",
       "      <td>NaN</td>\n",
       "      <td>120862008</td>\n",
       "      <td>149.0</td>\n",
       "      <td>NaN</td>\n",
       "      <td>NaN</td>\n",
       "      <td>NaN</td>\n",
       "    </tr>\n",
       "    <tr>\n",
       "      <th>7026</th>\n",
       "      <td>NaN</td>\n",
       "      <td>NaN</td>\n",
       "      <td>NaN</td>\n",
       "      <td>NaN</td>\n",
       "      <td>120862009</td>\n",
       "      <td>155.0</td>\n",
       "      <td>NaN</td>\n",
       "      <td>NaN</td>\n",
       "      <td>NaN</td>\n",
       "    </tr>\n",
       "    <tr>\n",
       "      <th>7027</th>\n",
       "      <td>NaN</td>\n",
       "      <td>NaN</td>\n",
       "      <td>NaN</td>\n",
       "      <td>NaN</td>\n",
       "      <td>120862010</td>\n",
       "      <td>112.0</td>\n",
       "      <td>NaN</td>\n",
       "      <td>NaN</td>\n",
       "      <td>NaN</td>\n",
       "    </tr>\n",
       "    <tr>\n",
       "      <th>7028</th>\n",
       "      <td>NaN</td>\n",
       "      <td>NaN</td>\n",
       "      <td>NaN</td>\n",
       "      <td>NaN</td>\n",
       "      <td>120862011</td>\n",
       "      <td>133.0</td>\n",
       "      <td>NaN</td>\n",
       "      <td>NaN</td>\n",
       "      <td>NaN</td>\n",
       "    </tr>\n",
       "    <tr>\n",
       "      <th>7029</th>\n",
       "      <td>NaN</td>\n",
       "      <td>NaN</td>\n",
       "      <td>NaN</td>\n",
       "      <td>NaN</td>\n",
       "      <td>120862012</td>\n",
       "      <td>145.0</td>\n",
       "      <td>NaN</td>\n",
       "      <td>NaN</td>\n",
       "      <td>NaN</td>\n",
       "    </tr>\n",
       "    <tr>\n",
       "      <th>7030</th>\n",
       "      <td>NaN</td>\n",
       "      <td>NaN</td>\n",
       "      <td>NaN</td>\n",
       "      <td>NaN</td>\n",
       "      <td>120862013</td>\n",
       "      <td>124.0</td>\n",
       "      <td>NaN</td>\n",
       "      <td>NaN</td>\n",
       "      <td>NaN</td>\n",
       "    </tr>\n",
       "    <tr>\n",
       "      <th>7031</th>\n",
       "      <td>NaN</td>\n",
       "      <td>NaN</td>\n",
       "      <td>NaN</td>\n",
       "      <td>NaN</td>\n",
       "      <td>120862014</td>\n",
       "      <td>156.0</td>\n",
       "      <td>NaN</td>\n",
       "      <td>NaN</td>\n",
       "      <td>NaN</td>\n",
       "    </tr>\n",
       "    <tr>\n",
       "      <th>7032</th>\n",
       "      <td>NaN</td>\n",
       "      <td>NaN</td>\n",
       "      <td>NaN</td>\n",
       "      <td>NaN</td>\n",
       "      <td>120862015</td>\n",
       "      <td>202.0</td>\n",
       "      <td>NaN</td>\n",
       "      <td>NaN</td>\n",
       "      <td>NaN</td>\n",
       "    </tr>\n",
       "  </tbody>\n",
       "</table>\n",
       "</div>"
      ],
      "text/plain": [
       "            county_name state    year    fips  merge_key  drug_deaths  \\\n",
       "7018  YAKIMA COUNTY, WA    WA  2014.0  53077   530772014         23.0   \n",
       "7019  YAKIMA COUNTY, WA    WA  2015.0  53077   530772015         26.0   \n",
       "7020                NaN   NaN     NaN     NaN  120862003        111.0   \n",
       "7021                NaN   NaN     NaN     NaN  120862004        145.0   \n",
       "7022                NaN   NaN     NaN     NaN  120862005        154.0   \n",
       "7023                NaN   NaN     NaN     NaN  120862006        152.0   \n",
       "7024                NaN   NaN     NaN     NaN  120862007        149.0   \n",
       "7025                NaN   NaN     NaN     NaN  120862008        149.0   \n",
       "7026                NaN   NaN     NaN     NaN  120862009        155.0   \n",
       "7027                NaN   NaN     NaN     NaN  120862010        112.0   \n",
       "7028                NaN   NaN     NaN     NaN  120862011        133.0   \n",
       "7029                NaN   NaN     NaN     NaN  120862012        145.0   \n",
       "7030                NaN   NaN     NaN     NaN  120862013        124.0   \n",
       "7031                NaN   NaN     NaN     NaN  120862014        156.0   \n",
       "7032                NaN   NaN     NaN     NaN  120862015        202.0   \n",
       "\n",
       "      drug_quantity  POPULATION STATE  \n",
       "7018            NaN    243231.0    WA  \n",
       "7019            NaN    243231.0    WA  \n",
       "7020            NaN         NaN   NaN  \n",
       "7021            NaN         NaN   NaN  \n",
       "7022            NaN         NaN   NaN  \n",
       "7023            NaN         NaN   NaN  \n",
       "7024            NaN         NaN   NaN  \n",
       "7025            NaN         NaN   NaN  \n",
       "7026            NaN         NaN   NaN  \n",
       "7027            NaN         NaN   NaN  \n",
       "7028            NaN         NaN   NaN  \n",
       "7029            NaN         NaN   NaN  \n",
       "7030            NaN         NaN   NaN  \n",
       "7031            NaN         NaN   NaN  \n",
       "7032            NaN         NaN   NaN  "
      ]
     },
     "execution_count": 166,
     "metadata": {},
     "output_type": "execute_result"
    }
   ],
   "source": [
    "base_df_vital_wapo_pop.tail(15)\n"
   ]
  },
  {
   "cell_type": "code",
   "execution_count": 167,
   "metadata": {},
   "outputs": [],
   "source": [
    "# count the rows where pop is na\n",
    "# base_df_vital_wapo_pop[\"POPULATION\"].isna().sum()\n",
    "\n",
    "# drop em\n",
    "base_df_vital_wapo_pop = base_df_vital_wapo_pop.dropna(subset=[\"POPULATION\"])\n"
   ]
  },
  {
   "cell_type": "markdown",
   "metadata": {},
   "source": [
    "***Something occurs that is puzzling. Even after overriding the value of Miami-Dade county information further up in the script, we still see it matriculate to this level. It's a hold over from SOMETHING, but can't be sure what.***"
   ]
  },
  {
   "cell_type": "code",
   "execution_count": 168,
   "metadata": {},
   "outputs": [],
   "source": [
    "assert base_df_vital_wapo_pop.POPULATION.isna().sum() == 0\n"
   ]
  },
  {
   "cell_type": "code",
   "execution_count": 169,
   "metadata": {},
   "outputs": [
    {
     "data": {
      "text/html": [
       "<div>\n",
       "<style scoped>\n",
       "    .dataframe tbody tr th:only-of-type {\n",
       "        vertical-align: middle;\n",
       "    }\n",
       "\n",
       "    .dataframe tbody tr th {\n",
       "        vertical-align: top;\n",
       "    }\n",
       "\n",
       "    .dataframe thead th {\n",
       "        text-align: right;\n",
       "    }\n",
       "</style>\n",
       "<table border=\"1\" class=\"dataframe\">\n",
       "  <thead>\n",
       "    <tr style=\"text-align: right;\">\n",
       "      <th></th>\n",
       "      <th>county_name</th>\n",
       "      <th>state</th>\n",
       "      <th>year</th>\n",
       "      <th>fips</th>\n",
       "      <th>merge_key</th>\n",
       "      <th>drug_deaths</th>\n",
       "      <th>drug_quantity</th>\n",
       "      <th>POPULATION</th>\n",
       "      <th>STATE</th>\n",
       "    </tr>\n",
       "  </thead>\n",
       "  <tbody>\n",
       "  </tbody>\n",
       "</table>\n",
       "</div>"
      ],
      "text/plain": [
       "Empty DataFrame\n",
       "Columns: [county_name, state, year, fips, merge_key, drug_deaths, drug_quantity, POPULATION, STATE]\n",
       "Index: []"
      ]
     },
     "execution_count": 169,
     "metadata": {},
     "output_type": "execute_result"
    }
   ],
   "source": [
    "# show na population rows\n",
    "base_df_vital_wapo_pop[base_df_vital_wapo_pop[\"POPULATION\"].isna()]\n"
   ]
  },
  {
   "cell_type": "code",
   "execution_count": 170,
   "metadata": {},
   "outputs": [],
   "source": [
    "# drop the STATE column\n",
    "base_df_vital_wapo_pop = base_df_vital_wapo_pop.drop(\"STATE\", axis=1)\n",
    "\n",
    "# rename the POPULATION column to population\n",
    "base_df_vital_wapo_pop = base_df_vital_wapo_pop.rename(\n",
    "    columns={\"POPULATION\": \"population\"}\n",
    ")\n"
   ]
  },
  {
   "cell_type": "code",
   "execution_count": 171,
   "metadata": {},
   "outputs": [],
   "source": [
    "# base_df_vital_wapo_pop.sample(10)\n"
   ]
  },
  {
   "cell_type": "markdown",
   "metadata": {},
   "source": [
    "#### Add columns for per capita rates"
   ]
  },
  {
   "cell_type": "code",
   "execution_count": 172,
   "metadata": {},
   "outputs": [],
   "source": [
    "grouped_df = base_df_vital_wapo_pop.copy()\n"
   ]
  },
  {
   "cell_type": "code",
   "execution_count": 173,
   "metadata": {},
   "outputs": [],
   "source": [
    "# add a column for death rate per 100,000 people\n",
    "grouped_df[\"death_rate\"] = grouped_df[\"drug_deaths\"] / grouped_df[\"population\"] * 100000\n",
    "\n",
    "# add a column for ship rate per 100,000 people\n",
    "grouped_df[\"ship_rate\"] = (\n",
    "    grouped_df[\"drug_quantity\"] / grouped_df[\"population\"] * 100000\n",
    ")\n"
   ]
  },
  {
   "cell_type": "code",
   "execution_count": 174,
   "metadata": {},
   "outputs": [],
   "source": [
    "# grouped_df.sample(10)\n"
   ]
  },
  {
   "cell_type": "markdown",
   "metadata": {},
   "source": [
    "#### Export the final grouped df"
   ]
  },
  {
   "cell_type": "code",
   "execution_count": 175,
   "metadata": {},
   "outputs": [],
   "source": [
    "# export to the 20_intermediate_files directory\n",
    "grouped_df.to_csv(\"../20_intermediate_files/analysis_df.csv\", index=False)\n"
   ]
  }
 ],
 "metadata": {
  "kernelspec": {
   "display_name": "Python 3.10.6 ('base')",
   "language": "python",
   "name": "python3"
  },
  "language_info": {
   "codemirror_mode": {
    "name": "ipython",
    "version": 3
   },
   "file_extension": ".py",
   "mimetype": "text/x-python",
   "name": "python",
   "nbconvert_exporter": "python",
   "pygments_lexer": "ipython3",
   "version": "3.10.6"
  },
  "orig_nbformat": 4,
  "vscode": {
   "interpreter": {
    "hash": "84b9370629bc80826ce6aeb009e770dfe4ed6af6eef03d00ae361c57df430492"
   }
  }
 },
 "nbformat": 4,
 "nbformat_minor": 2
}
