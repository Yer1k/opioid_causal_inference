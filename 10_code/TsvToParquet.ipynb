{
 "cells": [
  {
   "cell_type": "code",
   "execution_count": 1,
   "metadata": {},
   "outputs": [],
   "source": [
    "# Make a toy dataset\n",
    "import pandas as pd\n",
    "import fastparquet\n"
   ]
  },
  {
   "cell_type": "code",
   "execution_count": 7,
   "metadata": {},
   "outputs": [],
   "source": [
    "# data_chunk = pd.read_csv(\"/Users/yer1k/Documents/Master/Duke/2022 Fall/IDS 720/Group Project/00_source_data/arcos_all_washpost.tsv\", sep='\\t', iterator=True, chunksize=1_000_000)\n",
    "# count = 0\n",
    "# chunksize = 1_000_000\n",
    "# for data in data_chunk:\n",
    "#     data.to_parquet(f'/Users/yer1k/Documents/Master/Duke/2022 Fall/IDS 720/Group Project/20_intermediate_files/test.parquet_{count}',\n",
    "#               engine='fastparquet',\n",
    "#               row_group_offsets=chunksize)\n",
    "#     count += 1\n"
   ]
  },
  {
   "cell_type": "code",
   "execution_count": 8,
   "metadata": {},
   "outputs": [
    {
     "ename": "",
     "evalue": "",
     "output_type": "error",
     "traceback": [
      "\u001b[1;31mThe Kernel crashed while executing code in the the current cell or a previous cell. Please review the code in the cell(s) to identify a possible cause of the failure. Click <a href='https://aka.ms/vscodeJupyterKernelCrash'>here</a> for more info. View Jupyter <a href='command:jupyter.viewOutput'>log</a> for further details."
     ]
    },
    {
     "ename": "",
     "evalue": "",
     "output_type": "error",
     "traceback": [
      "\u001b[1;31mCanceled future for execute_request message before replies were done"
     ]
    }
   ],
   "source": [
    "df = pd.read_csv(\n",
    "    \"/Users/yer1k/Documents/Master/Duke/2022 Fall/IDS 720/Group Project/00_source_data/arcos_all_washpost.tsv\",\n",
    "    sep=\"\\t\",\n",
    ")\n",
    "df.to_parquet(\n",
    "    \"/Users/yer1k/Documents/Master/Duke/2022 Fall/IDS 720/Group Project/20_intermediate_files/test.parquet\",\n",
    "    engine=\"fastparquet\",\n",
    "    row_group_offsets=50000,\n",
    ")\n"
   ]
  }
 ],
 "metadata": {
  "kernelspec": {
   "display_name": "Python 3.10.6 ('base')",
   "language": "python",
   "name": "python3"
  },
  "language_info": {
   "codemirror_mode": {
    "name": "ipython",
    "version": 3
   },
   "file_extension": ".py",
   "mimetype": "text/x-python",
   "name": "python",
   "nbconvert_exporter": "python",
   "pygments_lexer": "ipython3",
   "version": "3.10.6"
  },
  "orig_nbformat": 4,
  "vscode": {
   "interpreter": {
    "hash": "84b9370629bc80826ce6aeb009e770dfe4ed6af6eef03d00ae361c57df430492"
   }
  }
 },
 "nbformat": 4,
 "nbformat_minor": 2
}
