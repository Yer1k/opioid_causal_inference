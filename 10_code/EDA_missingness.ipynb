{
 "cells": [
  {
   "cell_type": "markdown",
   "metadata": {},
   "source": [
    "# EDA, Missingness"
   ]
  },
  {
   "cell_type": "code",
   "execution_count": 2,
   "metadata": {},
   "outputs": [],
   "source": [
    "# import packages\n",
    "import pandas as pd\n",
    "import numpy as np"
   ]
  },
  {
   "cell_type": "code",
   "execution_count": 3,
   "metadata": {},
   "outputs": [],
   "source": [
    "working_dir = \"../20_intermediate_files/\"\n",
    "final = working_dir + \"analysis_df.csv\"\n",
    "final_df = pd.read_csv(final)"
   ]
  },
  {
   "cell_type": "code",
   "execution_count": 8,
   "metadata": {},
   "outputs": [
    {
     "data": {
      "text/plain": [
       "(13507, 10)"
      ]
     },
     "execution_count": 8,
     "metadata": {},
     "output_type": "execute_result"
    }
   ],
   "source": [
    "final_df.shape"
   ]
  },
  {
   "cell_type": "code",
   "execution_count": 11,
   "metadata": {},
   "outputs": [
    {
     "data": {
      "text/plain": [
       "Index(['county_name', 'state', 'year', 'fips', 'merge_key', 'drug_deaths',\n",
       "       'drug_quantity', 'population', 'death_rate', 'ship_rate'],\n",
       "      dtype='object')"
      ]
     },
     "execution_count": 11,
     "metadata": {},
     "output_type": "execute_result"
    }
   ],
   "source": [
    "final_df.columns"
   ]
  },
  {
   "cell_type": "code",
   "execution_count": 21,
   "metadata": {},
   "outputs": [
    {
     "data": {
      "text/plain": [
       "4156"
      ]
     },
     "execution_count": 21,
     "metadata": {},
     "output_type": "execute_result"
    }
   ],
   "source": [
    "# missing by nature due to out of year range\n",
    "ship_missing_oor = final_df[(final_df[\"year\"]<2006)|(final_df[\"year\"]>2014)][\"ship_rate\"].isna().sum()\n",
    "ship_missing_oor"
   ]
  },
  {
   "cell_type": "code",
   "execution_count": 20,
   "metadata": {},
   "outputs": [
    {
     "data": {
      "text/plain": [
       "4560"
      ]
     },
     "execution_count": 20,
     "metadata": {},
     "output_type": "execute_result"
    }
   ],
   "source": [
    "# missing count for ship rate\n",
    "ship_missing_all = final_df[\"ship_rate\"].isna().sum()\n",
    "ship_missing_all"
   ]
  },
  {
   "cell_type": "code",
   "execution_count": 19,
   "metadata": {},
   "outputs": [
    {
     "data": {
      "text/plain": [
       "404"
      ]
     },
     "execution_count": 19,
     "metadata": {},
     "output_type": "execute_result"
    }
   ],
   "source": [
    "ship_missing_all-ship_missing_oor"
   ]
  },
  {
   "cell_type": "code",
   "execution_count": 22,
   "metadata": {},
   "outputs": [
    {
     "data": {
      "text/plain": [
       "10443"
      ]
     },
     "execution_count": 22,
     "metadata": {},
     "output_type": "execute_result"
    }
   ],
   "source": [
    "# missing count for death rate\n",
    "death_missing_all = final_df[\"death_rate\"].isna().sum()\n",
    "death_missing_all"
   ]
  },
  {
   "cell_type": "code",
   "execution_count": null,
   "metadata": {},
   "outputs": [],
   "source": [
    "# missing by nature due to out of year range\n"
   ]
  },
  {
   "cell_type": "code",
   "execution_count": 13,
   "metadata": {},
   "outputs": [
    {
     "data": {
      "text/plain": [
       "count    3064.000000\n",
       "mean       13.798237\n",
       "std         7.629654\n",
       "min         0.803562\n",
       "25%         8.615481\n",
       "50%        12.238676\n",
       "75%        17.077704\n",
       "max        96.904040\n",
       "Name: death_rate, dtype: float64"
      ]
     },
     "execution_count": 13,
     "metadata": {},
     "output_type": "execute_result"
    }
   ],
   "source": [
    "final_df[\"death_rate\"].describe()"
   ]
  },
  {
   "cell_type": "code",
   "execution_count": 14,
   "metadata": {},
   "outputs": [
    {
     "data": {
      "text/html": [
       "<div>\n",
       "<style scoped>\n",
       "    .dataframe tbody tr th:only-of-type {\n",
       "        vertical-align: middle;\n",
       "    }\n",
       "\n",
       "    .dataframe tbody tr th {\n",
       "        vertical-align: top;\n",
       "    }\n",
       "\n",
       "    .dataframe thead th {\n",
       "        text-align: right;\n",
       "    }\n",
       "</style>\n",
       "<table border=\"1\" class=\"dataframe\">\n",
       "  <thead>\n",
       "    <tr style=\"text-align: right;\">\n",
       "      <th></th>\n",
       "      <th>county_name</th>\n",
       "      <th>state</th>\n",
       "      <th>year</th>\n",
       "      <th>fips</th>\n",
       "      <th>merge_key</th>\n",
       "      <th>drug_deaths</th>\n",
       "      <th>drug_quantity</th>\n",
       "      <th>population</th>\n",
       "      <th>death_rate</th>\n",
       "      <th>ship_rate</th>\n",
       "    </tr>\n",
       "  </thead>\n",
       "  <tbody>\n",
       "    <tr>\n",
       "      <th>0</th>\n",
       "      <td>AUTAUGA COUNTY, AL</td>\n",
       "      <td>AL</td>\n",
       "      <td>2003</td>\n",
       "      <td>1001</td>\n",
       "      <td>10012003</td>\n",
       "      <td>NaN</td>\n",
       "      <td>NaN</td>\n",
       "      <td>54571</td>\n",
       "      <td>NaN</td>\n",
       "      <td>NaN</td>\n",
       "    </tr>\n",
       "    <tr>\n",
       "      <th>1</th>\n",
       "      <td>AUTAUGA COUNTY, AL</td>\n",
       "      <td>AL</td>\n",
       "      <td>2004</td>\n",
       "      <td>1001</td>\n",
       "      <td>10012004</td>\n",
       "      <td>NaN</td>\n",
       "      <td>NaN</td>\n",
       "      <td>54571</td>\n",
       "      <td>NaN</td>\n",
       "      <td>NaN</td>\n",
       "    </tr>\n",
       "    <tr>\n",
       "      <th>2</th>\n",
       "      <td>AUTAUGA COUNTY, AL</td>\n",
       "      <td>AL</td>\n",
       "      <td>2005</td>\n",
       "      <td>1001</td>\n",
       "      <td>10012005</td>\n",
       "      <td>NaN</td>\n",
       "      <td>NaN</td>\n",
       "      <td>54571</td>\n",
       "      <td>NaN</td>\n",
       "      <td>NaN</td>\n",
       "    </tr>\n",
       "    <tr>\n",
       "      <th>3</th>\n",
       "      <td>AUTAUGA COUNTY, AL</td>\n",
       "      <td>AL</td>\n",
       "      <td>2006</td>\n",
       "      <td>1001</td>\n",
       "      <td>10012006</td>\n",
       "      <td>NaN</td>\n",
       "      <td>20569.0</td>\n",
       "      <td>54571</td>\n",
       "      <td>NaN</td>\n",
       "      <td>37692.180829</td>\n",
       "    </tr>\n",
       "    <tr>\n",
       "      <th>4</th>\n",
       "      <td>AUTAUGA COUNTY, AL</td>\n",
       "      <td>AL</td>\n",
       "      <td>2007</td>\n",
       "      <td>1001</td>\n",
       "      <td>10012007</td>\n",
       "      <td>NaN</td>\n",
       "      <td>12550.0</td>\n",
       "      <td>54571</td>\n",
       "      <td>NaN</td>\n",
       "      <td>22997.562808</td>\n",
       "    </tr>\n",
       "  </tbody>\n",
       "</table>\n",
       "</div>"
      ],
      "text/plain": [
       "          county_name state  year  fips  merge_key  drug_deaths  \\\n",
       "0  AUTAUGA COUNTY, AL    AL  2003  1001   10012003          NaN   \n",
       "1  AUTAUGA COUNTY, AL    AL  2004  1001   10012004          NaN   \n",
       "2  AUTAUGA COUNTY, AL    AL  2005  1001   10012005          NaN   \n",
       "3  AUTAUGA COUNTY, AL    AL  2006  1001   10012006          NaN   \n",
       "4  AUTAUGA COUNTY, AL    AL  2007  1001   10012007          NaN   \n",
       "\n",
       "   drug_quantity  population  death_rate     ship_rate  \n",
       "0            NaN       54571         NaN           NaN  \n",
       "1            NaN       54571         NaN           NaN  \n",
       "2            NaN       54571         NaN           NaN  \n",
       "3        20569.0       54571         NaN  37692.180829  \n",
       "4        12550.0       54571         NaN  22997.562808  "
      ]
     },
     "execution_count": 14,
     "metadata": {},
     "output_type": "execute_result"
    }
   ],
   "source": [
    "final_df.head(5)"
   ]
  },
  {
   "cell_type": "code",
   "execution_count": 23,
   "metadata": {},
   "outputs": [
    {
     "data": {
      "text/html": [
       "<div>\n",
       "<style scoped>\n",
       "    .dataframe tbody tr th:only-of-type {\n",
       "        vertical-align: middle;\n",
       "    }\n",
       "\n",
       "    .dataframe tbody tr th {\n",
       "        vertical-align: top;\n",
       "    }\n",
       "\n",
       "    .dataframe thead th {\n",
       "        text-align: right;\n",
       "    }\n",
       "</style>\n",
       "<table border=\"1\" class=\"dataframe\">\n",
       "  <thead>\n",
       "    <tr style=\"text-align: right;\">\n",
       "      <th></th>\n",
       "      <th>year</th>\n",
       "      <th>fips</th>\n",
       "      <th>merge_key</th>\n",
       "      <th>drug_deaths</th>\n",
       "      <th>drug_quantity</th>\n",
       "      <th>population</th>\n",
       "      <th>death_rate</th>\n",
       "      <th>ship_rate</th>\n",
       "    </tr>\n",
       "  </thead>\n",
       "  <tbody>\n",
       "    <tr>\n",
       "      <th>count</th>\n",
       "      <td>13507.000000</td>\n",
       "      <td>13507.000000</td>\n",
       "      <td>1.350700e+04</td>\n",
       "      <td>3064.000000</td>\n",
       "      <td>8.947000e+03</td>\n",
       "      <td>1.350700e+04</td>\n",
       "      <td>3064.000000</td>\n",
       "      <td>8947.000000</td>\n",
       "    </tr>\n",
       "    <tr>\n",
       "      <th>mean</th>\n",
       "      <td>2009.000000</td>\n",
       "      <td>29591.052936</td>\n",
       "      <td>2.959125e+08</td>\n",
       "      <td>59.366841</td>\n",
       "      <td>3.360536e+04</td>\n",
       "      <td>1.414482e+05</td>\n",
       "      <td>13.798237</td>\n",
       "      <td>21829.621218</td>\n",
       "    </tr>\n",
       "    <tr>\n",
       "      <th>std</th>\n",
       "      <td>3.741796</td>\n",
       "      <td>17158.218214</td>\n",
       "      <td>1.715822e+08</td>\n",
       "      <td>91.901926</td>\n",
       "      <td>1.025787e+05</td>\n",
       "      <td>4.637375e+05</td>\n",
       "      <td>7.629654</td>\n",
       "      <td>14424.747126</td>\n",
       "    </tr>\n",
       "    <tr>\n",
       "      <th>min</th>\n",
       "      <td>2003.000000</td>\n",
       "      <td>1001.000000</td>\n",
       "      <td>1.001200e+07</td>\n",
       "      <td>10.000000</td>\n",
       "      <td>1.000000e+00</td>\n",
       "      <td>8.200000e+01</td>\n",
       "      <td>0.803562</td>\n",
       "      <td>11.044842</td>\n",
       "    </tr>\n",
       "    <tr>\n",
       "      <th>25%</th>\n",
       "      <td>2006.000000</td>\n",
       "      <td>13107.000000</td>\n",
       "      <td>1.310720e+08</td>\n",
       "      <td>14.000000</td>\n",
       "      <td>2.235500e+03</td>\n",
       "      <td>1.322800e+04</td>\n",
       "      <td>8.615481</td>\n",
       "      <td>12748.386435</td>\n",
       "    </tr>\n",
       "    <tr>\n",
       "      <th>50%</th>\n",
       "      <td>2009.000000</td>\n",
       "      <td>35051.000000</td>\n",
       "      <td>3.505120e+08</td>\n",
       "      <td>24.000000</td>\n",
       "      <td>7.494000e+03</td>\n",
       "      <td>2.987200e+04</td>\n",
       "      <td>12.238676</td>\n",
       "      <td>20018.785957</td>\n",
       "    </tr>\n",
       "    <tr>\n",
       "      <th>75%</th>\n",
       "      <td>2012.000000</td>\n",
       "      <td>48067.000000</td>\n",
       "      <td>4.806720e+08</td>\n",
       "      <td>59.000000</td>\n",
       "      <td>2.333350e+04</td>\n",
       "      <td>8.557900e+04</td>\n",
       "      <td>17.077704</td>\n",
       "      <td>28532.558396</td>\n",
       "    </tr>\n",
       "    <tr>\n",
       "      <th>max</th>\n",
       "      <td>2015.000000</td>\n",
       "      <td>53077.000000</td>\n",
       "      <td>5.307720e+08</td>\n",
       "      <td>862.000000</td>\n",
       "      <td>2.249988e+06</td>\n",
       "      <td>9.818605e+06</td>\n",
       "      <td>96.904040</td>\n",
       "      <td>354675.922092</td>\n",
       "    </tr>\n",
       "  </tbody>\n",
       "</table>\n",
       "</div>"
      ],
      "text/plain": [
       "               year          fips     merge_key  drug_deaths  drug_quantity  \\\n",
       "count  13507.000000  13507.000000  1.350700e+04  3064.000000   8.947000e+03   \n",
       "mean    2009.000000  29591.052936  2.959125e+08    59.366841   3.360536e+04   \n",
       "std        3.741796  17158.218214  1.715822e+08    91.901926   1.025787e+05   \n",
       "min     2003.000000   1001.000000  1.001200e+07    10.000000   1.000000e+00   \n",
       "25%     2006.000000  13107.000000  1.310720e+08    14.000000   2.235500e+03   \n",
       "50%     2009.000000  35051.000000  3.505120e+08    24.000000   7.494000e+03   \n",
       "75%     2012.000000  48067.000000  4.806720e+08    59.000000   2.333350e+04   \n",
       "max     2015.000000  53077.000000  5.307720e+08   862.000000   2.249988e+06   \n",
       "\n",
       "         population   death_rate      ship_rate  \n",
       "count  1.350700e+04  3064.000000    8947.000000  \n",
       "mean   1.414482e+05    13.798237   21829.621218  \n",
       "std    4.637375e+05     7.629654   14424.747126  \n",
       "min    8.200000e+01     0.803562      11.044842  \n",
       "25%    1.322800e+04     8.615481   12748.386435  \n",
       "50%    2.987200e+04    12.238676   20018.785957  \n",
       "75%    8.557900e+04    17.077704   28532.558396  \n",
       "max    9.818605e+06    96.904040  354675.922092  "
      ]
     },
     "execution_count": 23,
     "metadata": {},
     "output_type": "execute_result"
    }
   ],
   "source": [
    "final_df.describe()"
   ]
  },
  {
   "cell_type": "code",
   "execution_count": 27,
   "metadata": {},
   "outputs": [
    {
     "data": {
      "text/plain": [
       "1039"
      ]
     },
     "execution_count": 27,
     "metadata": {},
     "output_type": "execute_result"
    }
   ],
   "source": [
    "# number of counties in total\n",
    "len(final_df[\"county_name\"].unique())"
   ]
  },
  {
   "cell_type": "code",
   "execution_count": 31,
   "metadata": {},
   "outputs": [
    {
     "data": {
      "text/plain": [
       "14"
      ]
     },
     "execution_count": 31,
     "metadata": {},
     "output_type": "execute_result"
    }
   ],
   "source": [
    "# number of states in total\n",
    "len(final_df[\"state\"].unique())"
   ]
  },
  {
   "cell_type": "code",
   "execution_count": null,
   "metadata": {},
   "outputs": [],
   "source": []
  }
 ],
 "metadata": {
  "kernelspec": {
   "display_name": "Python 3.10.6 ('base')",
   "language": "python",
   "name": "python3"
  },
  "language_info": {
   "codemirror_mode": {
    "name": "ipython",
    "version": 3
   },
   "file_extension": ".py",
   "mimetype": "text/x-python",
   "name": "python",
   "nbconvert_exporter": "python",
   "pygments_lexer": "ipython3",
   "version": "3.10.6"
  },
  "orig_nbformat": 4,
  "vscode": {
   "interpreter": {
    "hash": "84b9370629bc80826ce6aeb009e770dfe4ed6af6eef03d00ae361c57df430492"
   }
  }
 },
 "nbformat": 4,
 "nbformat_minor": 2
}
