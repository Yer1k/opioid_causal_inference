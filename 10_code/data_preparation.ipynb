{
 "cells": [
  {
   "cell_type": "markdown",
   "metadata": {},
   "source": [
    "# Data Preparation Notebook\n",
    "\n",
    "#### This notebook will be the test bed for data read functions to ingest data from a data folder on the local machine\n",
    "\n",
    "#### The end outputs of this notebook are that all data structures will have a 'COUNTY NAME, ST' column, and where applicable a FIPS code as well. Merges will be performed elsewhere."
   ]
  },
  {
   "cell_type": "markdown",
   "metadata": {},
   "source": [
    "### Import and parameters"
   ]
  },
  {
   "cell_type": "code",
   "execution_count": 1,
   "metadata": {},
   "outputs": [],
   "source": [
    "# import packages\n",
    "\n",
    "import pandas as pd\n",
    "import numpy as np\n",
    "import os\n",
    "\n",
    "# set the states concerned for the analysis\n",
    "states = [\n",
    "    \"FL\",\n",
    "    \"AL\",\n",
    "    \"GA\",\n",
    "    \"MS\",\n",
    "    \"SC\",\n",
    "    \"TX\",\n",
    "    \"OK\",\n",
    "    \"AZ\",\n",
    "    \"NM\",\n",
    "    \"WA\",\n",
    "    \"OR\",\n",
    "    \"ID\",\n",
    "    \"CA\",\n",
    "    \"NY\",\n",
    "]\n",
    "\n",
    "# Drop LA and NV because of issues. Carson city is an independent city in Nevada...??\n"
   ]
  },
  {
   "cell_type": "code",
   "execution_count": 2,
   "metadata": {},
   "outputs": [],
   "source": [
    "# ingest the state abbreviations as its own DF\n",
    "state_df = pd.read_table(\"../00_source_data/03_state_names.rtf\", sep=\",\")\n",
    "state_df.columns = [\"STATE\", \"ABBREV\"]\n",
    "\n",
    "# make state upper\n",
    "state_df[\"STATE\"] = state_df[\"STATE\"].str.upper()\n",
    "\n",
    "# drop the trailing slash from the abbrev\n",
    "state_df[\"ABBREV\"] = state_df[\"ABBREV\"].str[0:2]\n",
    "# state_df.head()\n"
   ]
  },
  {
   "cell_type": "markdown",
   "metadata": {},
   "source": [
    "### WAPO Dataset\n",
    "\n",
    "This section takes an argument for the path to the WAPO dataset and will ultimately return an annualized dataframe of the states with respective values for each year"
   ]
  },
  {
   "cell_type": "markdown",
   "metadata": {},
   "source": [
    "***Ingest actions***"
   ]
  },
  {
   "cell_type": "code",
   "execution_count": 3,
   "metadata": {},
   "outputs": [],
   "source": [
    "# set path to WAPO file\n",
    "wapo = \"../00_source_data/prescription_data.zip\"\n"
   ]
  },
  {
   "cell_type": "code",
   "execution_count": 4,
   "metadata": {},
   "outputs": [
    {
     "name": "stderr",
     "output_type": "stream",
     "text": [
      "/var/folders/rp/l0l3mhgx4zs1vfg5y9_c2qw80000gn/T/ipykernel_89667/3628572054.py:9: DtypeWarning: Columns (24,25,30) have mixed types. Specify dtype option on import or set low_memory=False.\n",
      "  for chunk in pd.read_csv(\n"
     ]
    },
    {
     "name": "stdout",
     "output_type": "stream",
     "text": [
      "Reading chunk:  1 of 465 ( 0.22 %)\n",
      "Reading chunk:  2 of 465 ( 0.43 %)\n",
      "Reading chunk:  3 of 465 ( 0.65 %)\n",
      "Reading chunk:  4 of 465 ( 0.86 %)\n"
     ]
    },
    {
     "name": "stderr",
     "output_type": "stream",
     "text": [
      "/var/folders/rp/l0l3mhgx4zs1vfg5y9_c2qw80000gn/T/ipykernel_89667/3628572054.py:9: DtypeWarning: Columns (25) have mixed types. Specify dtype option on import or set low_memory=False.\n",
      "  for chunk in pd.read_csv(\n"
     ]
    },
    {
     "name": "stdout",
     "output_type": "stream",
     "text": [
      "Reading chunk:  5 of 465 ( 1.08 %)\n",
      "Reading chunk:  6 of 465 ( 1.29 %)\n",
      "Reading chunk:  7 of 465 ( 1.51 %)\n"
     ]
    },
    {
     "name": "stderr",
     "output_type": "stream",
     "text": [
      "/var/folders/rp/l0l3mhgx4zs1vfg5y9_c2qw80000gn/T/ipykernel_89667/3628572054.py:9: DtypeWarning: Columns (25) have mixed types. Specify dtype option on import or set low_memory=False.\n",
      "  for chunk in pd.read_csv(\n"
     ]
    },
    {
     "name": "stdout",
     "output_type": "stream",
     "text": [
      "Reading chunk:  8 of 465 ( 1.72 %)\n"
     ]
    },
    {
     "name": "stderr",
     "output_type": "stream",
     "text": [
      "/var/folders/rp/l0l3mhgx4zs1vfg5y9_c2qw80000gn/T/ipykernel_89667/3628572054.py:9: DtypeWarning: Columns (25) have mixed types. Specify dtype option on import or set low_memory=False.\n",
      "  for chunk in pd.read_csv(\n"
     ]
    },
    {
     "name": "stdout",
     "output_type": "stream",
     "text": [
      "Reading chunk:  9 of 465 ( 1.94 %)\n",
      "Reading chunk:  10 of 465 ( 2.15 %)\n"
     ]
    },
    {
     "name": "stderr",
     "output_type": "stream",
     "text": [
      "/var/folders/rp/l0l3mhgx4zs1vfg5y9_c2qw80000gn/T/ipykernel_89667/3628572054.py:9: DtypeWarning: Columns (25) have mixed types. Specify dtype option on import or set low_memory=False.\n",
      "  for chunk in pd.read_csv(\n"
     ]
    },
    {
     "name": "stdout",
     "output_type": "stream",
     "text": [
      "Reading chunk:  11 of 465 ( 2.37 %)\n"
     ]
    },
    {
     "name": "stderr",
     "output_type": "stream",
     "text": [
      "/var/folders/rp/l0l3mhgx4zs1vfg5y9_c2qw80000gn/T/ipykernel_89667/3628572054.py:9: DtypeWarning: Columns (24,25,30) have mixed types. Specify dtype option on import or set low_memory=False.\n",
      "  for chunk in pd.read_csv(\n"
     ]
    },
    {
     "name": "stdout",
     "output_type": "stream",
     "text": [
      "Reading chunk:  12 of 465 ( 2.58 %)\n",
      "Reading chunk:  13 of 465 ( 2.8 %)\n",
      "Reading chunk:  14 of 465 ( 3.01 %)\n",
      "Reading chunk:  15 of 465 ( 3.23 %)\n",
      "Reading chunk:  16 of 465 ( 3.44 %)\n",
      "Reading chunk:  17 of 465 ( 3.66 %)\n",
      "Reading chunk:  18 of 465 ( 3.87 %)\n"
     ]
    },
    {
     "name": "stderr",
     "output_type": "stream",
     "text": [
      "/var/folders/rp/l0l3mhgx4zs1vfg5y9_c2qw80000gn/T/ipykernel_89667/3628572054.py:9: DtypeWarning: Columns (24,25,30) have mixed types. Specify dtype option on import or set low_memory=False.\n",
      "  for chunk in pd.read_csv(\n"
     ]
    },
    {
     "name": "stdout",
     "output_type": "stream",
     "text": [
      "Reading chunk:  19 of 465 ( 4.09 %)\n",
      "Reading chunk:  20 of 465 ( 4.3 %)\n",
      "Reading chunk:  21 of 465 ( 4.52 %)\n",
      "Reading chunk:  22 of 465 ( 4.73 %)\n",
      "Reading chunk:  23 of 465 ( 4.95 %)\n",
      "Reading chunk:  24 of 465 ( 5.16 %)\n",
      "Reading chunk:  25 of 465 ( 5.38 %)\n",
      "Reading chunk:  26 of 465 ( 5.59 %)\n",
      "Reading chunk:  27 of 465 ( 5.81 %)\n",
      "Reading chunk:  28 of 465 ( 6.02 %)\n"
     ]
    },
    {
     "name": "stderr",
     "output_type": "stream",
     "text": [
      "/var/folders/rp/l0l3mhgx4zs1vfg5y9_c2qw80000gn/T/ipykernel_89667/3628572054.py:9: DtypeWarning: Columns (24,25,30) have mixed types. Specify dtype option on import or set low_memory=False.\n",
      "  for chunk in pd.read_csv(\n"
     ]
    },
    {
     "name": "stdout",
     "output_type": "stream",
     "text": [
      "Reading chunk:  29 of 465 ( 6.24 %)\n",
      "Reading chunk:  30 of 465 ( 6.45 %)\n",
      "Reading chunk:  31 of 465 ( 6.67 %)\n",
      "Reading chunk:  32 of 465 ( 6.88 %)\n",
      "Reading chunk:  33 of 465 ( 7.1 %)\n",
      "Reading chunk:  34 of 465 ( 7.31 %)\n",
      "Reading chunk:  35 of 465 ( 7.53 %)\n",
      "Reading chunk:  36 of 465 ( 7.74 %)\n",
      "Reading chunk:  37 of 465 ( 7.96 %)\n",
      "Reading chunk:  38 of 465 ( 8.17 %)\n",
      "Reading chunk:  39 of 465 ( 8.39 %)\n",
      "Reading chunk:  40 of 465 ( 8.6 %)\n",
      "Reading chunk:  41 of 465 ( 8.82 %)\n",
      "Reading chunk:  42 of 465 ( 9.03 %)\n",
      "Reading chunk:  43 of 465 ( 9.25 %)\n",
      "Reading chunk:  44 of 465 ( 9.46 %)\n",
      "Reading chunk:  45 of 465 ( 9.68 %)\n",
      "Reading chunk:  46 of 465 ( 9.89 %)\n",
      "Reading chunk:  47 of 465 ( 10.11 %)\n",
      "Reading chunk:  48 of 465 ( 10.32 %)\n",
      "Reading chunk:  49 of 465 ( 10.54 %)\n",
      "Reading chunk:  50 of 465 ( 10.75 %)\n",
      "Reading chunk:  51 of 465 ( 10.97 %)\n",
      "Reading chunk:  52 of 465 ( 11.18 %)\n",
      "Reading chunk:  53 of 465 ( 11.4 %)\n",
      "Reading chunk:  54 of 465 ( 11.61 %)\n",
      "Reading chunk:  55 of 465 ( 11.83 %)\n",
      "Reading chunk:  56 of 465 ( 12.04 %)\n",
      "Reading chunk:  57 of 465 ( 12.26 %)\n",
      "Reading chunk:  58 of 465 ( 12.47 %)\n",
      "Reading chunk:  59 of 465 ( 12.69 %)\n",
      "Reading chunk:  60 of 465 ( 12.9 %)\n",
      "Reading chunk:  61 of 465 ( 13.12 %)\n",
      "Reading chunk:  62 of 465 ( 13.33 %)\n",
      "Reading chunk:  63 of 465 ( 13.55 %)\n",
      "Reading chunk:  64 of 465 ( 13.76 %)\n"
     ]
    },
    {
     "name": "stderr",
     "output_type": "stream",
     "text": [
      "/var/folders/rp/l0l3mhgx4zs1vfg5y9_c2qw80000gn/T/ipykernel_89667/3628572054.py:9: DtypeWarning: Columns (24,25,30) have mixed types. Specify dtype option on import or set low_memory=False.\n",
      "  for chunk in pd.read_csv(\n"
     ]
    },
    {
     "name": "stdout",
     "output_type": "stream",
     "text": [
      "Reading chunk:  65 of 465 ( 13.98 %)\n",
      "Reading chunk:  66 of 465 ( 14.19 %)\n",
      "Reading chunk:  67 of 465 ( 14.41 %)\n",
      "Reading chunk:  68 of 465 ( 14.62 %)\n",
      "Reading chunk:  69 of 465 ( 14.84 %)\n",
      "Reading chunk:  70 of 465 ( 15.05 %)\n",
      "Reading chunk:  71 of 465 ( 15.27 %)\n",
      "Reading chunk:  72 of 465 ( 15.48 %)\n"
     ]
    },
    {
     "name": "stderr",
     "output_type": "stream",
     "text": [
      "/var/folders/rp/l0l3mhgx4zs1vfg5y9_c2qw80000gn/T/ipykernel_89667/3628572054.py:9: DtypeWarning: Columns (24,25,30) have mixed types. Specify dtype option on import or set low_memory=False.\n",
      "  for chunk in pd.read_csv(\n"
     ]
    },
    {
     "name": "stdout",
     "output_type": "stream",
     "text": [
      "Reading chunk:  73 of 465 ( 15.7 %)\n",
      "Reading chunk:  74 of 465 ( 15.91 %)\n",
      "Reading chunk:  75 of 465 ( 16.13 %)\n",
      "Reading chunk:  76 of 465 ( 16.34 %)\n"
     ]
    },
    {
     "name": "stderr",
     "output_type": "stream",
     "text": [
      "/var/folders/rp/l0l3mhgx4zs1vfg5y9_c2qw80000gn/T/ipykernel_89667/3628572054.py:9: DtypeWarning: Columns (24,25,30) have mixed types. Specify dtype option on import or set low_memory=False.\n",
      "  for chunk in pd.read_csv(\n"
     ]
    },
    {
     "name": "stdout",
     "output_type": "stream",
     "text": [
      "Reading chunk:  77 of 465 ( 16.56 %)\n"
     ]
    },
    {
     "name": "stderr",
     "output_type": "stream",
     "text": [
      "/var/folders/rp/l0l3mhgx4zs1vfg5y9_c2qw80000gn/T/ipykernel_89667/3628572054.py:9: DtypeWarning: Columns (24,25,30) have mixed types. Specify dtype option on import or set low_memory=False.\n",
      "  for chunk in pd.read_csv(\n"
     ]
    },
    {
     "name": "stdout",
     "output_type": "stream",
     "text": [
      "Reading chunk:  78 of 465 ( 16.77 %)\n"
     ]
    },
    {
     "name": "stderr",
     "output_type": "stream",
     "text": [
      "/var/folders/rp/l0l3mhgx4zs1vfg5y9_c2qw80000gn/T/ipykernel_89667/3628572054.py:9: DtypeWarning: Columns (24,25,30) have mixed types. Specify dtype option on import or set low_memory=False.\n",
      "  for chunk in pd.read_csv(\n"
     ]
    },
    {
     "name": "stdout",
     "output_type": "stream",
     "text": [
      "Reading chunk:  79 of 465 ( 16.99 %)\n",
      "Reading chunk:  80 of 465 ( 17.2 %)\n",
      "Reading chunk:  81 of 465 ( 17.42 %)\n",
      "Reading chunk:  82 of 465 ( 17.63 %)\n",
      "Reading chunk:  83 of 465 ( 17.85 %)\n",
      "Reading chunk:  84 of 465 ( 18.06 %)\n",
      "Reading chunk:  85 of 465 ( 18.28 %)\n",
      "Reading chunk:  86 of 465 ( 18.49 %)\n",
      "Reading chunk:  87 of 465 ( 18.71 %)\n",
      "Reading chunk:  88 of 465 ( 18.92 %)\n",
      "Reading chunk:  89 of 465 ( 19.14 %)\n",
      "Reading chunk:  90 of 465 ( 19.35 %)\n",
      "Reading chunk:  91 of 465 ( 19.57 %)\n",
      "Reading chunk:  92 of 465 ( 19.78 %)\n",
      "Reading chunk:  93 of 465 ( 20.0 %)\n",
      "Reading chunk:  94 of 465 ( 20.22 %)\n",
      "Reading chunk:  95 of 465 ( 20.43 %)\n",
      "Reading chunk:  96 of 465 ( 20.65 %)\n",
      "Reading chunk:  97 of 465 ( 20.86 %)\n",
      "Reading chunk:  98 of 465 ( 21.08 %)\n",
      "Reading chunk:  99 of 465 ( 21.29 %)\n",
      "Reading chunk:  100 of 465 ( 21.51 %)\n",
      "Reading chunk:  101 of 465 ( 21.72 %)\n",
      "Reading chunk:  102 of 465 ( 21.94 %)\n",
      "Reading chunk:  103 of 465 ( 22.15 %)\n",
      "Reading chunk:  104 of 465 ( 22.37 %)\n",
      "Reading chunk:  105 of 465 ( 22.58 %)\n",
      "Reading chunk:  106 of 465 ( 22.8 %)\n",
      "Reading chunk:  107 of 465 ( 23.01 %)\n",
      "Reading chunk:  108 of 465 ( 23.23 %)\n"
     ]
    },
    {
     "name": "stderr",
     "output_type": "stream",
     "text": [
      "/var/folders/rp/l0l3mhgx4zs1vfg5y9_c2qw80000gn/T/ipykernel_89667/3628572054.py:9: DtypeWarning: Columns (24,25,30) have mixed types. Specify dtype option on import or set low_memory=False.\n",
      "  for chunk in pd.read_csv(\n"
     ]
    },
    {
     "name": "stdout",
     "output_type": "stream",
     "text": [
      "Reading chunk:  109 of 465 ( 23.44 %)\n",
      "Reading chunk:  110 of 465 ( 23.66 %)\n",
      "Reading chunk:  111 of 465 ( 23.87 %)\n",
      "Reading chunk:  112 of 465 ( 24.09 %)\n",
      "Reading chunk:  113 of 465 ( 24.3 %)\n",
      "Reading chunk:  114 of 465 ( 24.52 %)\n",
      "Reading chunk:  115 of 465 ( 24.73 %)\n",
      "Reading chunk:  116 of 465 ( 24.95 %)\n",
      "Reading chunk:  117 of 465 ( 25.16 %)\n",
      "Reading chunk:  118 of 465 ( 25.38 %)\n",
      "Reading chunk:  119 of 465 ( 25.59 %)\n",
      "Reading chunk:  120 of 465 ( 25.81 %)\n",
      "Reading chunk:  121 of 465 ( 26.02 %)\n",
      "Reading chunk:  122 of 465 ( 26.24 %)\n",
      "Reading chunk:  123 of 465 ( 26.45 %)\n",
      "Reading chunk:  124 of 465 ( 26.67 %)\n",
      "Reading chunk:  125 of 465 ( 26.88 %)\n"
     ]
    },
    {
     "name": "stderr",
     "output_type": "stream",
     "text": [
      "/var/folders/rp/l0l3mhgx4zs1vfg5y9_c2qw80000gn/T/ipykernel_89667/3628572054.py:9: DtypeWarning: Columns (24,25,30) have mixed types. Specify dtype option on import or set low_memory=False.\n",
      "  for chunk in pd.read_csv(\n"
     ]
    },
    {
     "name": "stdout",
     "output_type": "stream",
     "text": [
      "Reading chunk:  126 of 465 ( 27.1 %)\n"
     ]
    },
    {
     "name": "stderr",
     "output_type": "stream",
     "text": [
      "/var/folders/rp/l0l3mhgx4zs1vfg5y9_c2qw80000gn/T/ipykernel_89667/3628572054.py:9: DtypeWarning: Columns (24,25,30) have mixed types. Specify dtype option on import or set low_memory=False.\n",
      "  for chunk in pd.read_csv(\n"
     ]
    },
    {
     "name": "stdout",
     "output_type": "stream",
     "text": [
      "Reading chunk:  127 of 465 ( 27.31 %)\n",
      "Reading chunk:  128 of 465 ( 27.53 %)\n",
      "Reading chunk:  129 of 465 ( 27.74 %)\n",
      "Reading chunk:  130 of 465 ( 27.96 %)\n"
     ]
    },
    {
     "name": "stderr",
     "output_type": "stream",
     "text": [
      "/var/folders/rp/l0l3mhgx4zs1vfg5y9_c2qw80000gn/T/ipykernel_89667/3628572054.py:9: DtypeWarning: Columns (24,25,30) have mixed types. Specify dtype option on import or set low_memory=False.\n",
      "  for chunk in pd.read_csv(\n"
     ]
    },
    {
     "name": "stdout",
     "output_type": "stream",
     "text": [
      "Reading chunk:  131 of 465 ( 28.17 %)\n",
      "Reading chunk:  132 of 465 ( 28.39 %)\n",
      "Reading chunk:  133 of 465 ( 28.6 %)\n"
     ]
    },
    {
     "name": "stderr",
     "output_type": "stream",
     "text": [
      "/var/folders/rp/l0l3mhgx4zs1vfg5y9_c2qw80000gn/T/ipykernel_89667/3628572054.py:9: DtypeWarning: Columns (24,25,30) have mixed types. Specify dtype option on import or set low_memory=False.\n",
      "  for chunk in pd.read_csv(\n"
     ]
    },
    {
     "name": "stdout",
     "output_type": "stream",
     "text": [
      "Reading chunk:  134 of 465 ( 28.82 %)\n",
      "Reading chunk:  135 of 465 ( 29.03 %)\n",
      "Reading chunk:  136 of 465 ( 29.25 %)\n",
      "Reading chunk:  137 of 465 ( 29.46 %)\n",
      "Reading chunk:  138 of 465 ( 29.68 %)\n",
      "Reading chunk:  139 of 465 ( 29.89 %)\n",
      "Reading chunk:  140 of 465 ( 30.11 %)\n",
      "Reading chunk:  141 of 465 ( 30.32 %)\n",
      "Reading chunk:  142 of 465 ( 30.54 %)\n",
      "Reading chunk:  143 of 465 ( 30.75 %)\n",
      "Reading chunk:  144 of 465 ( 30.97 %)\n",
      "Reading chunk:  145 of 465 ( 31.18 %)\n",
      "Reading chunk:  146 of 465 ( 31.4 %)\n",
      "Reading chunk:  147 of 465 ( 31.61 %)\n"
     ]
    },
    {
     "name": "stderr",
     "output_type": "stream",
     "text": [
      "/var/folders/rp/l0l3mhgx4zs1vfg5y9_c2qw80000gn/T/ipykernel_89667/3628572054.py:9: DtypeWarning: Columns (24,25,30) have mixed types. Specify dtype option on import or set low_memory=False.\n",
      "  for chunk in pd.read_csv(\n"
     ]
    },
    {
     "name": "stdout",
     "output_type": "stream",
     "text": [
      "Reading chunk:  148 of 465 ( 31.83 %)\n",
      "Reading chunk:  149 of 465 ( 32.04 %)\n"
     ]
    },
    {
     "name": "stderr",
     "output_type": "stream",
     "text": [
      "/var/folders/rp/l0l3mhgx4zs1vfg5y9_c2qw80000gn/T/ipykernel_89667/3628572054.py:9: DtypeWarning: Columns (25) have mixed types. Specify dtype option on import or set low_memory=False.\n",
      "  for chunk in pd.read_csv(\n"
     ]
    },
    {
     "name": "stdout",
     "output_type": "stream",
     "text": [
      "Reading chunk:  150 of 465 ( 32.26 %)\n"
     ]
    },
    {
     "name": "stderr",
     "output_type": "stream",
     "text": [
      "/var/folders/rp/l0l3mhgx4zs1vfg5y9_c2qw80000gn/T/ipykernel_89667/3628572054.py:9: DtypeWarning: Columns (25) have mixed types. Specify dtype option on import or set low_memory=False.\n",
      "  for chunk in pd.read_csv(\n"
     ]
    },
    {
     "name": "stdout",
     "output_type": "stream",
     "text": [
      "Reading chunk:  151 of 465 ( 32.47 %)\n",
      "Reading chunk:  152 of 465 ( 32.69 %)\n"
     ]
    },
    {
     "name": "stderr",
     "output_type": "stream",
     "text": [
      "/var/folders/rp/l0l3mhgx4zs1vfg5y9_c2qw80000gn/T/ipykernel_89667/3628572054.py:9: DtypeWarning: Columns (25) have mixed types. Specify dtype option on import or set low_memory=False.\n",
      "  for chunk in pd.read_csv(\n"
     ]
    },
    {
     "name": "stdout",
     "output_type": "stream",
     "text": [
      "Reading chunk:  153 of 465 ( 32.9 %)\n",
      "Reading chunk:  154 of 465 ( 33.12 %)\n",
      "Reading chunk:  155 of 465 ( 33.33 %)\n"
     ]
    },
    {
     "name": "stderr",
     "output_type": "stream",
     "text": [
      "/var/folders/rp/l0l3mhgx4zs1vfg5y9_c2qw80000gn/T/ipykernel_89667/3628572054.py:9: DtypeWarning: Columns (25) have mixed types. Specify dtype option on import or set low_memory=False.\n",
      "  for chunk in pd.read_csv(\n"
     ]
    },
    {
     "name": "stdout",
     "output_type": "stream",
     "text": [
      "Reading chunk:  156 of 465 ( 33.55 %)\n",
      "Reading chunk:  157 of 465 ( 33.76 %)\n"
     ]
    },
    {
     "name": "stderr",
     "output_type": "stream",
     "text": [
      "/var/folders/rp/l0l3mhgx4zs1vfg5y9_c2qw80000gn/T/ipykernel_89667/3628572054.py:9: DtypeWarning: Columns (25) have mixed types. Specify dtype option on import or set low_memory=False.\n",
      "  for chunk in pd.read_csv(\n"
     ]
    },
    {
     "name": "stdout",
     "output_type": "stream",
     "text": [
      "Reading chunk:  158 of 465 ( 33.98 %)\n",
      "Reading chunk:  159 of 465 ( 34.19 %)\n"
     ]
    },
    {
     "name": "stderr",
     "output_type": "stream",
     "text": [
      "/var/folders/rp/l0l3mhgx4zs1vfg5y9_c2qw80000gn/T/ipykernel_89667/3628572054.py:9: DtypeWarning: Columns (24,25,30) have mixed types. Specify dtype option on import or set low_memory=False.\n",
      "  for chunk in pd.read_csv(\n"
     ]
    },
    {
     "name": "stdout",
     "output_type": "stream",
     "text": [
      "Reading chunk:  160 of 465 ( 34.41 %)\n",
      "Reading chunk:  161 of 465 ( 34.62 %)\n",
      "Reading chunk:  162 of 465 ( 34.84 %)\n",
      "Reading chunk:  163 of 465 ( 35.05 %)\n",
      "Reading chunk:  164 of 465 ( 35.27 %)\n"
     ]
    },
    {
     "name": "stderr",
     "output_type": "stream",
     "text": [
      "/var/folders/rp/l0l3mhgx4zs1vfg5y9_c2qw80000gn/T/ipykernel_89667/3628572054.py:9: DtypeWarning: Columns (24,25,30) have mixed types. Specify dtype option on import or set low_memory=False.\n",
      "  for chunk in pd.read_csv(\n"
     ]
    },
    {
     "name": "stdout",
     "output_type": "stream",
     "text": [
      "Reading chunk:  165 of 465 ( 35.48 %)\n",
      "Reading chunk:  166 of 465 ( 35.7 %)\n"
     ]
    },
    {
     "name": "stderr",
     "output_type": "stream",
     "text": [
      "/var/folders/rp/l0l3mhgx4zs1vfg5y9_c2qw80000gn/T/ipykernel_89667/3628572054.py:9: DtypeWarning: Columns (25) have mixed types. Specify dtype option on import or set low_memory=False.\n",
      "  for chunk in pd.read_csv(\n"
     ]
    },
    {
     "name": "stdout",
     "output_type": "stream",
     "text": [
      "Reading chunk:  167 of 465 ( 35.91 %)\n",
      "Reading chunk:  168 of 465 ( 36.13 %)\n",
      "Reading chunk:  169 of 465 ( 36.34 %)\n",
      "Reading chunk:  170 of 465 ( 36.56 %)\n",
      "Reading chunk:  171 of 465 ( 36.77 %)\n"
     ]
    },
    {
     "name": "stderr",
     "output_type": "stream",
     "text": [
      "/var/folders/rp/l0l3mhgx4zs1vfg5y9_c2qw80000gn/T/ipykernel_89667/3628572054.py:9: DtypeWarning: Columns (25) have mixed types. Specify dtype option on import or set low_memory=False.\n",
      "  for chunk in pd.read_csv(\n"
     ]
    },
    {
     "name": "stdout",
     "output_type": "stream",
     "text": [
      "Reading chunk:  172 of 465 ( 36.99 %)\n"
     ]
    },
    {
     "name": "stderr",
     "output_type": "stream",
     "text": [
      "/var/folders/rp/l0l3mhgx4zs1vfg5y9_c2qw80000gn/T/ipykernel_89667/3628572054.py:9: DtypeWarning: Columns (25) have mixed types. Specify dtype option on import or set low_memory=False.\n",
      "  for chunk in pd.read_csv(\n"
     ]
    },
    {
     "name": "stdout",
     "output_type": "stream",
     "text": [
      "Reading chunk:  173 of 465 ( 37.2 %)\n"
     ]
    },
    {
     "name": "stderr",
     "output_type": "stream",
     "text": [
      "/var/folders/rp/l0l3mhgx4zs1vfg5y9_c2qw80000gn/T/ipykernel_89667/3628572054.py:9: DtypeWarning: Columns (25) have mixed types. Specify dtype option on import or set low_memory=False.\n",
      "  for chunk in pd.read_csv(\n"
     ]
    },
    {
     "name": "stdout",
     "output_type": "stream",
     "text": [
      "Reading chunk:  174 of 465 ( 37.42 %)\n",
      "Reading chunk:  175 of 465 ( 37.63 %)\n"
     ]
    },
    {
     "name": "stderr",
     "output_type": "stream",
     "text": [
      "/var/folders/rp/l0l3mhgx4zs1vfg5y9_c2qw80000gn/T/ipykernel_89667/3628572054.py:9: DtypeWarning: Columns (24,25,30) have mixed types. Specify dtype option on import or set low_memory=False.\n",
      "  for chunk in pd.read_csv(\n"
     ]
    },
    {
     "name": "stdout",
     "output_type": "stream",
     "text": [
      "Reading chunk:  176 of 465 ( 37.85 %)\n",
      "Reading chunk:  177 of 465 ( 38.06 %)\n",
      "Reading chunk:  178 of 465 ( 38.28 %)\n",
      "Reading chunk:  179 of 465 ( 38.49 %)\n",
      "Reading chunk:  180 of 465 ( 38.71 %)\n",
      "Reading chunk:  181 of 465 ( 38.92 %)\n",
      "Reading chunk:  182 of 465 ( 39.14 %)\n",
      "Reading chunk:  183 of 465 ( 39.35 %)\n"
     ]
    },
    {
     "name": "stderr",
     "output_type": "stream",
     "text": [
      "/var/folders/rp/l0l3mhgx4zs1vfg5y9_c2qw80000gn/T/ipykernel_89667/3628572054.py:9: DtypeWarning: Columns (24,25,30) have mixed types. Specify dtype option on import or set low_memory=False.\n",
      "  for chunk in pd.read_csv(\n"
     ]
    },
    {
     "name": "stdout",
     "output_type": "stream",
     "text": [
      "Reading chunk:  184 of 465 ( 39.57 %)\n",
      "Reading chunk:  185 of 465 ( 39.78 %)\n",
      "Reading chunk:  186 of 465 ( 40.0 %)\n",
      "Reading chunk:  187 of 465 ( 40.22 %)\n",
      "Reading chunk:  188 of 465 ( 40.43 %)\n",
      "Reading chunk:  189 of 465 ( 40.65 %)\n",
      "Reading chunk:  190 of 465 ( 40.86 %)\n"
     ]
    },
    {
     "name": "stderr",
     "output_type": "stream",
     "text": [
      "/var/folders/rp/l0l3mhgx4zs1vfg5y9_c2qw80000gn/T/ipykernel_89667/3628572054.py:9: DtypeWarning: Columns (24,25,30) have mixed types. Specify dtype option on import or set low_memory=False.\n",
      "  for chunk in pd.read_csv(\n"
     ]
    },
    {
     "name": "stdout",
     "output_type": "stream",
     "text": [
      "Reading chunk:  191 of 465 ( 41.08 %)\n"
     ]
    },
    {
     "name": "stderr",
     "output_type": "stream",
     "text": [
      "/var/folders/rp/l0l3mhgx4zs1vfg5y9_c2qw80000gn/T/ipykernel_89667/3628572054.py:9: DtypeWarning: Columns (25) have mixed types. Specify dtype option on import or set low_memory=False.\n",
      "  for chunk in pd.read_csv(\n"
     ]
    },
    {
     "name": "stdout",
     "output_type": "stream",
     "text": [
      "Reading chunk:  192 of 465 ( 41.29 %)\n"
     ]
    },
    {
     "name": "stderr",
     "output_type": "stream",
     "text": [
      "/var/folders/rp/l0l3mhgx4zs1vfg5y9_c2qw80000gn/T/ipykernel_89667/3628572054.py:9: DtypeWarning: Columns (25) have mixed types. Specify dtype option on import or set low_memory=False.\n",
      "  for chunk in pd.read_csv(\n"
     ]
    },
    {
     "name": "stdout",
     "output_type": "stream",
     "text": [
      "Reading chunk:  193 of 465 ( 41.51 %)\n",
      "Reading chunk:  194 of 465 ( 41.72 %)\n",
      "Reading chunk:  195 of 465 ( 41.94 %)\n"
     ]
    },
    {
     "name": "stderr",
     "output_type": "stream",
     "text": [
      "/var/folders/rp/l0l3mhgx4zs1vfg5y9_c2qw80000gn/T/ipykernel_89667/3628572054.py:9: DtypeWarning: Columns (25) have mixed types. Specify dtype option on import or set low_memory=False.\n",
      "  for chunk in pd.read_csv(\n"
     ]
    },
    {
     "name": "stdout",
     "output_type": "stream",
     "text": [
      "Reading chunk:  196 of 465 ( 42.15 %)\n",
      "Reading chunk:  197 of 465 ( 42.37 %)\n",
      "Reading chunk:  198 of 465 ( 42.58 %)\n"
     ]
    },
    {
     "name": "stderr",
     "output_type": "stream",
     "text": [
      "/var/folders/rp/l0l3mhgx4zs1vfg5y9_c2qw80000gn/T/ipykernel_89667/3628572054.py:9: DtypeWarning: Columns (24,25,30) have mixed types. Specify dtype option on import or set low_memory=False.\n",
      "  for chunk in pd.read_csv(\n"
     ]
    },
    {
     "name": "stdout",
     "output_type": "stream",
     "text": [
      "Reading chunk:  199 of 465 ( 42.8 %)\n",
      "Reading chunk:  200 of 465 ( 43.01 %)\n"
     ]
    },
    {
     "name": "stderr",
     "output_type": "stream",
     "text": [
      "/var/folders/rp/l0l3mhgx4zs1vfg5y9_c2qw80000gn/T/ipykernel_89667/3628572054.py:9: DtypeWarning: Columns (24,25,30) have mixed types. Specify dtype option on import or set low_memory=False.\n",
      "  for chunk in pd.read_csv(\n"
     ]
    },
    {
     "name": "stdout",
     "output_type": "stream",
     "text": [
      "Reading chunk:  201 of 465 ( 43.23 %)\n",
      "Reading chunk:  202 of 465 ( 43.44 %)\n",
      "Reading chunk:  203 of 465 ( 43.66 %)\n",
      "Reading chunk:  204 of 465 ( 43.87 %)\n",
      "Reading chunk:  205 of 465 ( 44.09 %)\n",
      "Reading chunk:  206 of 465 ( 44.3 %)\n",
      "Reading chunk:  207 of 465 ( 44.52 %)\n",
      "Reading chunk:  208 of 465 ( 44.73 %)\n",
      "Reading chunk:  209 of 465 ( 44.95 %)\n",
      "Reading chunk:  210 of 465 ( 45.16 %)\n",
      "Reading chunk:  211 of 465 ( 45.38 %)\n",
      "Reading chunk:  212 of 465 ( 45.59 %)\n",
      "Reading chunk:  213 of 465 ( 45.81 %)\n",
      "Reading chunk:  214 of 465 ( 46.02 %)\n",
      "Reading chunk:  215 of 465 ( 46.24 %)\n",
      "Reading chunk:  216 of 465 ( 46.45 %)\n",
      "Reading chunk:  217 of 465 ( 46.67 %)\n",
      "Reading chunk:  218 of 465 ( 46.88 %)\n"
     ]
    },
    {
     "name": "stderr",
     "output_type": "stream",
     "text": [
      "/var/folders/rp/l0l3mhgx4zs1vfg5y9_c2qw80000gn/T/ipykernel_89667/3628572054.py:9: DtypeWarning: Columns (24,25,30) have mixed types. Specify dtype option on import or set low_memory=False.\n",
      "  for chunk in pd.read_csv(\n"
     ]
    },
    {
     "name": "stdout",
     "output_type": "stream",
     "text": [
      "Reading chunk:  219 of 465 ( 47.1 %)\n"
     ]
    },
    {
     "name": "stderr",
     "output_type": "stream",
     "text": [
      "/var/folders/rp/l0l3mhgx4zs1vfg5y9_c2qw80000gn/T/ipykernel_89667/3628572054.py:9: DtypeWarning: Columns (25) have mixed types. Specify dtype option on import or set low_memory=False.\n",
      "  for chunk in pd.read_csv(\n"
     ]
    },
    {
     "name": "stdout",
     "output_type": "stream",
     "text": [
      "Reading chunk:  220 of 465 ( 47.31 %)\n"
     ]
    },
    {
     "name": "stderr",
     "output_type": "stream",
     "text": [
      "/var/folders/rp/l0l3mhgx4zs1vfg5y9_c2qw80000gn/T/ipykernel_89667/3628572054.py:9: DtypeWarning: Columns (25) have mixed types. Specify dtype option on import or set low_memory=False.\n",
      "  for chunk in pd.read_csv(\n"
     ]
    },
    {
     "name": "stdout",
     "output_type": "stream",
     "text": [
      "Reading chunk:  221 of 465 ( 47.53 %)\n"
     ]
    },
    {
     "name": "stderr",
     "output_type": "stream",
     "text": [
      "/var/folders/rp/l0l3mhgx4zs1vfg5y9_c2qw80000gn/T/ipykernel_89667/3628572054.py:9: DtypeWarning: Columns (25) have mixed types. Specify dtype option on import or set low_memory=False.\n",
      "  for chunk in pd.read_csv(\n"
     ]
    },
    {
     "name": "stdout",
     "output_type": "stream",
     "text": [
      "Reading chunk:  222 of 465 ( 47.74 %)\n"
     ]
    },
    {
     "name": "stderr",
     "output_type": "stream",
     "text": [
      "/var/folders/rp/l0l3mhgx4zs1vfg5y9_c2qw80000gn/T/ipykernel_89667/3628572054.py:9: DtypeWarning: Columns (25) have mixed types. Specify dtype option on import or set low_memory=False.\n",
      "  for chunk in pd.read_csv(\n"
     ]
    },
    {
     "name": "stdout",
     "output_type": "stream",
     "text": [
      "Reading chunk:  223 of 465 ( 47.96 %)\n"
     ]
    },
    {
     "name": "stderr",
     "output_type": "stream",
     "text": [
      "/var/folders/rp/l0l3mhgx4zs1vfg5y9_c2qw80000gn/T/ipykernel_89667/3628572054.py:9: DtypeWarning: Columns (25) have mixed types. Specify dtype option on import or set low_memory=False.\n",
      "  for chunk in pd.read_csv(\n"
     ]
    },
    {
     "name": "stdout",
     "output_type": "stream",
     "text": [
      "Reading chunk:  224 of 465 ( 48.17 %)\n"
     ]
    },
    {
     "name": "stderr",
     "output_type": "stream",
     "text": [
      "/var/folders/rp/l0l3mhgx4zs1vfg5y9_c2qw80000gn/T/ipykernel_89667/3628572054.py:9: DtypeWarning: Columns (24,25,30) have mixed types. Specify dtype option on import or set low_memory=False.\n",
      "  for chunk in pd.read_csv(\n"
     ]
    },
    {
     "name": "stdout",
     "output_type": "stream",
     "text": [
      "Reading chunk:  225 of 465 ( 48.39 %)\n",
      "Reading chunk:  226 of 465 ( 48.6 %)\n",
      "Reading chunk:  227 of 465 ( 48.82 %)\n",
      "Reading chunk:  228 of 465 ( 49.03 %)\n"
     ]
    },
    {
     "name": "stderr",
     "output_type": "stream",
     "text": [
      "/var/folders/rp/l0l3mhgx4zs1vfg5y9_c2qw80000gn/T/ipykernel_89667/3628572054.py:9: DtypeWarning: Columns (25) have mixed types. Specify dtype option on import or set low_memory=False.\n",
      "  for chunk in pd.read_csv(\n"
     ]
    },
    {
     "name": "stdout",
     "output_type": "stream",
     "text": [
      "Reading chunk:  229 of 465 ( 49.25 %)\n",
      "Reading chunk:  230 of 465 ( 49.46 %)\n"
     ]
    },
    {
     "name": "stderr",
     "output_type": "stream",
     "text": [
      "/var/folders/rp/l0l3mhgx4zs1vfg5y9_c2qw80000gn/T/ipykernel_89667/3628572054.py:9: DtypeWarning: Columns (25) have mixed types. Specify dtype option on import or set low_memory=False.\n",
      "  for chunk in pd.read_csv(\n"
     ]
    },
    {
     "name": "stdout",
     "output_type": "stream",
     "text": [
      "Reading chunk:  231 of 465 ( 49.68 %)\n"
     ]
    },
    {
     "name": "stderr",
     "output_type": "stream",
     "text": [
      "/var/folders/rp/l0l3mhgx4zs1vfg5y9_c2qw80000gn/T/ipykernel_89667/3628572054.py:9: DtypeWarning: Columns (25) have mixed types. Specify dtype option on import or set low_memory=False.\n",
      "  for chunk in pd.read_csv(\n"
     ]
    },
    {
     "name": "stdout",
     "output_type": "stream",
     "text": [
      "Reading chunk:  232 of 465 ( 49.89 %)\n",
      "Reading chunk:  233 of 465 ( 50.11 %)\n",
      "Reading chunk:  234 of 465 ( 50.32 %)\n"
     ]
    },
    {
     "name": "stderr",
     "output_type": "stream",
     "text": [
      "/var/folders/rp/l0l3mhgx4zs1vfg5y9_c2qw80000gn/T/ipykernel_89667/3628572054.py:9: DtypeWarning: Columns (25) have mixed types. Specify dtype option on import or set low_memory=False.\n",
      "  for chunk in pd.read_csv(\n"
     ]
    },
    {
     "name": "stdout",
     "output_type": "stream",
     "text": [
      "Reading chunk:  235 of 465 ( 50.54 %)\n"
     ]
    },
    {
     "name": "stderr",
     "output_type": "stream",
     "text": [
      "/var/folders/rp/l0l3mhgx4zs1vfg5y9_c2qw80000gn/T/ipykernel_89667/3628572054.py:9: DtypeWarning: Columns (24,25,30) have mixed types. Specify dtype option on import or set low_memory=False.\n",
      "  for chunk in pd.read_csv(\n"
     ]
    },
    {
     "name": "stdout",
     "output_type": "stream",
     "text": [
      "Reading chunk:  236 of 465 ( 50.75 %)\n",
      "Reading chunk:  237 of 465 ( 50.97 %)\n",
      "Reading chunk:  238 of 465 ( 51.18 %)\n",
      "Reading chunk:  239 of 465 ( 51.4 %)\n",
      "Reading chunk:  240 of 465 ( 51.61 %)\n",
      "Reading chunk:  241 of 465 ( 51.83 %)\n"
     ]
    },
    {
     "name": "stderr",
     "output_type": "stream",
     "text": [
      "/var/folders/rp/l0l3mhgx4zs1vfg5y9_c2qw80000gn/T/ipykernel_89667/3628572054.py:9: DtypeWarning: Columns (24,25,30) have mixed types. Specify dtype option on import or set low_memory=False.\n",
      "  for chunk in pd.read_csv(\n"
     ]
    },
    {
     "name": "stdout",
     "output_type": "stream",
     "text": [
      "Reading chunk:  242 of 465 ( 52.04 %)\n",
      "Reading chunk:  243 of 465 ( 52.26 %)\n"
     ]
    },
    {
     "name": "stderr",
     "output_type": "stream",
     "text": [
      "/var/folders/rp/l0l3mhgx4zs1vfg5y9_c2qw80000gn/T/ipykernel_89667/3628572054.py:9: DtypeWarning: Columns (24,25,30) have mixed types. Specify dtype option on import or set low_memory=False.\n",
      "  for chunk in pd.read_csv(\n"
     ]
    },
    {
     "name": "stdout",
     "output_type": "stream",
     "text": [
      "Reading chunk:  244 of 465 ( 52.47 %)\n",
      "Reading chunk:  245 of 465 ( 52.69 %)\n",
      "Reading chunk:  246 of 465 ( 52.9 %)\n",
      "Reading chunk:  247 of 465 ( 53.12 %)\n",
      "Reading chunk:  248 of 465 ( 53.33 %)\n",
      "Reading chunk:  249 of 465 ( 53.55 %)\n",
      "Reading chunk:  250 of 465 ( 53.76 %)\n",
      "Reading chunk:  251 of 465 ( 53.98 %)\n",
      "Reading chunk:  252 of 465 ( 54.19 %)\n",
      "Reading chunk:  253 of 465 ( 54.41 %)\n",
      "Reading chunk:  254 of 465 ( 54.62 %)\n",
      "Reading chunk:  255 of 465 ( 54.84 %)\n",
      "Reading chunk:  256 of 465 ( 55.05 %)\n",
      "Reading chunk:  257 of 465 ( 55.27 %)\n",
      "Reading chunk:  258 of 465 ( 55.48 %)\n",
      "Reading chunk:  259 of 465 ( 55.7 %)\n",
      "Reading chunk:  260 of 465 ( 55.91 %)\n",
      "Reading chunk:  261 of 465 ( 56.13 %)\n"
     ]
    },
    {
     "name": "stderr",
     "output_type": "stream",
     "text": [
      "/var/folders/rp/l0l3mhgx4zs1vfg5y9_c2qw80000gn/T/ipykernel_89667/3628572054.py:9: DtypeWarning: Columns (24,25,30) have mixed types. Specify dtype option on import or set low_memory=False.\n",
      "  for chunk in pd.read_csv(\n"
     ]
    },
    {
     "name": "stdout",
     "output_type": "stream",
     "text": [
      "Reading chunk:  262 of 465 ( 56.34 %)\n",
      "Reading chunk:  263 of 465 ( 56.56 %)\n",
      "Reading chunk:  264 of 465 ( 56.77 %)\n"
     ]
    },
    {
     "name": "stderr",
     "output_type": "stream",
     "text": [
      "/var/folders/rp/l0l3mhgx4zs1vfg5y9_c2qw80000gn/T/ipykernel_89667/3628572054.py:9: DtypeWarning: Columns (24,25,30) have mixed types. Specify dtype option on import or set low_memory=False.\n",
      "  for chunk in pd.read_csv(\n"
     ]
    },
    {
     "name": "stdout",
     "output_type": "stream",
     "text": [
      "Reading chunk:  265 of 465 ( 56.99 %)\n",
      "Reading chunk:  266 of 465 ( 57.2 %)\n"
     ]
    },
    {
     "name": "stderr",
     "output_type": "stream",
     "text": [
      "/var/folders/rp/l0l3mhgx4zs1vfg5y9_c2qw80000gn/T/ipykernel_89667/3628572054.py:9: DtypeWarning: Columns (24,25,30) have mixed types. Specify dtype option on import or set low_memory=False.\n",
      "  for chunk in pd.read_csv(\n"
     ]
    },
    {
     "name": "stdout",
     "output_type": "stream",
     "text": [
      "Reading chunk:  267 of 465 ( 57.42 %)\n",
      "Reading chunk:  268 of 465 ( 57.63 %)\n",
      "Reading chunk:  269 of 465 ( 57.85 %)\n",
      "Reading chunk:  270 of 465 ( 58.06 %)\n",
      "Reading chunk:  271 of 465 ( 58.28 %)\n",
      "Reading chunk:  272 of 465 ( 58.49 %)\n",
      "Reading chunk:  273 of 465 ( 58.71 %)\n",
      "Reading chunk:  274 of 465 ( 58.92 %)\n",
      "Reading chunk:  275 of 465 ( 59.14 %)\n",
      "Reading chunk:  276 of 465 ( 59.35 %)\n",
      "Reading chunk:  277 of 465 ( 59.57 %)\n"
     ]
    },
    {
     "name": "stderr",
     "output_type": "stream",
     "text": [
      "/var/folders/rp/l0l3mhgx4zs1vfg5y9_c2qw80000gn/T/ipykernel_89667/3628572054.py:9: DtypeWarning: Columns (24,25,30) have mixed types. Specify dtype option on import or set low_memory=False.\n",
      "  for chunk in pd.read_csv(\n"
     ]
    },
    {
     "name": "stdout",
     "output_type": "stream",
     "text": [
      "Reading chunk:  278 of 465 ( 59.78 %)\n",
      "Reading chunk:  279 of 465 ( 60.0 %)\n",
      "Reading chunk:  280 of 465 ( 60.22 %)\n",
      "Reading chunk:  281 of 465 ( 60.43 %)\n"
     ]
    },
    {
     "name": "stderr",
     "output_type": "stream",
     "text": [
      "/var/folders/rp/l0l3mhgx4zs1vfg5y9_c2qw80000gn/T/ipykernel_89667/3628572054.py:9: DtypeWarning: Columns (24,25,30) have mixed types. Specify dtype option on import or set low_memory=False.\n",
      "  for chunk in pd.read_csv(\n"
     ]
    },
    {
     "name": "stdout",
     "output_type": "stream",
     "text": [
      "Reading chunk:  282 of 465 ( 60.65 %)\n",
      "Reading chunk:  283 of 465 ( 60.86 %)\n",
      "Reading chunk:  284 of 465 ( 61.08 %)\n",
      "Reading chunk:  285 of 465 ( 61.29 %)\n"
     ]
    },
    {
     "name": "stderr",
     "output_type": "stream",
     "text": [
      "/var/folders/rp/l0l3mhgx4zs1vfg5y9_c2qw80000gn/T/ipykernel_89667/3628572054.py:9: DtypeWarning: Columns (24,25,30) have mixed types. Specify dtype option on import or set low_memory=False.\n",
      "  for chunk in pd.read_csv(\n"
     ]
    },
    {
     "name": "stdout",
     "output_type": "stream",
     "text": [
      "Reading chunk:  286 of 465 ( 61.51 %)\n",
      "Reading chunk:  287 of 465 ( 61.72 %)\n",
      "Reading chunk:  288 of 465 ( 61.94 %)\n",
      "Reading chunk:  289 of 465 ( 62.15 %)\n",
      "Reading chunk:  290 of 465 ( 62.37 %)\n",
      "Reading chunk:  291 of 465 ( 62.58 %)\n",
      "Reading chunk:  292 of 465 ( 62.8 %)\n",
      "Reading chunk:  293 of 465 ( 63.01 %)\n",
      "Reading chunk:  294 of 465 ( 63.23 %)\n",
      "Reading chunk:  295 of 465 ( 63.44 %)\n",
      "Reading chunk:  296 of 465 ( 63.66 %)\n",
      "Reading chunk:  297 of 465 ( 63.87 %)\n",
      "Reading chunk:  298 of 465 ( 64.09 %)\n",
      "Reading chunk:  299 of 465 ( 64.3 %)\n",
      "Reading chunk:  300 of 465 ( 64.52 %)\n",
      "Reading chunk:  301 of 465 ( 64.73 %)\n",
      "Reading chunk:  302 of 465 ( 64.95 %)\n",
      "Reading chunk:  303 of 465 ( 65.16 %)\n",
      "Reading chunk:  304 of 465 ( 65.38 %)\n",
      "Reading chunk:  305 of 465 ( 65.59 %)\n",
      "Reading chunk:  306 of 465 ( 65.81 %)\n",
      "Reading chunk:  307 of 465 ( 66.02 %)\n",
      "Reading chunk:  308 of 465 ( 66.24 %)\n"
     ]
    },
    {
     "name": "stderr",
     "output_type": "stream",
     "text": [
      "/var/folders/rp/l0l3mhgx4zs1vfg5y9_c2qw80000gn/T/ipykernel_89667/3628572054.py:9: DtypeWarning: Columns (24,25,30) have mixed types. Specify dtype option on import or set low_memory=False.\n",
      "  for chunk in pd.read_csv(\n"
     ]
    },
    {
     "name": "stdout",
     "output_type": "stream",
     "text": [
      "Reading chunk:  309 of 465 ( 66.45 %)\n",
      "Reading chunk:  310 of 465 ( 66.67 %)\n"
     ]
    },
    {
     "name": "stderr",
     "output_type": "stream",
     "text": [
      "/var/folders/rp/l0l3mhgx4zs1vfg5y9_c2qw80000gn/T/ipykernel_89667/3628572054.py:9: DtypeWarning: Columns (25) have mixed types. Specify dtype option on import or set low_memory=False.\n",
      "  for chunk in pd.read_csv(\n"
     ]
    },
    {
     "name": "stdout",
     "output_type": "stream",
     "text": [
      "Reading chunk:  311 of 465 ( 66.88 %)\n"
     ]
    },
    {
     "name": "stderr",
     "output_type": "stream",
     "text": [
      "/var/folders/rp/l0l3mhgx4zs1vfg5y9_c2qw80000gn/T/ipykernel_89667/3628572054.py:9: DtypeWarning: Columns (25) have mixed types. Specify dtype option on import or set low_memory=False.\n",
      "  for chunk in pd.read_csv(\n"
     ]
    },
    {
     "name": "stdout",
     "output_type": "stream",
     "text": [
      "Reading chunk:  312 of 465 ( 67.1 %)\n"
     ]
    },
    {
     "name": "stderr",
     "output_type": "stream",
     "text": [
      "/var/folders/rp/l0l3mhgx4zs1vfg5y9_c2qw80000gn/T/ipykernel_89667/3628572054.py:9: DtypeWarning: Columns (25) have mixed types. Specify dtype option on import or set low_memory=False.\n",
      "  for chunk in pd.read_csv(\n"
     ]
    },
    {
     "name": "stdout",
     "output_type": "stream",
     "text": [
      "Reading chunk:  313 of 465 ( 67.31 %)\n"
     ]
    },
    {
     "name": "stderr",
     "output_type": "stream",
     "text": [
      "/var/folders/rp/l0l3mhgx4zs1vfg5y9_c2qw80000gn/T/ipykernel_89667/3628572054.py:9: DtypeWarning: Columns (25) have mixed types. Specify dtype option on import or set low_memory=False.\n",
      "  for chunk in pd.read_csv(\n"
     ]
    },
    {
     "name": "stdout",
     "output_type": "stream",
     "text": [
      "Reading chunk:  314 of 465 ( 67.53 %)\n"
     ]
    },
    {
     "name": "stderr",
     "output_type": "stream",
     "text": [
      "/var/folders/rp/l0l3mhgx4zs1vfg5y9_c2qw80000gn/T/ipykernel_89667/3628572054.py:9: DtypeWarning: Columns (25) have mixed types. Specify dtype option on import or set low_memory=False.\n",
      "  for chunk in pd.read_csv(\n"
     ]
    },
    {
     "name": "stdout",
     "output_type": "stream",
     "text": [
      "Reading chunk:  315 of 465 ( 67.74 %)\n",
      "Reading chunk:  316 of 465 ( 67.96 %)\n"
     ]
    },
    {
     "name": "stderr",
     "output_type": "stream",
     "text": [
      "/var/folders/rp/l0l3mhgx4zs1vfg5y9_c2qw80000gn/T/ipykernel_89667/3628572054.py:9: DtypeWarning: Columns (25) have mixed types. Specify dtype option on import or set low_memory=False.\n",
      "  for chunk in pd.read_csv(\n"
     ]
    },
    {
     "name": "stdout",
     "output_type": "stream",
     "text": [
      "Reading chunk:  317 of 465 ( 68.17 %)\n",
      "Reading chunk:  318 of 465 ( 68.39 %)\n"
     ]
    },
    {
     "name": "stderr",
     "output_type": "stream",
     "text": [
      "/var/folders/rp/l0l3mhgx4zs1vfg5y9_c2qw80000gn/T/ipykernel_89667/3628572054.py:9: DtypeWarning: Columns (25) have mixed types. Specify dtype option on import or set low_memory=False.\n",
      "  for chunk in pd.read_csv(\n"
     ]
    },
    {
     "name": "stdout",
     "output_type": "stream",
     "text": [
      "Reading chunk:  319 of 465 ( 68.6 %)\n",
      "Reading chunk:  320 of 465 ( 68.82 %)\n"
     ]
    },
    {
     "name": "stderr",
     "output_type": "stream",
     "text": [
      "/var/folders/rp/l0l3mhgx4zs1vfg5y9_c2qw80000gn/T/ipykernel_89667/3628572054.py:9: DtypeWarning: Columns (25) have mixed types. Specify dtype option on import or set low_memory=False.\n",
      "  for chunk in pd.read_csv(\n"
     ]
    },
    {
     "name": "stdout",
     "output_type": "stream",
     "text": [
      "Reading chunk:  321 of 465 ( 69.03 %)\n",
      "Reading chunk:  322 of 465 ( 69.25 %)\n"
     ]
    },
    {
     "name": "stderr",
     "output_type": "stream",
     "text": [
      "/var/folders/rp/l0l3mhgx4zs1vfg5y9_c2qw80000gn/T/ipykernel_89667/3628572054.py:9: DtypeWarning: Columns (25) have mixed types. Specify dtype option on import or set low_memory=False.\n",
      "  for chunk in pd.read_csv(\n"
     ]
    },
    {
     "name": "stdout",
     "output_type": "stream",
     "text": [
      "Reading chunk:  323 of 465 ( 69.46 %)\n"
     ]
    },
    {
     "name": "stderr",
     "output_type": "stream",
     "text": [
      "/var/folders/rp/l0l3mhgx4zs1vfg5y9_c2qw80000gn/T/ipykernel_89667/3628572054.py:9: DtypeWarning: Columns (25) have mixed types. Specify dtype option on import or set low_memory=False.\n",
      "  for chunk in pd.read_csv(\n"
     ]
    },
    {
     "name": "stdout",
     "output_type": "stream",
     "text": [
      "Reading chunk:  324 of 465 ( 69.68 %)\n",
      "Reading chunk:  325 of 465 ( 69.89 %)\n",
      "Reading chunk:  326 of 465 ( 70.11 %)\n"
     ]
    },
    {
     "name": "stderr",
     "output_type": "stream",
     "text": [
      "/var/folders/rp/l0l3mhgx4zs1vfg5y9_c2qw80000gn/T/ipykernel_89667/3628572054.py:9: DtypeWarning: Columns (25) have mixed types. Specify dtype option on import or set low_memory=False.\n",
      "  for chunk in pd.read_csv(\n"
     ]
    },
    {
     "name": "stdout",
     "output_type": "stream",
     "text": [
      "Reading chunk:  327 of 465 ( 70.32 %)\n"
     ]
    },
    {
     "name": "stderr",
     "output_type": "stream",
     "text": [
      "/var/folders/rp/l0l3mhgx4zs1vfg5y9_c2qw80000gn/T/ipykernel_89667/3628572054.py:9: DtypeWarning: Columns (24,25,30) have mixed types. Specify dtype option on import or set low_memory=False.\n",
      "  for chunk in pd.read_csv(\n"
     ]
    },
    {
     "name": "stdout",
     "output_type": "stream",
     "text": [
      "Reading chunk:  328 of 465 ( 70.54 %)\n",
      "Reading chunk:  329 of 465 ( 70.75 %)\n",
      "Reading chunk:  330 of 465 ( 70.97 %)\n",
      "Reading chunk:  331 of 465 ( 71.18 %)\n",
      "Reading chunk:  332 of 465 ( 71.4 %)\n",
      "Reading chunk:  333 of 465 ( 71.61 %)\n",
      "Reading chunk:  334 of 465 ( 71.83 %)\n",
      "Reading chunk:  335 of 465 ( 72.04 %)\n",
      "Reading chunk:  336 of 465 ( 72.26 %)\n"
     ]
    },
    {
     "name": "stderr",
     "output_type": "stream",
     "text": [
      "/var/folders/rp/l0l3mhgx4zs1vfg5y9_c2qw80000gn/T/ipykernel_89667/3628572054.py:9: DtypeWarning: Columns (24,25,30) have mixed types. Specify dtype option on import or set low_memory=False.\n",
      "  for chunk in pd.read_csv(\n"
     ]
    },
    {
     "name": "stdout",
     "output_type": "stream",
     "text": [
      "Reading chunk:  337 of 465 ( 72.47 %)\n",
      "Reading chunk:  338 of 465 ( 72.69 %)\n",
      "Reading chunk:  339 of 465 ( 72.9 %)\n",
      "Reading chunk:  340 of 465 ( 73.12 %)\n",
      "Reading chunk:  341 of 465 ( 73.33 %)\n",
      "Reading chunk:  342 of 465 ( 73.55 %)\n",
      "Reading chunk:  343 of 465 ( 73.76 %)\n"
     ]
    },
    {
     "name": "stderr",
     "output_type": "stream",
     "text": [
      "/var/folders/rp/l0l3mhgx4zs1vfg5y9_c2qw80000gn/T/ipykernel_89667/3628572054.py:9: DtypeWarning: Columns (24,25,30) have mixed types. Specify dtype option on import or set low_memory=False.\n",
      "  for chunk in pd.read_csv(\n"
     ]
    },
    {
     "name": "stdout",
     "output_type": "stream",
     "text": [
      "Reading chunk:  344 of 465 ( 73.98 %)\n",
      "Reading chunk:  345 of 465 ( 74.19 %)\n",
      "Reading chunk:  346 of 465 ( 74.41 %)\n",
      "Reading chunk:  347 of 465 ( 74.62 %)\n",
      "Reading chunk:  348 of 465 ( 74.84 %)\n",
      "Reading chunk:  349 of 465 ( 75.05 %)\n",
      "Reading chunk:  350 of 465 ( 75.27 %)\n",
      "Reading chunk:  351 of 465 ( 75.48 %)\n",
      "Reading chunk:  352 of 465 ( 75.7 %)\n",
      "Reading chunk:  353 of 465 ( 75.91 %)\n",
      "Reading chunk:  354 of 465 ( 76.13 %)\n",
      "Reading chunk:  355 of 465 ( 76.34 %)\n",
      "Reading chunk:  356 of 465 ( 76.56 %)\n",
      "Reading chunk:  357 of 465 ( 76.77 %)\n",
      "Reading chunk:  358 of 465 ( 76.99 %)\n",
      "Reading chunk:  359 of 465 ( 77.2 %)\n",
      "Reading chunk:  360 of 465 ( 77.42 %)\n",
      "Reading chunk:  361 of 465 ( 77.63 %)\n",
      "Reading chunk:  362 of 465 ( 77.85 %)\n",
      "Reading chunk:  363 of 465 ( 78.06 %)\n",
      "Reading chunk:  364 of 465 ( 78.28 %)\n"
     ]
    },
    {
     "name": "stderr",
     "output_type": "stream",
     "text": [
      "/var/folders/rp/l0l3mhgx4zs1vfg5y9_c2qw80000gn/T/ipykernel_89667/3628572054.py:9: DtypeWarning: Columns (24,25,30) have mixed types. Specify dtype option on import or set low_memory=False.\n",
      "  for chunk in pd.read_csv(\n"
     ]
    },
    {
     "name": "stdout",
     "output_type": "stream",
     "text": [
      "Reading chunk:  365 of 465 ( 78.49 %)\n"
     ]
    },
    {
     "name": "stderr",
     "output_type": "stream",
     "text": [
      "/var/folders/rp/l0l3mhgx4zs1vfg5y9_c2qw80000gn/T/ipykernel_89667/3628572054.py:9: DtypeWarning: Columns (24,25,30) have mixed types. Specify dtype option on import or set low_memory=False.\n",
      "  for chunk in pd.read_csv(\n"
     ]
    },
    {
     "name": "stdout",
     "output_type": "stream",
     "text": [
      "Reading chunk:  366 of 465 ( 78.71 %)\n"
     ]
    },
    {
     "name": "stderr",
     "output_type": "stream",
     "text": [
      "/var/folders/rp/l0l3mhgx4zs1vfg5y9_c2qw80000gn/T/ipykernel_89667/3628572054.py:9: DtypeWarning: Columns (24,25,30) have mixed types. Specify dtype option on import or set low_memory=False.\n",
      "  for chunk in pd.read_csv(\n"
     ]
    },
    {
     "name": "stdout",
     "output_type": "stream",
     "text": [
      "Reading chunk:  367 of 465 ( 78.92 %)\n",
      "Reading chunk:  368 of 465 ( 79.14 %)\n",
      "Reading chunk:  369 of 465 ( 79.35 %)\n",
      "Reading chunk:  370 of 465 ( 79.57 %)\n",
      "Reading chunk:  371 of 465 ( 79.78 %)\n",
      "Reading chunk:  372 of 465 ( 80.0 %)\n",
      "Reading chunk:  373 of 465 ( 80.22 %)\n",
      "Reading chunk:  374 of 465 ( 80.43 %)\n"
     ]
    },
    {
     "name": "stderr",
     "output_type": "stream",
     "text": [
      "/var/folders/rp/l0l3mhgx4zs1vfg5y9_c2qw80000gn/T/ipykernel_89667/3628572054.py:9: DtypeWarning: Columns (24,25,30) have mixed types. Specify dtype option on import or set low_memory=False.\n",
      "  for chunk in pd.read_csv(\n"
     ]
    },
    {
     "name": "stdout",
     "output_type": "stream",
     "text": [
      "Reading chunk:  375 of 465 ( 80.65 %)\n"
     ]
    },
    {
     "name": "stderr",
     "output_type": "stream",
     "text": [
      "/var/folders/rp/l0l3mhgx4zs1vfg5y9_c2qw80000gn/T/ipykernel_89667/3628572054.py:9: DtypeWarning: Columns (24,25,30) have mixed types. Specify dtype option on import or set low_memory=False.\n",
      "  for chunk in pd.read_csv(\n"
     ]
    },
    {
     "name": "stdout",
     "output_type": "stream",
     "text": [
      "Reading chunk:  376 of 465 ( 80.86 %)\n",
      "Reading chunk:  377 of 465 ( 81.08 %)\n",
      "Reading chunk:  378 of 465 ( 81.29 %)\n",
      "Reading chunk:  379 of 465 ( 81.51 %)\n",
      "Reading chunk:  380 of 465 ( 81.72 %)\n",
      "Reading chunk:  381 of 465 ( 81.94 %)\n",
      "Reading chunk:  382 of 465 ( 82.15 %)\n",
      "Reading chunk:  383 of 465 ( 82.37 %)\n",
      "Reading chunk:  384 of 465 ( 82.58 %)\n",
      "Reading chunk:  385 of 465 ( 82.8 %)\n",
      "Reading chunk:  386 of 465 ( 83.01 %)\n",
      "Reading chunk:  387 of 465 ( 83.23 %)\n",
      "Reading chunk:  388 of 465 ( 83.44 %)\n",
      "Reading chunk:  389 of 465 ( 83.66 %)\n",
      "Reading chunk:  390 of 465 ( 83.87 %)\n"
     ]
    },
    {
     "name": "stderr",
     "output_type": "stream",
     "text": [
      "/var/folders/rp/l0l3mhgx4zs1vfg5y9_c2qw80000gn/T/ipykernel_89667/3628572054.py:9: DtypeWarning: Columns (24,25,30) have mixed types. Specify dtype option on import or set low_memory=False.\n",
      "  for chunk in pd.read_csv(\n"
     ]
    },
    {
     "name": "stdout",
     "output_type": "stream",
     "text": [
      "Reading chunk:  391 of 465 ( 84.09 %)\n",
      "Reading chunk:  392 of 465 ( 84.3 %)\n",
      "Reading chunk:  393 of 465 ( 84.52 %)\n",
      "Reading chunk:  394 of 465 ( 84.73 %)\n",
      "Reading chunk:  395 of 465 ( 84.95 %)\n",
      "Reading chunk:  396 of 465 ( 85.16 %)\n",
      "Reading chunk:  397 of 465 ( 85.38 %)\n",
      "Reading chunk:  398 of 465 ( 85.59 %)\n",
      "Reading chunk:  399 of 465 ( 85.81 %)\n",
      "Reading chunk:  400 of 465 ( 86.02 %)\n",
      "Reading chunk:  401 of 465 ( 86.24 %)\n",
      "Reading chunk:  402 of 465 ( 86.45 %)\n",
      "Reading chunk:  403 of 465 ( 86.67 %)\n",
      "Reading chunk:  404 of 465 ( 86.88 %)\n",
      "Reading chunk:  405 of 465 ( 87.1 %)\n",
      "Reading chunk:  406 of 465 ( 87.31 %)\n",
      "Reading chunk:  407 of 465 ( 87.53 %)\n",
      "Reading chunk:  408 of 465 ( 87.74 %)\n",
      "Reading chunk:  409 of 465 ( 87.96 %)\n",
      "Reading chunk:  410 of 465 ( 88.17 %)\n",
      "Reading chunk:  411 of 465 ( 88.39 %)\n",
      "Reading chunk:  412 of 465 ( 88.6 %)\n",
      "Reading chunk:  413 of 465 ( 88.82 %)\n",
      "Reading chunk:  414 of 465 ( 89.03 %)\n",
      "Reading chunk:  415 of 465 ( 89.25 %)\n",
      "Reading chunk:  416 of 465 ( 89.46 %)\n",
      "Reading chunk:  417 of 465 ( 89.68 %)\n",
      "Reading chunk:  418 of 465 ( 89.89 %)\n",
      "Reading chunk:  419 of 465 ( 90.11 %)\n",
      "Reading chunk:  420 of 465 ( 90.32 %)\n",
      "Reading chunk:  421 of 465 ( 90.54 %)\n"
     ]
    },
    {
     "name": "stderr",
     "output_type": "stream",
     "text": [
      "/var/folders/rp/l0l3mhgx4zs1vfg5y9_c2qw80000gn/T/ipykernel_89667/3628572054.py:9: DtypeWarning: Columns (24,25,30) have mixed types. Specify dtype option on import or set low_memory=False.\n",
      "  for chunk in pd.read_csv(\n"
     ]
    },
    {
     "name": "stdout",
     "output_type": "stream",
     "text": [
      "Reading chunk:  422 of 465 ( 90.75 %)\n",
      "Reading chunk:  423 of 465 ( 90.97 %)\n",
      "Reading chunk:  424 of 465 ( 91.18 %)\n",
      "Reading chunk:  425 of 465 ( 91.4 %)\n",
      "Reading chunk:  426 of 465 ( 91.61 %)\n"
     ]
    },
    {
     "name": "stderr",
     "output_type": "stream",
     "text": [
      "/var/folders/rp/l0l3mhgx4zs1vfg5y9_c2qw80000gn/T/ipykernel_89667/3628572054.py:9: DtypeWarning: Columns (24,25,30) have mixed types. Specify dtype option on import or set low_memory=False.\n",
      "  for chunk in pd.read_csv(\n"
     ]
    },
    {
     "name": "stdout",
     "output_type": "stream",
     "text": [
      "Reading chunk:  427 of 465 ( 91.83 %)\n",
      "Reading chunk:  428 of 465 ( 92.04 %)\n",
      "Reading chunk:  429 of 465 ( 92.26 %)\n",
      "Reading chunk:  430 of 465 ( 92.47 %)\n"
     ]
    },
    {
     "name": "stderr",
     "output_type": "stream",
     "text": [
      "/var/folders/rp/l0l3mhgx4zs1vfg5y9_c2qw80000gn/T/ipykernel_89667/3628572054.py:9: DtypeWarning: Columns (25) have mixed types. Specify dtype option on import or set low_memory=False.\n",
      "  for chunk in pd.read_csv(\n"
     ]
    },
    {
     "name": "stdout",
     "output_type": "stream",
     "text": [
      "Reading chunk:  431 of 465 ( 92.69 %)\n",
      "Reading chunk:  432 of 465 ( 92.9 %)\n",
      "Reading chunk:  433 of 465 ( 93.12 %)\n",
      "Reading chunk:  434 of 465 ( 93.33 %)\n",
      "Reading chunk:  435 of 465 ( 93.55 %)\n",
      "Reading chunk:  436 of 465 ( 93.76 %)\n",
      "Reading chunk:  437 of 465 ( 93.98 %)\n"
     ]
    },
    {
     "name": "stderr",
     "output_type": "stream",
     "text": [
      "/var/folders/rp/l0l3mhgx4zs1vfg5y9_c2qw80000gn/T/ipykernel_89667/3628572054.py:9: DtypeWarning: Columns (24,25,30) have mixed types. Specify dtype option on import or set low_memory=False.\n",
      "  for chunk in pd.read_csv(\n"
     ]
    },
    {
     "name": "stdout",
     "output_type": "stream",
     "text": [
      "Reading chunk:  438 of 465 ( 94.19 %)\n"
     ]
    },
    {
     "name": "stderr",
     "output_type": "stream",
     "text": [
      "/var/folders/rp/l0l3mhgx4zs1vfg5y9_c2qw80000gn/T/ipykernel_89667/3628572054.py:9: DtypeWarning: Columns (24,25,30) have mixed types. Specify dtype option on import or set low_memory=False.\n",
      "  for chunk in pd.read_csv(\n"
     ]
    },
    {
     "name": "stdout",
     "output_type": "stream",
     "text": [
      "Reading chunk:  439 of 465 ( 94.41 %)\n",
      "Reading chunk:  440 of 465 ( 94.62 %)\n",
      "Reading chunk:  441 of 465 ( 94.84 %)\n",
      "Reading chunk:  442 of 465 ( 95.05 %)\n",
      "Reading chunk:  443 of 465 ( 95.27 %)\n",
      "Reading chunk:  444 of 465 ( 95.48 %)\n",
      "Reading chunk:  445 of 465 ( 95.7 %)\n",
      "Reading chunk:  446 of 465 ( 95.91 %)\n",
      "Reading chunk:  447 of 465 ( 96.13 %)\n",
      "Reading chunk:  448 of 465 ( 96.34 %)\n",
      "Reading chunk:  449 of 465 ( 96.56 %)\n"
     ]
    },
    {
     "name": "stderr",
     "output_type": "stream",
     "text": [
      "/var/folders/rp/l0l3mhgx4zs1vfg5y9_c2qw80000gn/T/ipykernel_89667/3628572054.py:9: DtypeWarning: Columns (24,25,30) have mixed types. Specify dtype option on import or set low_memory=False.\n",
      "  for chunk in pd.read_csv(\n"
     ]
    },
    {
     "name": "stdout",
     "output_type": "stream",
     "text": [
      "Reading chunk:  450 of 465 ( 96.77 %)\n",
      "Reading chunk:  451 of 465 ( 96.99 %)\n",
      "Reading chunk:  452 of 465 ( 97.2 %)\n",
      "Reading chunk:  453 of 465 ( 97.42 %)\n",
      "Reading chunk:  454 of 465 ( 97.63 %)\n"
     ]
    },
    {
     "name": "stderr",
     "output_type": "stream",
     "text": [
      "/var/folders/rp/l0l3mhgx4zs1vfg5y9_c2qw80000gn/T/ipykernel_89667/3628572054.py:9: DtypeWarning: Columns (25) have mixed types. Specify dtype option on import or set low_memory=False.\n",
      "  for chunk in pd.read_csv(\n"
     ]
    },
    {
     "name": "stdout",
     "output_type": "stream",
     "text": [
      "Reading chunk:  455 of 465 ( 97.85 %)\n",
      "Reading chunk:  456 of 465 ( 98.06 %)\n",
      "Reading chunk:  457 of 465 ( 98.28 %)\n",
      "Reading chunk:  458 of 465 ( 98.49 %)\n"
     ]
    },
    {
     "name": "stderr",
     "output_type": "stream",
     "text": [
      "/var/folders/rp/l0l3mhgx4zs1vfg5y9_c2qw80000gn/T/ipykernel_89667/3628572054.py:9: DtypeWarning: Columns (24,25,30) have mixed types. Specify dtype option on import or set low_memory=False.\n",
      "  for chunk in pd.read_csv(\n"
     ]
    },
    {
     "name": "stdout",
     "output_type": "stream",
     "text": [
      "Reading chunk:  459 of 465 ( 98.71 %)\n",
      "Reading chunk:  460 of 465 ( 98.92 %)\n"
     ]
    },
    {
     "name": "stderr",
     "output_type": "stream",
     "text": [
      "/var/folders/rp/l0l3mhgx4zs1vfg5y9_c2qw80000gn/T/ipykernel_89667/3628572054.py:9: DtypeWarning: Columns (24) have mixed types. Specify dtype option on import or set low_memory=False.\n",
      "  for chunk in pd.read_csv(\n"
     ]
    },
    {
     "name": "stdout",
     "output_type": "stream",
     "text": [
      "Reading chunk:  461 of 465 ( 99.14 %)\n"
     ]
    },
    {
     "name": "stderr",
     "output_type": "stream",
     "text": [
      "/var/folders/rp/l0l3mhgx4zs1vfg5y9_c2qw80000gn/T/ipykernel_89667/3628572054.py:9: DtypeWarning: Columns (24) have mixed types. Specify dtype option on import or set low_memory=False.\n",
      "  for chunk in pd.read_csv(\n"
     ]
    },
    {
     "name": "stdout",
     "output_type": "stream",
     "text": [
      "Reading chunk:  462 of 465 ( 99.35 %)\n"
     ]
    },
    {
     "name": "stderr",
     "output_type": "stream",
     "text": [
      "/var/folders/rp/l0l3mhgx4zs1vfg5y9_c2qw80000gn/T/ipykernel_89667/3628572054.py:9: DtypeWarning: Columns (24) have mixed types. Specify dtype option on import or set low_memory=False.\n",
      "  for chunk in pd.read_csv(\n"
     ]
    },
    {
     "name": "stdout",
     "output_type": "stream",
     "text": [
      "Reading chunk:  463 of 465 ( 99.57 %)\n"
     ]
    },
    {
     "name": "stderr",
     "output_type": "stream",
     "text": [
      "/var/folders/rp/l0l3mhgx4zs1vfg5y9_c2qw80000gn/T/ipykernel_89667/3628572054.py:9: DtypeWarning: Columns (24,25,30) have mixed types. Specify dtype option on import or set low_memory=False.\n",
      "  for chunk in pd.read_csv(\n"
     ]
    },
    {
     "name": "stdout",
     "output_type": "stream",
     "text": [
      "Reading chunk:  464 of 465 ( 99.78 %)\n",
      "Reading chunk:  465 of 465 ( 100.0 %)\n",
      "Ingest complete\n"
     ]
    }
   ],
   "source": [
    "# Ingest the WAPO file as chunks - takes roughly 15 minutes\n",
    "\n",
    "chunks = 500000  # Leave this, there will be 465 chunks\n",
    "\n",
    "chunk_counter = 0\n",
    "\n",
    "wapo_df = pd.DataFrame()\n",
    "\n",
    "for chunk in pd.read_csv(\n",
    "    wapo,\n",
    "    compression=\"zip\",\n",
    "    chunksize=chunks,\n",
    "    usecols=[\n",
    "        \"BUYER_COUNTY\",\n",
    "        \"BUYER_STATE\",\n",
    "        \"DRUG_NAME\",\n",
    "        \"TRANSACTION_DATE\",\n",
    "        \"QUANTITY\",\n",
    "        \"UNIT\",\n",
    "    ],\n",
    "):\n",
    "    chunk_counter += 1\n",
    "    percent_chunk = round(chunk_counter / 465 * 100, 2)\n",
    "    print(\"Reading chunk: \", chunk_counter, \"of 465 (\", percent_chunk, \"%)\")\n",
    "\n",
    "    # filter the chunk to only include the stations in the list\n",
    "    chunk = chunk[chunk[\"BUYER_STATE\"].isin(states)].copy()\n",
    "\n",
    "    chunk[\"TRANSACTION_DATE\"] = pd.to_datetime(\n",
    "        chunk[\"TRANSACTION_DATE\"], format=\"%m%d%Y\"\n",
    "    )\n",
    "\n",
    "    chunk[\"YEAR\"] = chunk[\"TRANSACTION_DATE\"].dt.year\n",
    "    chunk[\"MONTH\"] = chunk[\"TRANSACTION_DATE\"].dt.month\n",
    "\n",
    "    # make the quantity numeric\n",
    "    chunk[\"QUANTITY\"] = pd.to_numeric(chunk[\"QUANTITY\"], errors=\"coerce\")\n",
    "\n",
    "    chunk = chunk.groupby([\"BUYER_COUNTY\", \"BUYER_STATE\", \"YEAR\", \"MONTH\"]).agg(\n",
    "        {\"QUANTITY\": \"sum\"}\n",
    "    )\n",
    "\n",
    "    # concat with the base df\n",
    "    wapo_df = pd.concat([wapo_df, chunk])\n",
    "\n",
    "print(\"Ingest complete\")\n"
   ]
  },
  {
   "cell_type": "code",
   "execution_count": 5,
   "metadata": {},
   "outputs": [
    {
     "name": "stdout",
     "output_type": "stream",
     "text": [
      "Adding county name...\n",
      "Grouping WAPO data...\n",
      "Operation complete\n"
     ]
    }
   ],
   "source": [
    "# transform the wapo df\n",
    "print(\"Adding county name...\")\n",
    "\n",
    "# Add an index to the wapo_df\n",
    "wapo_df = wapo_df.reset_index()\n",
    "\n",
    "# Do some transformations on the WAPO dataset\n",
    "wapo_df[\"COUNTY_NAME\"] = wapo_df[\"BUYER_COUNTY\"] + \" COUNTY, \" + wapo_df[\"BUYER_STATE\"]\n",
    "\n",
    "print(\"Grouping WAPO data...\")\n",
    "\n",
    "wapo_df = (\n",
    "    wapo_df.groupby([\"COUNTY_NAME\", \"BUYER_STATE\", \"YEAR\", \"MONTH\"])\n",
    "    .agg({\"QUANTITY\": \"sum\"})\n",
    "    .reset_index()\n",
    ")\n",
    "\n",
    "# # rename buyer state to state\n",
    "wapo_df = wapo_df.rename(columns={\"BUYER_STATE\": \"STATE\"})\n",
    "\n",
    "# # Change the year column to a string\n",
    "wapo_df[\"YEAR\"] = wapo_df[\"YEAR\"].astype(str)\n",
    "\n",
    "# # Change the month column to a string\n",
    "wapo_df[\"MONTH\"] = wapo_df[\"MONTH\"].astype(str)\n",
    "\n",
    "print(\"Operation complete\")\n"
   ]
  },
  {
   "cell_type": "markdown",
   "metadata": {},
   "source": [
    "***Print a sample to make sure you did it right***"
   ]
  },
  {
   "cell_type": "code",
   "execution_count": 6,
   "metadata": {},
   "outputs": [],
   "source": [
    "# wapo_df.sample(10)\n"
   ]
  },
  {
   "cell_type": "code",
   "execution_count": 7,
   "metadata": {},
   "outputs": [],
   "source": [
    "# wapo_df[\"YEAR\"].unique()\n",
    "# wapo_df[\"STATE\"].unique()\n",
    "\n",
    "assert len(wapo_df[\"STATE\"].unique()) == len(states)\n"
   ]
  },
  {
   "cell_type": "markdown",
   "metadata": {},
   "source": [
    "***Assert tests to verify that we have the right states, and some checks on the data***"
   ]
  },
  {
   "cell_type": "code",
   "execution_count": 8,
   "metadata": {},
   "outputs": [],
   "source": [
    "# Assert that no counties are missing\n",
    "assert wapo_df[\"COUNTY_NAME\"].isnull().sum() == 0\n",
    "# Assert that states are in the list\n",
    "assert set(wapo_df[\"STATE\"].unique()) == set(states)\n"
   ]
  },
  {
   "cell_type": "markdown",
   "metadata": {},
   "source": [
    "***Save the output file to a csv in the intermediate files directory***"
   ]
  },
  {
   "cell_type": "code",
   "execution_count": 9,
   "metadata": {},
   "outputs": [],
   "source": [
    "# save this file as a csv called wapo_clean.csv in the current directory\n",
    "wapo_df.to_csv(\"../20_intermediate_files/wapo_clean.csv\", index=False)\n"
   ]
  },
  {
   "cell_type": "markdown",
   "metadata": {},
   "source": [
    "### Vitality Data\n",
    "\n",
    "This section takes the txt files passed and will return a dataframe with the respective values for each year"
   ]
  },
  {
   "cell_type": "markdown",
   "metadata": {},
   "source": [
    "***Ingest actions***"
   ]
  },
  {
   "cell_type": "code",
   "execution_count": 10,
   "metadata": {},
   "outputs": [],
   "source": [
    "# Set a directory path to find the txt files\n",
    "nick_path = \"../00_source_data/US_VitalStatistics/\"\n"
   ]
  },
  {
   "cell_type": "code",
   "execution_count": 11,
   "metadata": {},
   "outputs": [
    {
     "name": "stdout",
     "output_type": "stream",
     "text": [
      "Ingesting text files...\n",
      "Transforming vitality data...\n",
      "Operation complete\n"
     ]
    }
   ],
   "source": [
    "# generate a df from the txt files in a folder path\n",
    "\n",
    "# initialize the empty df\n",
    "nick_df = pd.DataFrame()\n",
    "\n",
    "# set a loop to iterate through the files in the folder\n",
    "print(\"Ingesting text files...\")\n",
    "\n",
    "# set a loop to iterate through the files in the folder\n",
    "for file in os.listdir(nick_path):\n",
    "    if file.endswith(\".txt\"):\n",
    "        txt_table = pd.read_table(\n",
    "            os.path.join(nick_path, file), sep=\"\\t\", skipfooter=15, engine=\"python\"\n",
    "        )\n",
    "        # remove the bottom rows that are not needed\n",
    "        # txt_table = txt_table.iloc[0:-16, :]\n",
    "        nick_df = pd.concat([nick_df, txt_table], axis=0)\n",
    "\n",
    "# subset to the columns we want\n",
    "vital_df = nick_df[\n",
    "    [\n",
    "        \"County\",\n",
    "        \"County Code\",\n",
    "        \"Year\",\n",
    "        \"Drug/Alcohol Induced Cause\",\n",
    "        \"Drug/Alcohol Induced Cause Code\",\n",
    "        \"Deaths\",\n",
    "    ]\n",
    "].copy()\n",
    "\n",
    "print(\"Transforming vitality data...\")\n",
    "\n",
    "# change the year column to a string with a year only\n",
    "vital_df[\"Year\"] = vital_df[\"Year\"].astype(str).str[0:4]\n",
    "\n",
    "# change the County Code column to 6-digit string FIPS code\n",
    "vital_df[\"County Code\"] = vital_df[\"County Code\"].astype(str).str.zfill(6)\n",
    "\n",
    "# add a state column with the last two characters from county\n",
    "vital_df[\"State\"] = vital_df[\"County\"].str[-2:]\n",
    "\n",
    "# convert NaN deaths to 0\n",
    "vital_df[\"Deaths\"] = vital_df[\"Deaths\"].fillna(0)\n",
    "\n",
    "# change the county name to all caps\n",
    "vital_df[\"County\"] = vital_df[\"County\"].str.upper()\n",
    "\n",
    "# change all the column names to all caps\n",
    "vital_df.columns = vital_df.columns.str.upper()\n",
    "\n",
    "# rename county code to FIPS code\n",
    "vital_df = vital_df.rename(columns={\"COUNTY CODE\": \"FIPS\"})\n",
    "vital_df = vital_df.rename(columns={\"COUNTY\": \"COUNTY_NAME\"})\n",
    "\n",
    "# filter the vital df to the states of interest\n",
    "vital_df = vital_df[vital_df[\"STATE\"].isin(states)].copy()\n",
    "\n",
    "print(\"Operation complete\")\n"
   ]
  },
  {
   "cell_type": "markdown",
   "metadata": {},
   "source": [
    "***Subset to rows with drug deaths, group and add***"
   ]
  },
  {
   "cell_type": "code",
   "execution_count": 12,
   "metadata": {},
   "outputs": [],
   "source": [
    "vital_df[\"DRUG/ALCOHOL INDUCED CAUSE\"].value_counts()\n",
    "\n",
    "# convert the DRUG Cause column to all lower case\n",
    "vital_df[\"DRUG/ALCOHOL INDUCED CAUSE\"] = vital_df[\n",
    "    \"DRUG/ALCOHOL INDUCED CAUSE\"\n",
    "].str.lower()\n",
    "\n",
    "# Make a new column called drug with indicators for cause\n",
    "vital_df[\"DRUG\"] = np.where(\n",
    "    vital_df[\"DRUG/ALCOHOL INDUCED CAUSE\"].str.contains(\"drug\"), 1, 0\n",
    ")\n",
    "\n",
    "# subset to remove all other non-drug deaths\n",
    "vital_df = vital_df[\n",
    "    vital_df[\"DRUG/ALCOHOL INDUCED CAUSE\"]\n",
    "    != \"all other non-drug and non-alcohol causes\"\n",
    "].copy()\n",
    "\n",
    "# subset to remove all other non-drug deaths\n",
    "vital_df = vital_df[vital_df[\"DRUG\"] == 1].copy()\n"
   ]
  },
  {
   "cell_type": "code",
   "execution_count": 13,
   "metadata": {},
   "outputs": [
    {
     "data": {
      "text/plain": [
       "drug poisonings (overdose) unintentional (x40-x44)    3017\n",
       "drug poisonings (overdose) suicide (x60-x64)           783\n",
       "all other drug-induced causes                          326\n",
       "drug poisonings (overdose) undetermined (y10-y14)      195\n",
       "Name: DRUG/ALCOHOL INDUCED CAUSE, dtype: int64"
      ]
     },
     "execution_count": 13,
     "metadata": {},
     "output_type": "execute_result"
    }
   ],
   "source": [
    "# vital_df[\"DRUG/ALCOHOL INDUCED CAUSE\"].unique()\n",
    "vital_df[\"DRUG/ALCOHOL INDUCED CAUSE\"].value_counts()\n"
   ]
  },
  {
   "cell_type": "code",
   "execution_count": 14,
   "metadata": {},
   "outputs": [],
   "source": [
    "# convert the death column to an integer\n",
    "vital_df[\"DEATHS\"] = vital_df[\"DEATHS\"].astype(int)\n"
   ]
  },
  {
   "cell_type": "code",
   "execution_count": 15,
   "metadata": {},
   "outputs": [
    {
     "name": "stderr",
     "output_type": "stream",
     "text": [
      "/var/folders/rp/l0l3mhgx4zs1vfg5y9_c2qw80000gn/T/ipykernel_89667/2321280978.py:4: FutureWarning: The default value of numeric_only in DataFrameGroupBy.sum is deprecated. In a future version, numeric_only will default to False. Either specify numeric_only or select only columns which should be valid for the function.\n",
      "  .sum()\n"
     ]
    }
   ],
   "source": [
    "# group the vital df and sum the deaths\n",
    "new_vital_df = (\n",
    "    vital_df.groupby([\"COUNTY_NAME\", \"FIPS\", \"YEAR\", \"STATE\", \"DRUG\"])\n",
    "    .sum()\n",
    "    .reset_index()\n",
    ")\n"
   ]
  },
  {
   "cell_type": "markdown",
   "metadata": {},
   "source": [
    "***Check a sample to inspect data***"
   ]
  },
  {
   "cell_type": "code",
   "execution_count": 16,
   "metadata": {},
   "outputs": [],
   "source": [
    "# new_vital_df.sample(10)\n"
   ]
  },
  {
   "cell_type": "markdown",
   "metadata": {},
   "source": [
    "***Assert tests to verify that we have the right states, and some checks on the data***"
   ]
  },
  {
   "cell_type": "code",
   "execution_count": 17,
   "metadata": {},
   "outputs": [],
   "source": [
    "assert vital_df.all().isnull().sum() == 0\n",
    "# Assert that states are in the list\n",
    "assert set(vital_df[\"STATE\"].unique()) == set(states)\n",
    "# Still need to find a way to check if Vital is correctly chunked\n",
    "\n",
    "assert vital_df[\"DEATHS\"].sum() == new_vital_df[\"DEATHS\"].sum()\n"
   ]
  },
  {
   "cell_type": "markdown",
   "metadata": {},
   "source": [
    "***Save the output dataframe to the intermediate files directory***"
   ]
  },
  {
   "cell_type": "code",
   "execution_count": 18,
   "metadata": {},
   "outputs": [],
   "source": [
    "new_vital_df.to_csv(\"../20_intermediate_files/vital_clean.csv\", index=False)\n"
   ]
  },
  {
   "cell_type": "markdown",
   "metadata": {},
   "source": [
    "### Add FIPS Codes to the available data\n",
    "\n",
    "This chunk takes the path to FIPS codes and will ingest them into a dataframe"
   ]
  },
  {
   "cell_type": "markdown",
   "metadata": {},
   "source": [
    "***Ingest data***"
   ]
  },
  {
   "cell_type": "code",
   "execution_count": 19,
   "metadata": {},
   "outputs": [],
   "source": [
    "fips_path = \"../00_source_data/02_fcc_fips_codes.txt\"\n"
   ]
  },
  {
   "cell_type": "markdown",
   "metadata": {},
   "source": [
    "***start with counties***"
   ]
  },
  {
   "cell_type": "code",
   "execution_count": 20,
   "metadata": {},
   "outputs": [
    {
     "name": "stdout",
     "output_type": "stream",
     "text": [
      "Operation complete\n"
     ]
    }
   ],
   "source": [
    "# Ingest the fips codes\n",
    "fips_county_df = pd.read_table(fips_path, sep=\"\\t\", skiprows=71, header=\"infer\")\n",
    "\n",
    "# name the column header\n",
    "fips_county_df.columns = [\"FIPS\"]\n",
    "\n",
    "# split the FIPS column into two columns after the first 5 characters\n",
    "fips_county_df[\"COUNTY_NAME\"] = fips_county_df[\"FIPS\"].str[10:]\n",
    "\n",
    "# Turn the FIPS column into just the numbers\n",
    "fips_county_df[\"FIPS\"] = fips_county_df[\"FIPS\"].str[4:10]\n",
    "\n",
    "# remove the spaces from the county name\n",
    "fips_county_df[\"COUNTY_NAME\"] = fips_county_df[\"COUNTY_NAME\"].str.strip()\n",
    "\n",
    "# make county name upper\n",
    "fips_county_df[\"COUNTY_NAME\"] = fips_county_df[\"COUNTY_NAME\"].str.upper()\n",
    "\n",
    "print(\"Operation complete\")\n"
   ]
  },
  {
   "cell_type": "code",
   "execution_count": 21,
   "metadata": {},
   "outputs": [
    {
     "name": "stdout",
     "output_type": "stream",
     "text": [
      "Operation complete\n"
     ]
    }
   ],
   "source": [
    "# Ingest the fips codes\n",
    "fips_state_df = pd.read_table(fips_path, sep=\"\\t\", skiprows=15, header=\"infer\")\n",
    "\n",
    "# keep the first 50 rows\n",
    "fips_state_df = fips_state_df.iloc[0:50, :]\n",
    "\n",
    "# name the column header\n",
    "fips_state_df.columns = [\"FIPS\"]\n",
    "\n",
    "# # split the FIPS column into two columns after the first 5 characters\n",
    "fips_state_df[\"STATE\"] = fips_state_df[\"FIPS\"].str[10:]\n",
    "fips_state_df[\"STATE\"] = fips_state_df[\"STATE\"].str.strip()\n",
    "\n",
    "# #Turn the FIPS column into just the numbers\n",
    "fips_state_df[\"FIPS\"] = fips_state_df[\"FIPS\"].str[4:10]\n",
    "\n",
    "# merge to add the state abbreviations from the state_df\n",
    "fips_state_df = fips_state_df.merge(state_df, on=\"STATE\", how=\"left\")\n",
    "\n",
    "print(\"Operation complete\")\n"
   ]
  },
  {
   "cell_type": "markdown",
   "metadata": {},
   "source": [
    "***merge the two dataframes***"
   ]
  },
  {
   "cell_type": "code",
   "execution_count": 22,
   "metadata": {},
   "outputs": [],
   "source": [
    "# this is going to be a little different\n",
    "fips_df = fips_county_df.copy()\n",
    "\n",
    "# add a state column\n",
    "fips_df[\"STATE\"] = fips_df[\"COUNTY_NAME\"]\n",
    "\n",
    "# merge to get the state abbreviations\n",
    "fips_df = fips_df.merge(fips_state_df, on=\"STATE\", how=\"left\")\n",
    "\n",
    "# drop the state column\n",
    "fips_df = fips_df.drop(columns=[\"STATE\"])\n",
    "\n",
    "# rename the columns\n",
    "fips_df = fips_df.rename(\n",
    "    columns={\"FIPS_x\": \"FIPS\", \"ABBREV\": \"STATE\", \"FIPS_y\": \"STATE_FIPS\"}\n",
    ")\n",
    "\n",
    "# forward fill the state fips and state columns\n",
    "fips_df[\"STATE_FIPS\"] = fips_df[\"STATE_FIPS\"].fillna(method=\"ffill\")\n",
    "fips_df[\"STATE\"] = fips_df[\"STATE\"].fillna(method=\"ffill\")\n",
    "\n",
    "# add state to the county name\n",
    "fips_df[\"COUNTY_NAME\"] = fips_df[\"COUNTY_NAME\"] + \", \" + fips_df[\"STATE\"]\n",
    "\n",
    "# filter the df to the states of interest\n",
    "fips_df = fips_df[fips_df[\"STATE\"].isin(states)]\n"
   ]
  },
  {
   "cell_type": "markdown",
   "metadata": {},
   "source": [
    "***Sample the FIPS codes to see if we did it right***"
   ]
  },
  {
   "cell_type": "code",
   "execution_count": 23,
   "metadata": {},
   "outputs": [],
   "source": [
    "# fips_df.sample(10)\n"
   ]
  },
  {
   "cell_type": "markdown",
   "metadata": {},
   "source": [
    "***Add some assert tests***"
   ]
  },
  {
   "cell_type": "code",
   "execution_count": 24,
   "metadata": {},
   "outputs": [],
   "source": [
    "assert vital_df.all().isnull().sum() == 0\n",
    "# check the first two digits of the FIPS code to make sure they match with STATE_FIPS\n",
    "assert list(fips_df[\"FIPS\"].str[:2]) == list(\n",
    "    fips_df[\"STATE_FIPS\"].astype(str).str.strip()\n",
    ")\n",
    "# fips_df[\"FIPS\"].dtype\n"
   ]
  },
  {
   "cell_type": "markdown",
   "metadata": {},
   "source": [
    "***Save the FIPS file cleaned to the 20_intermediate_files directory***"
   ]
  },
  {
   "cell_type": "code",
   "execution_count": 25,
   "metadata": {},
   "outputs": [],
   "source": [
    "# save the fips_df to a csv\n",
    "fips_df.to_csv(\"../20_intermediate_files/fips_df.csv\", index=False)\n"
   ]
  },
  {
   "cell_type": "markdown",
   "metadata": {},
   "source": [
    "### Census Data\n",
    "\n",
    "This chunk will ingest filtered county population data and return a dataframe"
   ]
  },
  {
   "cell_type": "markdown",
   "metadata": {},
   "source": [
    "***Ingest data***"
   ]
  },
  {
   "cell_type": "code",
   "execution_count": 26,
   "metadata": {},
   "outputs": [],
   "source": [
    "# set the directory path to the raw data\n",
    "census_path = \"../00_source_data/01_census_data.xlsx\"\n"
   ]
  },
  {
   "cell_type": "code",
   "execution_count": 27,
   "metadata": {},
   "outputs": [],
   "source": [
    "# ingest the raw data and filter for states of interest\n",
    "census_df = pd.read_excel(census_path, header=0, skiprows=4, usecols=\"A:B\")\n",
    "\n",
    "# Change the column names to county name and population\n",
    "census_df.columns = [\"COUNTY_NAME\", \"POPULATION\"]\n",
    "\n",
    "# remove the leading period from the county name\n",
    "census_df[\"COUNTY_NAME\"] = census_df[\"COUNTY_NAME\"].str[1:]\n",
    "\n",
    "# move the state name to its own column\n",
    "census_df[\"STATE\"] = census_df[\"COUNTY_NAME\"].str.split(\",\").str[1]\n",
    "census_df[\"STATE\"] = census_df[\"STATE\"].str.strip()\n",
    "census_df[\"STATE\"] = census_df[\"STATE\"].str.upper()\n",
    "\n",
    "# remove the state name from the county name\n",
    "census_df[\"COUNTY_NAME\"] = census_df[\"COUNTY_NAME\"].str.split(\",\").str[0]\n",
    "\n",
    "# change population to an integer\n",
    "census_df[\"POPULATION\"] = census_df[\"POPULATION\"].astype(\"Int64\")\n",
    "\n",
    "# add an abbreviation column for the state from the state_df\n",
    "census_df_merge = census_df.merge(state_df, on=\"STATE\", how=\"outer\")\n",
    "\n",
    "# reformat county name to include abbrev\n",
    "census_df_merge[\"COUNTY_NAME\"] = (\n",
    "    census_df_merge[\"COUNTY_NAME\"] + \", \" + census_df_merge[\"ABBREV\"]\n",
    ")\n",
    "census_df_merge[\"COUNTY_NAME\"] = census_df_merge[\"COUNTY_NAME\"].str.upper()\n",
    "\n",
    "# remove the state column\n",
    "census_df_merge = census_df_merge.drop(columns=\"STATE\")\n",
    "\n",
    "# rename the abbrev column to state\n",
    "census_df_merge = census_df_merge.rename(columns={\"ABBREV\": \"STATE\"})\n",
    "\n",
    "# filter for the states of interest\n",
    "census_df_merge = census_df_merge[census_df_merge[\"STATE\"].isin(states)].copy()\n"
   ]
  },
  {
   "cell_type": "markdown",
   "metadata": {},
   "source": [
    "***Sample to see if we did it right***"
   ]
  },
  {
   "cell_type": "code",
   "execution_count": 28,
   "metadata": {},
   "outputs": [],
   "source": [
    "# census_df_merge[\"STATE\"].unique()"
   ]
  },
  {
   "cell_type": "code",
   "execution_count": 29,
   "metadata": {},
   "outputs": [],
   "source": [
    "# census_df_merge.sample(10)\n"
   ]
  },
  {
   "cell_type": "markdown",
   "metadata": {},
   "source": [
    "***Add assert tests***"
   ]
  },
  {
   "cell_type": "code",
   "execution_count": 30,
   "metadata": {},
   "outputs": [],
   "source": [
    "# number of counties in each state we have picked, according to google and wikipedia\n",
    "counties = {\"FL\":67,\"AL\":67, \"GA\":159, \"MS\":82, \"SC\":46, \"TX\":254 , \"OK\":77, \"AZ\":15, \"NM\":33, \"WA\":39, \"OR\":36, \"ID\":44, \"CA\":58, \"NY\":62}\n",
    "# check we have all the counties in our dictionary\n",
    "assert set(census_df_merge[\"STATE\"].unique()) == set(counties.keys())"
   ]
  },
  {
   "cell_type": "code",
   "execution_count": 31,
   "metadata": {},
   "outputs": [],
   "source": [
    "assert census_df_merge.all().isnull().sum() == 0\n",
    "# check last two characters of county name to make sure they match with state for consistency\n",
    "assert list(census_df_merge[\"COUNTY_NAME\"].str[-2:]) == list(census_df_merge[\"STATE\"])\n",
    "# we need to check county numbers to make sure they match (when we know which control states we want)\n",
    "assert census_df_merge[\"COUNTY_NAME\"].nunique() == sum(counties.values())"
   ]
  },
  {
   "cell_type": "code",
   "execution_count": 32,
   "metadata": {},
   "outputs": [
    {
     "data": {
      "text/html": [
       "<div>\n",
       "<style scoped>\n",
       "    .dataframe tbody tr th:only-of-type {\n",
       "        vertical-align: middle;\n",
       "    }\n",
       "\n",
       "    .dataframe tbody tr th {\n",
       "        vertical-align: top;\n",
       "    }\n",
       "\n",
       "    .dataframe thead th {\n",
       "        text-align: right;\n",
       "    }\n",
       "</style>\n",
       "<table border=\"1\" class=\"dataframe\">\n",
       "  <thead>\n",
       "    <tr style=\"text-align: right;\">\n",
       "      <th></th>\n",
       "      <th>COUNTY_NAME</th>\n",
       "      <th>POPULATION</th>\n",
       "      <th>STATE</th>\n",
       "    </tr>\n",
       "  </thead>\n",
       "  <tbody>\n",
       "    <tr>\n",
       "      <th>1802</th>\n",
       "      <td>DONA ANA COUNTY, NM</td>\n",
       "      <td>209233</td>\n",
       "      <td>NM</td>\n",
       "    </tr>\n",
       "  </tbody>\n",
       "</table>\n",
       "</div>"
      ],
      "text/plain": [
       "              COUNTY_NAME  POPULATION STATE\n",
       "1802  DONA ANA COUNTY, NM      209233    NM"
      ]
     },
     "execution_count": 32,
     "metadata": {},
     "output_type": "execute_result"
    }
   ],
   "source": [
    "# change county name of \"DOÑA ANA COUNTY, NM\" to \"DONA ANA COUNTY, NM\" to match other datasets for consistency\n",
    "census_df_merge[\"COUNTY_NAME\"] = census_df_merge[\"COUNTY_NAME\"].str.replace(\"DOÑA\", \"DONA\")\n",
    "# check county name contains \"DONA\"\n",
    "census_df_merge[census_df_merge[\"COUNTY_NAME\"].str.contains(\"DONA\")]\n"
   ]
  },
  {
   "cell_type": "code",
   "execution_count": 33,
   "metadata": {},
   "outputs": [
    {
     "data": {
      "text/html": [
       "<div>\n",
       "<style scoped>\n",
       "    .dataframe tbody tr th:only-of-type {\n",
       "        vertical-align: middle;\n",
       "    }\n",
       "\n",
       "    .dataframe tbody tr th {\n",
       "        vertical-align: top;\n",
       "    }\n",
       "\n",
       "    .dataframe thead th {\n",
       "        text-align: right;\n",
       "    }\n",
       "</style>\n",
       "<table border=\"1\" class=\"dataframe\">\n",
       "  <thead>\n",
       "    <tr style=\"text-align: right;\">\n",
       "      <th></th>\n",
       "      <th>COUNTY_NAME</th>\n",
       "      <th>POPULATION</th>\n",
       "      <th>STATE</th>\n",
       "    </tr>\n",
       "  </thead>\n",
       "  <tbody>\n",
       "    <tr>\n",
       "      <th>1801</th>\n",
       "      <td>DEBACA COUNTY, NM</td>\n",
       "      <td>2022</td>\n",
       "      <td>NM</td>\n",
       "    </tr>\n",
       "  </tbody>\n",
       "</table>\n",
       "</div>"
      ],
      "text/plain": [
       "            COUNTY_NAME  POPULATION STATE\n",
       "1801  DEBACA COUNTY, NM        2022    NM"
      ]
     },
     "execution_count": 33,
     "metadata": {},
     "output_type": "execute_result"
    }
   ],
   "source": [
    "# replace country name of \"DE BACA COUNTY, NM\" to \"DEBACA COUNTY, NM\" to match other datasets\n",
    "census_df_merge[\"COUNTY_NAME\"] = census_df_merge[\"COUNTY_NAME\"].str.replace(\"DE BACA\", \"DEBACA\")\n",
    "census_df_merge[census_df_merge[\"COUNTY_NAME\"].str.contains(\"BACA\")]\n"
   ]
  },
  {
   "cell_type": "markdown",
   "metadata": {},
   "source": [
    "***Save the output file to the intermediate files directory***"
   ]
  },
  {
   "cell_type": "code",
   "execution_count": 34,
   "metadata": {},
   "outputs": [],
   "source": [
    "# save the file to the intermediate folder\n",
    "census_df_merge.to_csv(\"../20_intermediate_files/census_df.csv\", index=False)\n"
   ]
  },
  {
   "cell_type": "code",
   "execution_count": null,
   "metadata": {},
   "outputs": [],
   "source": []
  }
 ],
 "metadata": {
  "kernelspec": {
   "display_name": "Python 3.10.6 ('base')",
   "language": "python",
   "name": "python3"
  },
  "language_info": {
   "codemirror_mode": {
    "name": "ipython",
    "version": 3
   },
   "file_extension": ".py",
   "mimetype": "text/x-python",
   "name": "python",
   "nbconvert_exporter": "python",
   "pygments_lexer": "ipython3",
   "version": "3.10.6"
  },
  "orig_nbformat": 4,
  "vscode": {
   "interpreter": {
    "hash": "84b9370629bc80826ce6aeb009e770dfe4ed6af6eef03d00ae361c57df430492"
   }
  }
 },
 "nbformat": 4,
 "nbformat_minor": 2
}
